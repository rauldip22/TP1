{
 "cells": [
  {
   "cell_type": "code",
   "execution_count": 2,
   "metadata": {},
   "outputs": [],
   "source": [
    "import pandas as pd\n",
    "import numpy as np\n",
    "from matplotlib import pyplot as plt"
   ]
  },
  {
   "cell_type": "code",
   "execution_count": 3,
   "metadata": {},
   "outputs": [],
   "source": [
    "path = 'C:\\\\Users\\\\RAUL\\\\Documents\\\\'"
   ]
  },
  {
   "cell_type": "code",
   "execution_count": 4,
   "metadata": {},
   "outputs": [],
   "source": [
    "post_Educ = pd.read_csv(path + 'fiuba_1_postulantes_educacion.csv')\n",
    "post_GyE = pd.read_csv(path + 'fiuba_2_postulantes_genero_y_edad.csv')\n",
    "vistas = pd.read_csv(path + 'fiuba_3_vistas.csv')\n",
    "postulaciones = pd.read_csv(path + 'fiuba_4_postulaciones.csv')\n",
    "avisos = pd.read_csv(path + 'fiuba_5_avisos_online.csv')\n",
    "avisos_Dt = pd.read_csv(path + 'fiuba_6_avisos_detalle.csv')"
   ]
  },
  {
   "cell_type": "code",
   "execution_count": 5,
   "metadata": {},
   "outputs": [],
   "source": [
    "vistas.columns = ['idaviso','timestamp','idpostulante']\n",
    "#vistas.merge(postulaciones, on = 'idaviso')"
   ]
  },
  {
   "cell_type": "code",
   "execution_count": 6,
   "metadata": {},
   "outputs": [],
   "source": [
    "vistas_con_postulaciones = vistas.merge(postulaciones, on = ['idaviso', 'idpostulante'])"
   ]
  },
  {
   "cell_type": "code",
   "execution_count": 7,
   "metadata": {},
   "outputs": [
    {
     "data": {
      "text/html": [
       "<div>\n",
       "<style scoped>\n",
       "    .dataframe tbody tr th:only-of-type {\n",
       "        vertical-align: middle;\n",
       "    }\n",
       "\n",
       "    .dataframe tbody tr th {\n",
       "        vertical-align: top;\n",
       "    }\n",
       "\n",
       "    .dataframe thead th {\n",
       "        text-align: right;\n",
       "    }\n",
       "</style>\n",
       "<table border=\"1\" class=\"dataframe\">\n",
       "  <thead>\n",
       "    <tr style=\"text-align: right;\">\n",
       "      <th></th>\n",
       "      <th>idaviso</th>\n",
       "      <th>timestamp</th>\n",
       "      <th>idpostulante</th>\n",
       "      <th>fechapostulacion</th>\n",
       "    </tr>\n",
       "  </thead>\n",
       "  <tbody>\n",
       "    <tr>\n",
       "      <th>0</th>\n",
       "      <td>1111780242</td>\n",
       "      <td>2018-02-23T13:38:13.187-0500</td>\n",
       "      <td>YjVJQ6Z</td>\n",
       "      <td>2018-02-23 13:38:49</td>\n",
       "    </tr>\n",
       "    <tr>\n",
       "      <th>1</th>\n",
       "      <td>1112327963</td>\n",
       "      <td>2018-02-23T13:38:14.329-0500</td>\n",
       "      <td>wVkBzZd</td>\n",
       "      <td>2018-02-23 13:39:23</td>\n",
       "    </tr>\n",
       "    <tr>\n",
       "      <th>2</th>\n",
       "      <td>1111903673</td>\n",
       "      <td>2018-02-23T13:38:18.973-0500</td>\n",
       "      <td>DrpbXDP</td>\n",
       "      <td>2018-02-23 13:38:40</td>\n",
       "    </tr>\n",
       "    <tr>\n",
       "      <th>3</th>\n",
       "      <td>1112355613</td>\n",
       "      <td>2018-02-23T13:38:23.467-0500</td>\n",
       "      <td>rmdWApz</td>\n",
       "      <td>2018-02-23 13:39:42</td>\n",
       "    </tr>\n",
       "    <tr>\n",
       "      <th>4</th>\n",
       "      <td>1112355613</td>\n",
       "      <td>2018-02-23T13:38:22.387-0500</td>\n",
       "      <td>rmdWApz</td>\n",
       "      <td>2018-02-23 13:39:42</td>\n",
       "    </tr>\n",
       "  </tbody>\n",
       "</table>\n",
       "</div>"
      ],
      "text/plain": [
       "      idaviso                     timestamp idpostulante     fechapostulacion\n",
       "0  1111780242  2018-02-23T13:38:13.187-0500      YjVJQ6Z  2018-02-23 13:38:49\n",
       "1  1112327963  2018-02-23T13:38:14.329-0500      wVkBzZd  2018-02-23 13:39:23\n",
       "2  1111903673  2018-02-23T13:38:18.973-0500      DrpbXDP  2018-02-23 13:38:40\n",
       "3  1112355613  2018-02-23T13:38:23.467-0500      rmdWApz  2018-02-23 13:39:42\n",
       "4  1112355613  2018-02-23T13:38:22.387-0500      rmdWApz  2018-02-23 13:39:42"
      ]
     },
     "execution_count": 7,
     "metadata": {},
     "output_type": "execute_result"
    }
   ],
   "source": [
    "vistas_con_postulaciones.head()"
   ]
  },
  {
   "cell_type": "code",
   "execution_count": 8,
   "metadata": {},
   "outputs": [],
   "source": [
    "vistas_con_postulaciones['fechapostulacion'] = pd.to_datetime(vistas_con_postulaciones['fechapostulacion'])"
   ]
  },
  {
   "cell_type": "code",
   "execution_count": 9,
   "metadata": {},
   "outputs": [
    {
     "name": "stdout",
     "output_type": "stream",
     "text": [
      "<class 'pandas.core.frame.DataFrame'>\n",
      "Int64Index: 529554 entries, 0 to 529553\n",
      "Data columns (total 4 columns):\n",
      "idaviso             529554 non-null int64\n",
      "timestamp           529554 non-null object\n",
      "idpostulante        529554 non-null object\n",
      "fechapostulacion    529554 non-null datetime64[ns]\n",
      "dtypes: datetime64[ns](1), int64(1), object(2)\n",
      "memory usage: 20.2+ MB\n"
     ]
    }
   ],
   "source": [
    "vistas_con_postulaciones.info()"
   ]
  },
  {
   "cell_type": "code",
   "execution_count": 10,
   "metadata": {},
   "outputs": [],
   "source": [
    "vistas_con_postulaciones['timestamp'] = pd.to_datetime(vistas_con_postulaciones['timestamp'])"
   ]
  },
  {
   "cell_type": "code",
   "execution_count": 11,
   "metadata": {},
   "outputs": [],
   "source": [
    "vistas_con_postulaciones.columns = ['idAviso','fechaVisita','idPostulante','fechaPostulacion']"
   ]
  },
  {
   "cell_type": "code",
   "execution_count": 12,
   "metadata": {},
   "outputs": [
    {
     "data": {
      "text/plain": [
       "(529554, 4)"
      ]
     },
     "execution_count": 12,
     "metadata": {},
     "output_type": "execute_result"
    }
   ],
   "source": [
    "vistas_con_postulaciones.shape"
   ]
  },
  {
   "cell_type": "code",
   "execution_count": 13,
   "metadata": {},
   "outputs": [],
   "source": [
    "df = vistas_con_postulaciones[vistas_con_postulaciones['fechaPostulacion']>vistas_con_postulaciones['fechaVisita']]"
   ]
  },
  {
   "cell_type": "code",
   "execution_count": 14,
   "metadata": {},
   "outputs": [
    {
     "data": {
      "text/html": [
       "<div>\n",
       "<style scoped>\n",
       "    .dataframe tbody tr th:only-of-type {\n",
       "        vertical-align: middle;\n",
       "    }\n",
       "\n",
       "    .dataframe tbody tr th {\n",
       "        vertical-align: top;\n",
       "    }\n",
       "\n",
       "    .dataframe thead th {\n",
       "        text-align: right;\n",
       "    }\n",
       "</style>\n",
       "<table border=\"1\" class=\"dataframe\">\n",
       "  <thead>\n",
       "    <tr style=\"text-align: right;\">\n",
       "      <th></th>\n",
       "      <th>idAviso</th>\n",
       "      <th>fechaVisita</th>\n",
       "      <th>idPostulante</th>\n",
       "      <th>fechaPostulacion</th>\n",
       "    </tr>\n",
       "  </thead>\n",
       "  <tbody>\n",
       "    <tr>\n",
       "      <th>9</th>\n",
       "      <td>1112342544</td>\n",
       "      <td>2018-02-23 18:38:31.601</td>\n",
       "      <td>8M24rbM</td>\n",
       "      <td>2018-02-23 18:41:25</td>\n",
       "    </tr>\n",
       "    <tr>\n",
       "      <th>134</th>\n",
       "      <td>1112299579</td>\n",
       "      <td>2018-02-23 18:43:40.160</td>\n",
       "      <td>ebQBjB</td>\n",
       "      <td>2018-02-28 07:23:32</td>\n",
       "    </tr>\n",
       "    <tr>\n",
       "      <th>135</th>\n",
       "      <td>1112299579</td>\n",
       "      <td>2018-02-23 18:43:40.924</td>\n",
       "      <td>ebQBjB</td>\n",
       "      <td>2018-02-28 07:23:32</td>\n",
       "    </tr>\n",
       "    <tr>\n",
       "      <th>612</th>\n",
       "      <td>1112355270</td>\n",
       "      <td>2018-02-23 18:46:12.197</td>\n",
       "      <td>Y06eVD</td>\n",
       "      <td>2018-02-27 07:27:04</td>\n",
       "    </tr>\n",
       "    <tr>\n",
       "      <th>613</th>\n",
       "      <td>1112355270</td>\n",
       "      <td>2018-02-23 18:46:11.632</td>\n",
       "      <td>Y06eVD</td>\n",
       "      <td>2018-02-27 07:27:04</td>\n",
       "    </tr>\n",
       "  </tbody>\n",
       "</table>\n",
       "</div>"
      ],
      "text/plain": [
       "        idAviso             fechaVisita idPostulante    fechaPostulacion\n",
       "9    1112342544 2018-02-23 18:38:31.601      8M24rbM 2018-02-23 18:41:25\n",
       "134  1112299579 2018-02-23 18:43:40.160       ebQBjB 2018-02-28 07:23:32\n",
       "135  1112299579 2018-02-23 18:43:40.924       ebQBjB 2018-02-28 07:23:32\n",
       "612  1112355270 2018-02-23 18:46:12.197       Y06eVD 2018-02-27 07:27:04\n",
       "613  1112355270 2018-02-23 18:46:11.632       Y06eVD 2018-02-27 07:27:04"
      ]
     },
     "execution_count": 14,
     "metadata": {},
     "output_type": "execute_result"
    }
   ],
   "source": [
    "df.head()"
   ]
  },
  {
   "cell_type": "code",
   "execution_count": 15,
   "metadata": {},
   "outputs": [],
   "source": [
    "dfx = df.groupby(['idPostulante','idAviso']).count()"
   ]
  },
  {
   "cell_type": "code",
   "execution_count": 16,
   "metadata": {},
   "outputs": [
    {
     "data": {
      "text/html": [
       "<div>\n",
       "<style scoped>\n",
       "    .dataframe tbody tr th:only-of-type {\n",
       "        vertical-align: middle;\n",
       "    }\n",
       "\n",
       "    .dataframe tbody tr th {\n",
       "        vertical-align: top;\n",
       "    }\n",
       "\n",
       "    .dataframe thead th {\n",
       "        text-align: right;\n",
       "    }\n",
       "</style>\n",
       "<table border=\"1\" class=\"dataframe\">\n",
       "  <thead>\n",
       "    <tr style=\"text-align: right;\">\n",
       "      <th></th>\n",
       "      <th></th>\n",
       "      <th>fechaVisita</th>\n",
       "      <th>fechaPostulacion</th>\n",
       "    </tr>\n",
       "    <tr>\n",
       "      <th>idPostulante</th>\n",
       "      <th>idAviso</th>\n",
       "      <th></th>\n",
       "      <th></th>\n",
       "    </tr>\n",
       "  </thead>\n",
       "  <tbody>\n",
       "    <tr>\n",
       "      <th>0zB3Nz9</th>\n",
       "      <th>1112360030</th>\n",
       "      <td>1</td>\n",
       "      <td>1</td>\n",
       "    </tr>\n",
       "    <tr>\n",
       "      <th>0zBVWEq</th>\n",
       "      <th>1112343448</th>\n",
       "      <td>2</td>\n",
       "      <td>2</td>\n",
       "    </tr>\n",
       "    <tr>\n",
       "      <th>0zBkkeM</th>\n",
       "      <th>1112359616</th>\n",
       "      <td>1</td>\n",
       "      <td>1</td>\n",
       "    </tr>\n",
       "    <tr>\n",
       "      <th>0zN16NE</th>\n",
       "      <th>1112366909</th>\n",
       "      <td>1</td>\n",
       "      <td>1</td>\n",
       "    </tr>\n",
       "    <tr>\n",
       "      <th>0zP0VQa</th>\n",
       "      <th>1112361874</th>\n",
       "      <td>2</td>\n",
       "      <td>2</td>\n",
       "    </tr>\n",
       "  </tbody>\n",
       "</table>\n",
       "</div>"
      ],
      "text/plain": [
       "                         fechaVisita  fechaPostulacion\n",
       "idPostulante idAviso                                  \n",
       "0zB3Nz9      1112360030            1                 1\n",
       "0zBVWEq      1112343448            2                 2\n",
       "0zBkkeM      1112359616            1                 1\n",
       "0zN16NE      1112366909            1                 1\n",
       "0zP0VQa      1112361874            2                 2"
      ]
     },
     "execution_count": 16,
     "metadata": {},
     "output_type": "execute_result"
    }
   ],
   "source": [
    "dfx.head()"
   ]
  },
  {
   "cell_type": "code",
   "execution_count": 17,
   "metadata": {},
   "outputs": [
    {
     "data": {
      "text/plain": [
       "1.935672514619883"
      ]
     },
     "execution_count": 17,
     "metadata": {},
     "output_type": "execute_result"
    }
   ],
   "source": [
    "dfx['fechaVisita'].mean()"
   ]
  },
  {
   "cell_type": "code",
   "execution_count": 30,
   "metadata": {},
   "outputs": [],
   "source": [
    "#En promedio, un postulante visita 1.93 veces un aviso antes de postularse"
   ]
  },
  {
   "cell_type": "code",
   "execution_count": 31,
   "metadata": {},
   "outputs": [
    {
     "data": {
      "text/plain": [
       "1     1050\n",
       "2      427\n",
       "3      199\n",
       "4      113\n",
       "5       36\n",
       "6       21\n",
       "7       15\n",
       "8        7\n",
       "9        4\n",
       "24       2\n",
       "17       2\n",
       "48       1\n",
       "18       1\n",
       "16       1\n",
       "11       1\n",
       "10       1\n",
       "Name: fechaVisita, dtype: int64"
      ]
     },
     "execution_count": 31,
     "metadata": {},
     "output_type": "execute_result"
    }
   ],
   "source": [
    "dfx['fechaVisita'].value_counts()"
   ]
  },
  {
   "cell_type": "code",
   "execution_count": 34,
   "metadata": {},
   "outputs": [
    {
     "data": {
      "image/png": "[encoded data removed]",
      "text/plain": [
       "<matplotlib.figure.Figure at 0x195196dea90>"
      ]
     },
     "metadata": {},
     "output_type": "display_data"
    }
   ],
   "source": [
    "fig=plt.figure()\n",
    "\n",
    "plt.title('Stars variable: Density Plot',fontsize=16,fontweight='bold')\n",
    "ax.set_ylabel('stars')\n",
    "ax.set_xlim([0,20])\n",
    "np.log(dfx['fechaVisita']).plot.hist()\n",
    "\n",
    "plt.show()"
   ]
  },
  {
   "cell_type": "code",
   "execution_count": null,
   "metadata": {},
   "outputs": [],
   "source": []
  }
 ],
 "metadata": {
  "kernelspec": {
   "display_name": "Python 3",
   "language": "python",
   "name": "python3"
  },
  "language_info": {
   "codemirror_mode": {
    "name": "ipython",
    "version": 3
   },
   "file_extension": ".py",
   "mimetype": "text/x-python",
   "name": "python",
   "nbconvert_exporter": "python",
   "pygments_lexer": "ipython3",
   "version": "3.6.3"
  }
 },
 "nbformat": 4,
 "nbformat_minor": 2
}
