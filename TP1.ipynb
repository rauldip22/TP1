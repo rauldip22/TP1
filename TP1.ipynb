{
 "cells": [
  {
   "cell_type": "code",
   "execution_count": 1,
   "metadata": {},
   "outputs": [],
   "source": [
    "import pandas as pd\n",
    "import numpy as np\n",
    "import matplotlib.pyplot as plt\n",
    "import seaborn as sns\n",
    "\n",
    "\n",
    "# statistical tests\n",
    "import scipy.stats as stats\n",
    "\n",
    "%matplotlib inline"
   ]
  },
  {
   "cell_type": "markdown",
   "metadata": {},
   "source": [
    "# Read Data"
   ]
  },
  {
   "cell_type": "raw",
   "metadata": {},
   "source": [
    "* Load datasets\n",
    "* In each dataset check for missing data, duplicates, etc\n",
    "* Basic plots for all variables in each dataset"
   ]
  },
  {
   "cell_type": "code",
   "execution_count": 2,
   "metadata": {},
   "outputs": [
    {
     "data": {
      "text/html": [
       "<div>\n",
       "<style>\n",
       "    .dataframe thead tr:only-child th {\n",
       "        text-align: right;\n",
       "    }\n",
       "\n",
       "    .dataframe thead th {\n",
       "        text-align: left;\n",
       "    }\n",
       "\n",
       "    .dataframe tbody tr th {\n",
       "        vertical-align: top;\n",
       "    }\n",
       "</style>\n",
       "<table border=\"1\" class=\"dataframe\">\n",
       "  <thead>\n",
       "    <tr style=\"text-align: right;\">\n",
       "      <th></th>\n",
       "      <th>idpostulante</th>\n",
       "      <th>nombre</th>\n",
       "      <th>estado</th>\n",
       "    </tr>\n",
       "  </thead>\n",
       "  <tbody>\n",
       "    <tr>\n",
       "      <th>0</th>\n",
       "      <td>NdJl</td>\n",
       "      <td>Posgrado</td>\n",
       "      <td>En Curso</td>\n",
       "    </tr>\n",
       "    <tr>\n",
       "      <th>1</th>\n",
       "      <td>8BkL</td>\n",
       "      <td>Universitario</td>\n",
       "      <td>En Curso</td>\n",
       "    </tr>\n",
       "    <tr>\n",
       "      <th>2</th>\n",
       "      <td>1d2B</td>\n",
       "      <td>Universitario</td>\n",
       "      <td>En Curso</td>\n",
       "    </tr>\n",
       "    <tr>\n",
       "      <th>3</th>\n",
       "      <td>NPBx</td>\n",
       "      <td>Universitario</td>\n",
       "      <td>En Curso</td>\n",
       "    </tr>\n",
       "    <tr>\n",
       "      <th>4</th>\n",
       "      <td>NPBx</td>\n",
       "      <td>Master</td>\n",
       "      <td>En Curso</td>\n",
       "    </tr>\n",
       "  </tbody>\n",
       "</table>\n",
       "</div>"
      ],
      "text/plain": [
       "  idpostulante         nombre    estado\n",
       "0         NdJl       Posgrado  En Curso\n",
       "1         8BkL  Universitario  En Curso\n",
       "2         1d2B  Universitario  En Curso\n",
       "3         NPBx  Universitario  En Curso\n",
       "4         NPBx         Master  En Curso"
      ]
     },
     "execution_count": 2,
     "metadata": {},
     "output_type": "execute_result"
    }
   ],
   "source": [
    "educacion = pd.read_csv('Data/datos_navent_fiuba/fiuba_1_postulantes_educacion.csv')\n",
    "educacion.head()"
   ]
  },
  {
   "cell_type": "code",
   "execution_count": 3,
   "metadata": {},
   "outputs": [
    {
     "data": {
      "text/plain": [
       "(298231, 3)"
      ]
     },
     "execution_count": 3,
     "metadata": {},
     "output_type": "execute_result"
    }
   ],
   "source": [
    "educacion.shape"
   ]
  },
  {
   "cell_type": "code",
   "execution_count": 4,
   "metadata": {},
   "outputs": [
    {
     "data": {
      "text/plain": [
       "idpostulante    object\n",
       "nombre          object\n",
       "estado          object\n",
       "dtype: object"
      ]
     },
     "execution_count": 4,
     "metadata": {},
     "output_type": "execute_result"
    }
   ],
   "source": [
    "educacion.dtypes"
   ]
  },
  {
   "cell_type": "code",
   "execution_count": 5,
   "metadata": {},
   "outputs": [
    {
     "data": {
      "text/html": [
       "<div>\n",
       "<style>\n",
       "    .dataframe thead tr:only-child th {\n",
       "        text-align: right;\n",
       "    }\n",
       "\n",
       "    .dataframe thead th {\n",
       "        text-align: left;\n",
       "    }\n",
       "\n",
       "    .dataframe tbody tr th {\n",
       "        vertical-align: top;\n",
       "    }\n",
       "</style>\n",
       "<table border=\"1\" class=\"dataframe\">\n",
       "  <thead>\n",
       "    <tr style=\"text-align: right;\">\n",
       "      <th></th>\n",
       "      <th>idpostulante</th>\n",
       "      <th>nombre</th>\n",
       "      <th>estado</th>\n",
       "    </tr>\n",
       "  </thead>\n",
       "  <tbody>\n",
       "    <tr>\n",
       "      <th>count</th>\n",
       "      <td>298231</td>\n",
       "      <td>298231</td>\n",
       "      <td>298231</td>\n",
       "    </tr>\n",
       "    <tr>\n",
       "      <th>unique</th>\n",
       "      <td>188752</td>\n",
       "      <td>7</td>\n",
       "      <td>3</td>\n",
       "    </tr>\n",
       "    <tr>\n",
       "      <th>top</th>\n",
       "      <td>YlMLGD</td>\n",
       "      <td>Secundario</td>\n",
       "      <td>Graduado</td>\n",
       "    </tr>\n",
       "    <tr>\n",
       "      <th>freq</th>\n",
       "      <td>9</td>\n",
       "      <td>110256</td>\n",
       "      <td>194474</td>\n",
       "    </tr>\n",
       "  </tbody>\n",
       "</table>\n",
       "</div>"
      ],
      "text/plain": [
       "       idpostulante      nombre    estado\n",
       "count        298231      298231    298231\n",
       "unique       188752           7         3\n",
       "top          YlMLGD  Secundario  Graduado\n",
       "freq              9      110256    194474"
      ]
     },
     "execution_count": 5,
     "metadata": {},
     "output_type": "execute_result"
    }
   ],
   "source": [
    "educacion.describe(include='all')"
   ]
  },
  {
   "cell_type": "code",
   "execution_count": 6,
   "metadata": {},
   "outputs": [
    {
     "data": {
      "text/plain": [
       "idpostulante    0\n",
       "nombre          0\n",
       "estado          0\n",
       "dtype: int64"
      ]
     },
     "execution_count": 6,
     "metadata": {},
     "output_type": "execute_result"
    }
   ],
   "source": [
    "# check for missing values\n",
    "educacion.isnull().sum()"
   ]
  },
  {
   "cell_type": "code",
   "execution_count": 7,
   "metadata": {},
   "outputs": [
    {
     "data": {
      "text/plain": [
       "0"
      ]
     },
     "execution_count": 7,
     "metadata": {},
     "output_type": "execute_result"
    }
   ],
   "source": [
    "# before we saw that there are duplicate ids , check for duplicate rows\n",
    "educacion.duplicated(['idpostulante','nombre','estado'],keep='first').sum()"
   ]
  },
  {
   "cell_type": "code",
   "execution_count": 8,
   "metadata": {},
   "outputs": [
    {
     "data": {
      "text/plain": [
       "RangeIndex(start=0, stop=298231, step=1)"
      ]
     },
     "execution_count": 8,
     "metadata": {},
     "output_type": "execute_result"
    }
   ],
   "source": [
    "educacion.index"
   ]
  },
  {
   "cell_type": "code",
   "execution_count": 9,
   "metadata": {},
   "outputs": [
    {
     "data": {
      "text/plain": [
       "1    110256\n",
       "3    104295\n",
       "2     47733\n",
       "0     24748\n",
       "4      7387\n",
       "5      3598\n",
       "6       214\n",
       "Name: nombre_num, dtype: int64"
      ]
     },
     "execution_count": 9,
     "metadata": {},
     "output_type": "execute_result"
    }
   ],
   "source": [
    "# assume the highest education and state for each id - make education numeric\n",
    "educacion['nombre_num'] = np.where(educacion['nombre'] == 'Otro', 0, \n",
    "                                  np.where(educacion['nombre'] == 'Secundario',1,\n",
    "                                          np.where(educacion['nombre'] == 'Terciario/Técnico',2,  \n",
    "                                              np.where(educacion['nombre'] == 'Universitario',3,\n",
    "                                                       np.where(educacion['nombre'] == 'Posgrado',4,\n",
    "                                                                np.where(educacion['nombre'] == 'Master',5,6\n",
    "                                                      ))))))\n",
    "educacion['nombre_num'].value_counts()"
   ]
  },
  {
   "cell_type": "code",
   "execution_count": 10,
   "metadata": {},
   "outputs": [
    {
     "data": {
      "text/plain": [
       "2    194474\n",
       "1     78531\n",
       "0     25226\n",
       "Name: estado_num, dtype: int64"
      ]
     },
     "execution_count": 10,
     "metadata": {},
     "output_type": "execute_result"
    }
   ],
   "source": [
    "# assume the highest completed# assume the highest education and state for each id - make state numeric\n",
    "educacion['estado_num'] = np.where(educacion['estado'] == 'Abandonado', 0, \n",
    "                                  np.where(educacion['estado'] == 'En Curso',1, 2\n",
    "                                                      ))\n",
    "educacion['estado_num'].value_counts() "
   ]
  },
  {
   "cell_type": "code",
   "execution_count": 11,
   "metadata": {},
   "outputs": [],
   "source": [
    "educacion['highest_level'] = educacion['estado_num'] + educacion['nombre_num']"
   ]
  },
  {
   "cell_type": "code",
   "execution_count": 12,
   "metadata": {},
   "outputs": [
    {
     "data": {
      "text/html": [
       "<div>\n",
       "<style>\n",
       "    .dataframe thead tr:only-child th {\n",
       "        text-align: right;\n",
       "    }\n",
       "\n",
       "    .dataframe thead th {\n",
       "        text-align: left;\n",
       "    }\n",
       "\n",
       "    .dataframe tbody tr th {\n",
       "        vertical-align: top;\n",
       "    }\n",
       "</style>\n",
       "<table border=\"1\" class=\"dataframe\">\n",
       "  <thead>\n",
       "    <tr style=\"text-align: right;\">\n",
       "      <th></th>\n",
       "      <th>idpostulante</th>\n",
       "      <th>nombre</th>\n",
       "      <th>estado</th>\n",
       "      <th>nombre_num</th>\n",
       "      <th>estado_num</th>\n",
       "      <th>highest_level</th>\n",
       "    </tr>\n",
       "  </thead>\n",
       "  <tbody>\n",
       "    <tr>\n",
       "      <th>213760</th>\n",
       "      <td>zvxzrWm</td>\n",
       "      <td>Universitario</td>\n",
       "      <td>Graduado</td>\n",
       "      <td>3</td>\n",
       "      <td>2</td>\n",
       "      <td>5</td>\n",
       "    </tr>\n",
       "    <tr>\n",
       "      <th>213761</th>\n",
       "      <td>zvxzrWm</td>\n",
       "      <td>Terciario/Técnico</td>\n",
       "      <td>Graduado</td>\n",
       "      <td>2</td>\n",
       "      <td>2</td>\n",
       "      <td>4</td>\n",
       "    </tr>\n",
       "    <tr>\n",
       "      <th>213762</th>\n",
       "      <td>zvxzrWm</td>\n",
       "      <td>Secundario</td>\n",
       "      <td>Graduado</td>\n",
       "      <td>1</td>\n",
       "      <td>2</td>\n",
       "      <td>3</td>\n",
       "    </tr>\n",
       "    <tr>\n",
       "      <th>213759</th>\n",
       "      <td>zvxzrWm</td>\n",
       "      <td>Otro</td>\n",
       "      <td>Graduado</td>\n",
       "      <td>0</td>\n",
       "      <td>2</td>\n",
       "      <td>2</td>\n",
       "    </tr>\n",
       "    <tr>\n",
       "      <th>213454</th>\n",
       "      <td>zvxzmED</td>\n",
       "      <td>Secundario</td>\n",
       "      <td>Graduado</td>\n",
       "      <td>1</td>\n",
       "      <td>2</td>\n",
       "      <td>3</td>\n",
       "    </tr>\n",
       "  </tbody>\n",
       "</table>\n",
       "</div>"
      ],
      "text/plain": [
       "       idpostulante             nombre    estado  nombre_num  estado_num  \\\n",
       "213760      zvxzrWm      Universitario  Graduado           3           2   \n",
       "213761      zvxzrWm  Terciario/Técnico  Graduado           2           2   \n",
       "213762      zvxzrWm         Secundario  Graduado           1           2   \n",
       "213759      zvxzrWm               Otro  Graduado           0           2   \n",
       "213454      zvxzmED         Secundario  Graduado           1           2   \n",
       "\n",
       "        highest_level  \n",
       "213760              5  \n",
       "213761              4  \n",
       "213762              3  \n",
       "213759              2  \n",
       "213454              3  "
      ]
     },
     "execution_count": 12,
     "metadata": {},
     "output_type": "execute_result"
    }
   ],
   "source": [
    "educacion = educacion.sort_values(by=['idpostulante','highest_level'],ascending= False)\n",
    "educacion.head()"
   ]
  },
  {
   "cell_type": "code",
   "execution_count": 13,
   "metadata": {},
   "outputs": [
    {
     "data": {
      "text/plain": [
       "188752"
      ]
     },
     "execution_count": 13,
     "metadata": {},
     "output_type": "execute_result"
    }
   ],
   "source": [
    "# keep only ids with higest degree\n",
    "educacion = educacion.drop_duplicates(['idpostulante'],keep='first')\n",
    "len(educacion)"
   ]
  },
  {
   "cell_type": "code",
   "execution_count": 14,
   "metadata": {},
   "outputs": [
    {
     "data": {
      "text/html": [
       "<div>\n",
       "<style>\n",
       "    .dataframe thead tr:only-child th {\n",
       "        text-align: right;\n",
       "    }\n",
       "\n",
       "    .dataframe thead th {\n",
       "        text-align: left;\n",
       "    }\n",
       "\n",
       "    .dataframe tbody tr th {\n",
       "        vertical-align: top;\n",
       "    }\n",
       "</style>\n",
       "<table border=\"1\" class=\"dataframe\">\n",
       "  <thead>\n",
       "    <tr style=\"text-align: right;\">\n",
       "      <th>estado</th>\n",
       "      <th>Abandonado</th>\n",
       "      <th>En Curso</th>\n",
       "      <th>Graduado</th>\n",
       "    </tr>\n",
       "    <tr>\n",
       "      <th>nombre</th>\n",
       "      <th></th>\n",
       "      <th></th>\n",
       "      <th></th>\n",
       "    </tr>\n",
       "  </thead>\n",
       "  <tbody>\n",
       "    <tr>\n",
       "      <th>Doctorado</th>\n",
       "      <td>11</td>\n",
       "      <td>91</td>\n",
       "      <td>105</td>\n",
       "    </tr>\n",
       "    <tr>\n",
       "      <th>Master</th>\n",
       "      <td>16</td>\n",
       "      <td>1449</td>\n",
       "      <td>1896</td>\n",
       "    </tr>\n",
       "    <tr>\n",
       "      <th>Otro</th>\n",
       "      <td>219</td>\n",
       "      <td>195</td>\n",
       "      <td>1236</td>\n",
       "    </tr>\n",
       "    <tr>\n",
       "      <th>Posgrado</th>\n",
       "      <td>51</td>\n",
       "      <td>1737</td>\n",
       "      <td>4102</td>\n",
       "    </tr>\n",
       "    <tr>\n",
       "      <th>Secundario</th>\n",
       "      <td>2495</td>\n",
       "      <td>3407</td>\n",
       "      <td>60998</td>\n",
       "    </tr>\n",
       "    <tr>\n",
       "      <th>Terciario/Técnico</th>\n",
       "      <td>1396</td>\n",
       "      <td>10687</td>\n",
       "      <td>16500</td>\n",
       "    </tr>\n",
       "    <tr>\n",
       "      <th>Universitario</th>\n",
       "      <td>3962</td>\n",
       "      <td>46701</td>\n",
       "      <td>31498</td>\n",
       "    </tr>\n",
       "  </tbody>\n",
       "</table>\n",
       "</div>"
      ],
      "text/plain": [
       "estado             Abandonado  En Curso  Graduado\n",
       "nombre                                           \n",
       "Doctorado                  11        91       105\n",
       "Master                     16      1449      1896\n",
       "Otro                      219       195      1236\n",
       "Posgrado                   51      1737      4102\n",
       "Secundario               2495      3407     60998\n",
       "Terciario/Técnico        1396     10687     16500\n",
       "Universitario            3962     46701     31498"
      ]
     },
     "execution_count": 14,
     "metadata": {},
     "output_type": "execute_result"
    }
   ],
   "source": [
    "for_heatmap_educacion = pd.pivot_table(data=educacion,index= 'nombre',columns='estado',values='idpostulante',aggfunc='count')\n",
    "for_heatmap_educacion"
   ]
  },
  {
   "cell_type": "code",
   "execution_count": 15,
   "metadata": {
    "scrolled": true
   },
   "outputs": [
    {
     "data": {
      "text/plain": [
       "Text(0.5,42,'Estadio')"
      ]
     },
     "execution_count": 15,
     "metadata": {},
     "output_type": "execute_result"
    },
    {
     "data": {
      "image/png": "[encoded data removed]",
      "text/plain": [
       "<matplotlib.figure.Figure at 0x1dea33bafd0>"
      ]
     },
     "metadata": {},
     "output_type": "display_data"
    }
   ],
   "source": [
    "fig, ax =plt.subplots(figsize=(7,7))\n",
    "g = sns.heatmap(for_heatmap_educacion,  cmap=\"Greens\")\n",
    "g.set_title(\"Estadio del Nivel Educativo de los postulantes (n=298,231)\", fontsize=22)\n",
    "g.set_ylabel(\"Nivel Educativo\",fontsize=18)\n",
    "g.set_xlabel(\"Estadio\", fontsize=18)"
   ]
  },
  {
   "cell_type": "code",
   "execution_count": 16,
   "metadata": {},
   "outputs": [
    {
     "name": "stdout",
     "output_type": "stream",
     "text": [
      "Chi-square Indepence Test p-value is  0.0\n",
      "Measure of Association is  0.499\n"
     ]
    }
   ],
   "source": [
    "# Is level of education dependent on the educational progress?\n",
    "# Compute Crammer's V or measure of association between two nominal variables\n",
    "print(\"Chi-square Indepence Test p-value is \",stats.chi2_contingency(for_heatmap_educacion)[1])\n",
    "print(\"Measure of Association is \",round((stats.chi2_contingency(for_heatmap_educacion)[0]/len(educacion) )**(0.5),3))\n"
   ]
  },
  {
   "cell_type": "code",
   "execution_count": 17,
   "metadata": {},
   "outputs": [
    {
     "data": {
      "text/html": [
       "<div>\n",
       "<style>\n",
       "    .dataframe thead tr:only-child th {\n",
       "        text-align: right;\n",
       "    }\n",
       "\n",
       "    .dataframe thead th {\n",
       "        text-align: left;\n",
       "    }\n",
       "\n",
       "    .dataframe tbody tr th {\n",
       "        vertical-align: top;\n",
       "    }\n",
       "</style>\n",
       "<table border=\"1\" class=\"dataframe\">\n",
       "  <thead>\n",
       "    <tr style=\"text-align: right;\">\n",
       "      <th></th>\n",
       "      <th>idpostulante</th>\n",
       "      <th>fechanacimiento</th>\n",
       "      <th>sexo</th>\n",
       "    </tr>\n",
       "  </thead>\n",
       "  <tbody>\n",
       "    <tr>\n",
       "      <th>0</th>\n",
       "      <td>NM5M</td>\n",
       "      <td>1970-12-03</td>\n",
       "      <td>FEM</td>\n",
       "    </tr>\n",
       "    <tr>\n",
       "      <th>1</th>\n",
       "      <td>5awk</td>\n",
       "      <td>1962-12-04</td>\n",
       "      <td>FEM</td>\n",
       "    </tr>\n",
       "    <tr>\n",
       "      <th>2</th>\n",
       "      <td>ZaO5</td>\n",
       "      <td>1978-08-10</td>\n",
       "      <td>FEM</td>\n",
       "    </tr>\n",
       "    <tr>\n",
       "      <th>3</th>\n",
       "      <td>NdJl</td>\n",
       "      <td>1969-05-09</td>\n",
       "      <td>MASC</td>\n",
       "    </tr>\n",
       "    <tr>\n",
       "      <th>4</th>\n",
       "      <td>eo2p</td>\n",
       "      <td>1981-02-16</td>\n",
       "      <td>MASC</td>\n",
       "    </tr>\n",
       "  </tbody>\n",
       "</table>\n",
       "</div>"
      ],
      "text/plain": [
       "  idpostulante fechanacimiento  sexo\n",
       "0         NM5M      1970-12-03   FEM\n",
       "1         5awk      1962-12-04   FEM\n",
       "2         ZaO5      1978-08-10   FEM\n",
       "3         NdJl      1969-05-09  MASC\n",
       "4         eo2p      1981-02-16  MASC"
      ]
     },
     "execution_count": 17,
     "metadata": {},
     "output_type": "execute_result"
    }
   ],
   "source": [
    "genero = pd.read_csv('Data/datos_navent_fiuba/fiuba_2_postulantes_genero_y_edad.csv')\n",
    "genero.head()"
   ]
  },
  {
   "cell_type": "code",
   "execution_count": 18,
   "metadata": {},
   "outputs": [
    {
     "data": {
      "text/plain": [
       "(200888, 3)"
      ]
     },
     "execution_count": 18,
     "metadata": {},
     "output_type": "execute_result"
    }
   ],
   "source": [
    "genero.shape"
   ]
  },
  {
   "cell_type": "code",
   "execution_count": 19,
   "metadata": {},
   "outputs": [
    {
     "data": {
      "text/plain": [
       "idpostulante       object\n",
       "fechanacimiento    object\n",
       "sexo               object\n",
       "dtype: object"
      ]
     },
     "execution_count": 19,
     "metadata": {},
     "output_type": "execute_result"
    }
   ],
   "source": [
    "genero.dtypes"
   ]
  },
  {
   "cell_type": "code",
   "execution_count": 20,
   "metadata": {},
   "outputs": [
    {
     "data": {
      "text/html": [
       "<div>\n",
       "<style>\n",
       "    .dataframe thead tr:only-child th {\n",
       "        text-align: right;\n",
       "    }\n",
       "\n",
       "    .dataframe thead th {\n",
       "        text-align: left;\n",
       "    }\n",
       "\n",
       "    .dataframe tbody tr th {\n",
       "        vertical-align: top;\n",
       "    }\n",
       "</style>\n",
       "<table border=\"1\" class=\"dataframe\">\n",
       "  <thead>\n",
       "    <tr style=\"text-align: right;\">\n",
       "      <th></th>\n",
       "      <th>idpostulante</th>\n",
       "      <th>fechanacimiento</th>\n",
       "      <th>sexo</th>\n",
       "    </tr>\n",
       "  </thead>\n",
       "  <tbody>\n",
       "    <tr>\n",
       "      <th>count</th>\n",
       "      <td>200888</td>\n",
       "      <td>196138</td>\n",
       "      <td>200888</td>\n",
       "    </tr>\n",
       "    <tr>\n",
       "      <th>unique</th>\n",
       "      <td>200888</td>\n",
       "      <td>15027</td>\n",
       "      <td>3</td>\n",
       "    </tr>\n",
       "    <tr>\n",
       "      <th>top</th>\n",
       "      <td>GNZRJ1K</td>\n",
       "      <td>1991-06-20</td>\n",
       "      <td>FEM</td>\n",
       "    </tr>\n",
       "    <tr>\n",
       "      <th>freq</th>\n",
       "      <td>1</td>\n",
       "      <td>57</td>\n",
       "      <td>101981</td>\n",
       "    </tr>\n",
       "  </tbody>\n",
       "</table>\n",
       "</div>"
      ],
      "text/plain": [
       "       idpostulante fechanacimiento    sexo\n",
       "count        200888          196138  200888\n",
       "unique       200888           15027       3\n",
       "top         GNZRJ1K      1991-06-20     FEM\n",
       "freq              1              57  101981"
      ]
     },
     "execution_count": 20,
     "metadata": {},
     "output_type": "execute_result"
    }
   ],
   "source": [
    "genero.describe(include='all')"
   ]
  },
  {
   "cell_type": "code",
   "execution_count": 21,
   "metadata": {},
   "outputs": [
    {
     "data": {
      "text/plain": [
       "idpostulante          0\n",
       "fechanacimiento    4750\n",
       "sexo                  0\n",
       "dtype: int64"
      ]
     },
     "execution_count": 21,
     "metadata": {},
     "output_type": "execute_result"
    }
   ],
   "source": [
    "# check for missing values\n",
    "genero.isnull().sum()"
   ]
  },
  {
   "cell_type": "code",
   "execution_count": 22,
   "metadata": {},
   "outputs": [
    {
     "data": {
      "text/plain": [
       "0"
      ]
     },
     "execution_count": 22,
     "metadata": {},
     "output_type": "execute_result"
    }
   ],
   "source": [
    "# Check for duplicate rows\n",
    "genero.duplicated(['idpostulante','sexo','fechanacimiento'],keep='first').sum()"
   ]
  },
  {
   "cell_type": "code",
   "execution_count": 23,
   "metadata": {},
   "outputs": [
    {
     "data": {
      "text/plain": [
       "1994-05-24    57\n",
       "1991-06-20    57\n",
       "1993-03-18    56\n",
       "1989-12-12    54\n",
       "1991-10-09    53\n",
       "Name: fechanacimiento_date, dtype: int64"
      ]
     },
     "execution_count": 23,
     "metadata": {},
     "output_type": "execute_result"
    }
   ],
   "source": [
    "genero['fechanacimiento_date'] = pd.to_datetime(genero['fechanacimiento'], errors = 'coerce', format=\"%Y/%m/%d\")\n",
    "genero['fechanacimiento_date'].value_counts().head()"
   ]
  },
  {
   "cell_type": "code",
   "execution_count": 24,
   "metadata": {},
   "outputs": [
    {
     "data": {
      "text/html": [
       "<div>\n",
       "<style>\n",
       "    .dataframe thead tr:only-child th {\n",
       "        text-align: right;\n",
       "    }\n",
       "\n",
       "    .dataframe thead th {\n",
       "        text-align: left;\n",
       "    }\n",
       "\n",
       "    .dataframe tbody tr th {\n",
       "        vertical-align: top;\n",
       "    }\n",
       "</style>\n",
       "<table border=\"1\" class=\"dataframe\">\n",
       "  <thead>\n",
       "    <tr style=\"text-align: right;\">\n",
       "      <th></th>\n",
       "      <th>idpostulante</th>\n",
       "      <th>fechanacimiento</th>\n",
       "      <th>sexo</th>\n",
       "      <th>fechanacimiento_date</th>\n",
       "    </tr>\n",
       "  </thead>\n",
       "  <tbody>\n",
       "    <tr>\n",
       "      <th>56206</th>\n",
       "      <td>xkPwXwY</td>\n",
       "      <td>0031-12-11</td>\n",
       "      <td>FEM</td>\n",
       "      <td>NaT</td>\n",
       "    </tr>\n",
       "    <tr>\n",
       "      <th>71458</th>\n",
       "      <td>LN85Y3b</td>\n",
       "      <td>0029-05-11</td>\n",
       "      <td>MASC</td>\n",
       "      <td>NaT</td>\n",
       "    </tr>\n",
       "    <tr>\n",
       "      <th>130846</th>\n",
       "      <td>8M2R6pz</td>\n",
       "      <td>0024-02-09</td>\n",
       "      <td>FEM</td>\n",
       "      <td>NaT</td>\n",
       "    </tr>\n",
       "    <tr>\n",
       "      <th>141832</th>\n",
       "      <td>A36Npjj</td>\n",
       "      <td>0033-09-14</td>\n",
       "      <td>FEM</td>\n",
       "      <td>NaT</td>\n",
       "    </tr>\n",
       "    <tr>\n",
       "      <th>145683</th>\n",
       "      <td>dYjV0rb</td>\n",
       "      <td>0012-11-04</td>\n",
       "      <td>NO_DECLARA</td>\n",
       "      <td>NaT</td>\n",
       "    </tr>\n",
       "    <tr>\n",
       "      <th>148638</th>\n",
       "      <td>GNZOvAv</td>\n",
       "      <td>0004-07-19</td>\n",
       "      <td>MASC</td>\n",
       "      <td>NaT</td>\n",
       "    </tr>\n",
       "    <tr>\n",
       "      <th>149653</th>\n",
       "      <td>1QPQ8QL</td>\n",
       "      <td>0011-03-08</td>\n",
       "      <td>MASC</td>\n",
       "      <td>NaT</td>\n",
       "    </tr>\n",
       "  </tbody>\n",
       "</table>\n",
       "</div>"
      ],
      "text/plain": [
       "       idpostulante fechanacimiento        sexo fechanacimiento_date\n",
       "56206       xkPwXwY      0031-12-11         FEM                  NaT\n",
       "71458       LN85Y3b      0029-05-11        MASC                  NaT\n",
       "130846      8M2R6pz      0024-02-09         FEM                  NaT\n",
       "141832      A36Npjj      0033-09-14         FEM                  NaT\n",
       "145683      dYjV0rb      0012-11-04  NO_DECLARA                  NaT\n",
       "148638      GNZOvAv      0004-07-19        MASC                  NaT\n",
       "149653      1QPQ8QL      0011-03-08        MASC                  NaT"
      ]
     },
     "execution_count": 24,
     "metadata": {},
     "output_type": "execute_result"
    }
   ],
   "source": [
    "# Look at cases when DoB maybe invalid\n",
    "genero.loc[(genero['fechanacimiento_date'].isnull()) & (genero['fechanacimiento'].notnull())]"
   ]
  },
  {
   "cell_type": "code",
   "execution_count": 25,
   "metadata": {},
   "outputs": [],
   "source": [
    "# Compute age\n",
    "from datetime import date\n",
    "days_in_year = 365.2425    \n",
    "genero['age'] = (date.today().year - genero['fechanacimiento_date'].dt.year)\n",
    "# Restar un año a los que todavia no cumplieron"
   ]
  },
  {
   "cell_type": "code",
   "execution_count": 26,
   "metadata": {
    "scrolled": true
   },
   "outputs": [
    {
     "data": {
      "text/plain": [
       "count    196131.000000\n",
       "mean         30.427658\n",
       "std           8.336935\n",
       "min          12.000000\n",
       "25%          24.000000\n",
       "50%          28.000000\n",
       "75%          35.000000\n",
       "max         243.000000\n",
       "Name: age, dtype: float64"
      ]
     },
     "execution_count": 26,
     "metadata": {},
     "output_type": "execute_result"
    }
   ],
   "source": [
    " genero['age'].describe()"
   ]
  },
  {
   "cell_type": "code",
   "execution_count": 27,
   "metadata": {},
   "outputs": [
    {
     "data": {
      "text/html": [
       "<div>\n",
       "<style>\n",
       "    .dataframe thead tr:only-child th {\n",
       "        text-align: right;\n",
       "    }\n",
       "\n",
       "    .dataframe thead th {\n",
       "        text-align: left;\n",
       "    }\n",
       "\n",
       "    .dataframe tbody tr th {\n",
       "        vertical-align: top;\n",
       "    }\n",
       "</style>\n",
       "<table border=\"1\" class=\"dataframe\">\n",
       "  <thead>\n",
       "    <tr style=\"text-align: right;\">\n",
       "      <th></th>\n",
       "      <th>idpostulante</th>\n",
       "      <th>fechanacimiento</th>\n",
       "      <th>sexo</th>\n",
       "      <th>fechanacimiento_date</th>\n",
       "      <th>age</th>\n",
       "    </tr>\n",
       "  </thead>\n",
       "  <tbody>\n",
       "    <tr>\n",
       "      <th>154559</th>\n",
       "      <td>xkdvwm0</td>\n",
       "      <td>1775-07-09</td>\n",
       "      <td>MASC</td>\n",
       "      <td>1775-07-09</td>\n",
       "      <td>243.0</td>\n",
       "    </tr>\n",
       "    <tr>\n",
       "      <th>156483</th>\n",
       "      <td>4rP8l0R</td>\n",
       "      <td>1921-08-18</td>\n",
       "      <td>FEM</td>\n",
       "      <td>1921-08-18</td>\n",
       "      <td>97.0</td>\n",
       "    </tr>\n",
       "    <tr>\n",
       "      <th>164618</th>\n",
       "      <td>96X1loa</td>\n",
       "      <td>1917-07-08</td>\n",
       "      <td>MASC</td>\n",
       "      <td>1917-07-08</td>\n",
       "      <td>101.0</td>\n",
       "    </tr>\n",
       "  </tbody>\n",
       "</table>\n",
       "</div>"
      ],
      "text/plain": [
       "       idpostulante fechanacimiento  sexo fechanacimiento_date    age\n",
       "154559      xkdvwm0      1775-07-09  MASC           1775-07-09  243.0\n",
       "156483      4rP8l0R      1921-08-18   FEM           1921-08-18   97.0\n",
       "164618      96X1loa      1917-07-08  MASC           1917-07-08  101.0"
      ]
     },
     "execution_count": 27,
     "metadata": {},
     "output_type": "execute_result"
    }
   ],
   "source": [
    "# Print rows with age > 80 years old\n",
    "genero.loc[genero['age'] >= 80]"
   ]
  },
  {
   "cell_type": "code",
   "execution_count": 28,
   "metadata": {},
   "outputs": [],
   "source": [
    "# Set age to NaN for age >= 80\n",
    "genero['age'] = np.where(genero['age'] <=80, genero['age'] , np.NaN)"
   ]
  },
  {
   "cell_type": "code",
   "execution_count": 29,
   "metadata": {},
   "outputs": [
    {
     "data": {
      "text/plain": [
       "Text(0,0.5,'Frecuencia')"
      ]
     },
     "execution_count": 29,
     "metadata": {},
     "output_type": "execute_result"
    },
    {
     "data": {
      "image/png": "[encoded data removed]",
      "text/plain": [
       "<matplotlib.figure.Figure at 0x1dea3dcee10>"
      ]
     },
     "metadata": {},
     "output_type": "display_data"
    }
   ],
   "source": [
    "# Bar plot for gender\n",
    "sns.set(style=\"darkgrid\")\n",
    "g = sns.countplot(x=\"sexo\", data=genero)\n",
    "g.set_title(\"Sexo de Postulantes\", fontsize=15)\n",
    "g.set_xlabel(\"Sexo\", fontsize=12)\n",
    "g.set_ylabel(\"Frecuencia\", fontsize=12)"
   ]
  },
  {
   "cell_type": "code",
   "execution_count": 30,
   "metadata": {},
   "outputs": [],
   "source": [
    "fem = genero.loc[genero[\"sexo\"] == \"FEM\",'age'].dropna()\n",
    "masc = genero.loc[genero[\"sexo\"] == \"MASC\",'age'].dropna()\n",
    "not_declared = genero.loc[genero[\"sexo\"] == \"NO_DECLARA\",'age'].dropna()"
   ]
  },
  {
   "cell_type": "code",
   "execution_count": 31,
   "metadata": {},
   "outputs": [
    {
     "data": {
      "text/plain": [
       "Text(0,0.5,'Densidad')"
      ]
     },
     "execution_count": 31,
     "metadata": {},
     "output_type": "execute_result"
    },
    {
     "data": {
      "image/png": "[encoded data removed]",
      "text/plain": [
       "<matplotlib.figure.Figure at 0x1dea3e10978>"
      ]
     },
     "metadata": {},
     "output_type": "display_data"
    }
   ],
   "source": [
    "# Check age distribution by gender\n",
    "g = sns.distplot(fem, color='b')\n",
    "g = sns.distplot(masc, color='g')\n",
    "g = sns.distplot(not_declared, color='r')\n",
    "g.set_title(\"Distribucion de Edad de Postulantes por Sexo\", fontsize=18)\n",
    "g.set_xlabel(\"Edad\",fontsize=18)\n",
    "g.set_ylabel(\"Densidad\", fontsize=18)"
   ]
  },
  {
   "cell_type": "code",
   "execution_count": 32,
   "metadata": {},
   "outputs": [],
   "source": [
    "educacion['in_educacion'] =1\n",
    "genero['in_genero'] =1"
   ]
  },
  {
   "cell_type": "code",
   "execution_count": 33,
   "metadata": {},
   "outputs": [
    {
     "data": {
      "text/plain": [
       "Text(0,0.5,'Edad')"
      ]
     },
     "execution_count": 33,
     "metadata": {},
     "output_type": "execute_result"
    },
    {
     "data": {
      "image/png": "[encoded data removed]",
      "text/plain": [
       "<matplotlib.figure.Figure at 0x1dea7497898>"
      ]
     },
     "metadata": {},
     "output_type": "display_data"
    }
   ],
   "source": [
    "# Violin Plot (Box plot)\n",
    "fig, ax =plt.subplots(figsize=(5,5))\n",
    "g = sns.violinplot(x=\"sexo\", y=\"age\", \n",
    "                     data=genero, palette=\"pastel\",showmeans=True)\n",
    "g.set_title(\"Distribucion de Edad de Postulantes por Sexo\", fontsize=18)\n",
    "g.set_xlabel(\"Sexo\", fontsize=18)\n",
    "g.set_ylabel(\"Edad\", fontsize=18)"
   ]
  },
  {
   "cell_type": "code",
   "execution_count": null,
   "metadata": {},
   "outputs": [],
   "source": []
  },
  {
   "cell_type": "code",
   "execution_count": 34,
   "metadata": {},
   "outputs": [],
   "source": [
    "# Combine education and age/sex datasets \n",
    "edu_age = pd.merge(educacion[['idpostulante', 'nombre','estado', 'in_educacion']],\n",
    "                   genero[['idpostulante','sexo','age','in_genero']] ,on = 'idpostulante', how='outer')"
   ]
  },
  {
   "cell_type": "code",
   "execution_count": 35,
   "metadata": {},
   "outputs": [
    {
     "data": {
      "text/plain": [
       "200888"
      ]
     },
     "execution_count": 35,
     "metadata": {},
     "output_type": "execute_result"
    }
   ],
   "source": [
    "len(edu_age)"
   ]
  },
  {
   "cell_type": "code",
   "execution_count": 36,
   "metadata": {},
   "outputs": [],
   "source": [
    "edu_age['in_educacion'] = edu_age['in_educacion'].fillna(0)"
   ]
  },
  {
   "cell_type": "code",
   "execution_count": 37,
   "metadata": {},
   "outputs": [
    {
     "data": {
      "text/html": [
       "<div>\n",
       "<style>\n",
       "    .dataframe thead tr:only-child th {\n",
       "        text-align: right;\n",
       "    }\n",
       "\n",
       "    .dataframe thead th {\n",
       "        text-align: left;\n",
       "    }\n",
       "\n",
       "    .dataframe tbody tr th {\n",
       "        vertical-align: top;\n",
       "    }\n",
       "</style>\n",
       "<table border=\"1\" class=\"dataframe\">\n",
       "  <thead>\n",
       "    <tr style=\"text-align: right;\">\n",
       "      <th></th>\n",
       "      <th>idpostulante</th>\n",
       "      <th>nombre</th>\n",
       "      <th>estado</th>\n",
       "      <th>in_educacion</th>\n",
       "      <th>sexo</th>\n",
       "      <th>age</th>\n",
       "      <th>in_genero</th>\n",
       "    </tr>\n",
       "  </thead>\n",
       "  <tbody>\n",
       "    <tr>\n",
       "      <th>0</th>\n",
       "      <td>zvxzrWm</td>\n",
       "      <td>Universitario</td>\n",
       "      <td>Graduado</td>\n",
       "      <td>1.0</td>\n",
       "      <td>MASC</td>\n",
       "      <td>37.0</td>\n",
       "      <td>1</td>\n",
       "    </tr>\n",
       "    <tr>\n",
       "      <th>1</th>\n",
       "      <td>zvxzmED</td>\n",
       "      <td>Secundario</td>\n",
       "      <td>Graduado</td>\n",
       "      <td>1.0</td>\n",
       "      <td>FEM</td>\n",
       "      <td>19.0</td>\n",
       "      <td>1</td>\n",
       "    </tr>\n",
       "    <tr>\n",
       "      <th>2</th>\n",
       "      <td>zvxzjoK</td>\n",
       "      <td>Terciario/Técnico</td>\n",
       "      <td>En Curso</td>\n",
       "      <td>1.0</td>\n",
       "      <td>FEM</td>\n",
       "      <td>20.0</td>\n",
       "      <td>1</td>\n",
       "    </tr>\n",
       "    <tr>\n",
       "      <th>3</th>\n",
       "      <td>zvxzeBK</td>\n",
       "      <td>Terciario/Técnico</td>\n",
       "      <td>Graduado</td>\n",
       "      <td>1.0</td>\n",
       "      <td>MASC</td>\n",
       "      <td>25.0</td>\n",
       "      <td>1</td>\n",
       "    </tr>\n",
       "    <tr>\n",
       "      <th>4</th>\n",
       "      <td>zvxzVr8</td>\n",
       "      <td>Secundario</td>\n",
       "      <td>Graduado</td>\n",
       "      <td>1.0</td>\n",
       "      <td>MASC</td>\n",
       "      <td>28.0</td>\n",
       "      <td>1</td>\n",
       "    </tr>\n",
       "  </tbody>\n",
       "</table>\n",
       "</div>"
      ],
      "text/plain": [
       "  idpostulante             nombre    estado  in_educacion  sexo   age  \\\n",
       "0      zvxzrWm      Universitario  Graduado           1.0  MASC  37.0   \n",
       "1      zvxzmED         Secundario  Graduado           1.0   FEM  19.0   \n",
       "2      zvxzjoK  Terciario/Técnico  En Curso           1.0   FEM  20.0   \n",
       "3      zvxzeBK  Terciario/Técnico  Graduado           1.0  MASC  25.0   \n",
       "4      zvxzVr8         Secundario  Graduado           1.0  MASC  28.0   \n",
       "\n",
       "   in_genero  \n",
       "0          1  \n",
       "1          1  \n",
       "2          1  \n",
       "3          1  \n",
       "4          1  "
      ]
     },
     "execution_count": 37,
     "metadata": {},
     "output_type": "execute_result"
    }
   ],
   "source": [
    "edu_age.head()"
   ]
  },
  {
   "cell_type": "code",
   "execution_count": 38,
   "metadata": {},
   "outputs": [
    {
     "data": {
      "text/html": [
       "<div>\n",
       "<style>\n",
       "    .dataframe thead tr:only-child th {\n",
       "        text-align: right;\n",
       "    }\n",
       "\n",
       "    .dataframe thead th {\n",
       "        text-align: left;\n",
       "    }\n",
       "\n",
       "    .dataframe tbody tr th {\n",
       "        vertical-align: top;\n",
       "    }\n",
       "</style>\n",
       "<table border=\"1\" class=\"dataframe\">\n",
       "  <thead>\n",
       "    <tr style=\"text-align: right;\">\n",
       "      <th>in_genero</th>\n",
       "      <th>1</th>\n",
       "    </tr>\n",
       "    <tr>\n",
       "      <th>in_educacion</th>\n",
       "      <th></th>\n",
       "    </tr>\n",
       "  </thead>\n",
       "  <tbody>\n",
       "    <tr>\n",
       "      <th>0.0</th>\n",
       "      <td>12136</td>\n",
       "    </tr>\n",
       "    <tr>\n",
       "      <th>1.0</th>\n",
       "      <td>188752</td>\n",
       "    </tr>\n",
       "  </tbody>\n",
       "</table>\n",
       "</div>"
      ],
      "text/plain": [
       "in_genero          1\n",
       "in_educacion        \n",
       "0.0            12136\n",
       "1.0           188752"
      ]
     },
     "execution_count": 38,
     "metadata": {},
     "output_type": "execute_result"
    }
   ],
   "source": [
    "# Crosstab to check postulantes that are in one dataset but not in the other\n",
    "pd.crosstab(edu_age['in_educacion'] , edu_age['in_genero'])"
   ]
  },
  {
   "cell_type": "code",
   "execution_count": 39,
   "metadata": {},
   "outputs": [
    {
     "data": {
      "text/html": [
       "<div>\n",
       "<style>\n",
       "    .dataframe thead tr:only-child th {\n",
       "        text-align: right;\n",
       "    }\n",
       "\n",
       "    .dataframe thead th {\n",
       "        text-align: left;\n",
       "    }\n",
       "\n",
       "    .dataframe tbody tr th {\n",
       "        vertical-align: top;\n",
       "    }\n",
       "</style>\n",
       "<table border=\"1\" class=\"dataframe\">\n",
       "  <thead>\n",
       "    <tr style=\"text-align: right;\">\n",
       "      <th></th>\n",
       "      <th>idAviso</th>\n",
       "      <th>timestamp</th>\n",
       "      <th>idpostulante</th>\n",
       "    </tr>\n",
       "  </thead>\n",
       "  <tbody>\n",
       "    <tr>\n",
       "      <th>0</th>\n",
       "      <td>1111780242</td>\n",
       "      <td>2018-02-23T13:38:13.187-0500</td>\n",
       "      <td>YjVJQ6Z</td>\n",
       "    </tr>\n",
       "    <tr>\n",
       "      <th>1</th>\n",
       "      <td>1112263876</td>\n",
       "      <td>2018-02-23T13:38:14.296-0500</td>\n",
       "      <td>BmVpYoR</td>\n",
       "    </tr>\n",
       "    <tr>\n",
       "      <th>2</th>\n",
       "      <td>1112327963</td>\n",
       "      <td>2018-02-23T13:38:14.329-0500</td>\n",
       "      <td>wVkBzZd</td>\n",
       "    </tr>\n",
       "    <tr>\n",
       "      <th>3</th>\n",
       "      <td>1112318643</td>\n",
       "      <td>2018-02-23T13:38:17.921-0500</td>\n",
       "      <td>OqmP9pv</td>\n",
       "    </tr>\n",
       "    <tr>\n",
       "      <th>4</th>\n",
       "      <td>1111903673</td>\n",
       "      <td>2018-02-23T13:38:18.973-0500</td>\n",
       "      <td>DrpbXDP</td>\n",
       "    </tr>\n",
       "  </tbody>\n",
       "</table>\n",
       "</div>"
      ],
      "text/plain": [
       "      idAviso                     timestamp idpostulante\n",
       "0  1111780242  2018-02-23T13:38:13.187-0500      YjVJQ6Z\n",
       "1  1112263876  2018-02-23T13:38:14.296-0500      BmVpYoR\n",
       "2  1112327963  2018-02-23T13:38:14.329-0500      wVkBzZd\n",
       "3  1112318643  2018-02-23T13:38:17.921-0500      OqmP9pv\n",
       "4  1111903673  2018-02-23T13:38:18.973-0500      DrpbXDP"
      ]
     },
     "execution_count": 39,
     "metadata": {},
     "output_type": "execute_result"
    }
   ],
   "source": [
    "vistas = pd.read_csv('Data/datos_navent_fiuba/fiuba_3_vistas.csv')\n",
    "vistas.head()"
   ]
  },
  {
   "cell_type": "code",
   "execution_count": 40,
   "metadata": {},
   "outputs": [
    {
     "data": {
      "text/plain": [
       "(961897, 3)"
      ]
     },
     "execution_count": 40,
     "metadata": {},
     "output_type": "execute_result"
    }
   ],
   "source": [
    "vistas.shape"
   ]
  },
  {
   "cell_type": "code",
   "execution_count": 41,
   "metadata": {},
   "outputs": [
    {
     "data": {
      "text/plain": [
       "idAviso          int64\n",
       "timestamp       object\n",
       "idpostulante    object\n",
       "dtype: object"
      ]
     },
     "execution_count": 41,
     "metadata": {},
     "output_type": "execute_result"
    }
   ],
   "source": [
    "vistas.dtypes"
   ]
  },
  {
   "cell_type": "code",
   "execution_count": 42,
   "metadata": {},
   "outputs": [
    {
     "data": {
      "text/html": [
       "<div>\n",
       "<style>\n",
       "    .dataframe thead tr:only-child th {\n",
       "        text-align: right;\n",
       "    }\n",
       "\n",
       "    .dataframe thead th {\n",
       "        text-align: left;\n",
       "    }\n",
       "\n",
       "    .dataframe tbody tr th {\n",
       "        vertical-align: top;\n",
       "    }\n",
       "</style>\n",
       "<table border=\"1\" class=\"dataframe\">\n",
       "  <thead>\n",
       "    <tr style=\"text-align: right;\">\n",
       "      <th></th>\n",
       "      <th>idAviso</th>\n",
       "      <th>timestamp</th>\n",
       "      <th>idpostulante</th>\n",
       "    </tr>\n",
       "  </thead>\n",
       "  <tbody>\n",
       "    <tr>\n",
       "      <th>count</th>\n",
       "      <td>9.618970e+05</td>\n",
       "      <td>961897</td>\n",
       "      <td>961897</td>\n",
       "    </tr>\n",
       "    <tr>\n",
       "      <th>unique</th>\n",
       "      <td>NaN</td>\n",
       "      <td>960220</td>\n",
       "      <td>87443</td>\n",
       "    </tr>\n",
       "    <tr>\n",
       "      <th>top</th>\n",
       "      <td>NaN</td>\n",
       "      <td>2018-02-26T06:24:30.660-0500</td>\n",
       "      <td>dYJV5K2</td>\n",
       "    </tr>\n",
       "    <tr>\n",
       "      <th>freq</th>\n",
       "      <td>NaN</td>\n",
       "      <td>3</td>\n",
       "      <td>595</td>\n",
       "    </tr>\n",
       "    <tr>\n",
       "      <th>mean</th>\n",
       "      <td>1.111350e+09</td>\n",
       "      <td>NaN</td>\n",
       "      <td>NaN</td>\n",
       "    </tr>\n",
       "    <tr>\n",
       "      <th>std</th>\n",
       "      <td>2.553639e+07</td>\n",
       "      <td>NaN</td>\n",
       "      <td>NaN</td>\n",
       "    </tr>\n",
       "    <tr>\n",
       "      <th>min</th>\n",
       "      <td>1.585950e+06</td>\n",
       "      <td>NaN</td>\n",
       "      <td>NaN</td>\n",
       "    </tr>\n",
       "    <tr>\n",
       "      <th>25%</th>\n",
       "      <td>1.112311e+09</td>\n",
       "      <td>NaN</td>\n",
       "      <td>NaN</td>\n",
       "    </tr>\n",
       "    <tr>\n",
       "      <th>50%</th>\n",
       "      <td>1.112347e+09</td>\n",
       "      <td>NaN</td>\n",
       "      <td>NaN</td>\n",
       "    </tr>\n",
       "    <tr>\n",
       "      <th>75%</th>\n",
       "      <td>1.112360e+09</td>\n",
       "      <td>NaN</td>\n",
       "      <td>NaN</td>\n",
       "    </tr>\n",
       "    <tr>\n",
       "      <th>max</th>\n",
       "      <td>1.112370e+09</td>\n",
       "      <td>NaN</td>\n",
       "      <td>NaN</td>\n",
       "    </tr>\n",
       "  </tbody>\n",
       "</table>\n",
       "</div>"
      ],
      "text/plain": [
       "             idAviso                     timestamp idpostulante\n",
       "count   9.618970e+05                        961897       961897\n",
       "unique           NaN                        960220        87443\n",
       "top              NaN  2018-02-26T06:24:30.660-0500      dYJV5K2\n",
       "freq             NaN                             3          595\n",
       "mean    1.111350e+09                           NaN          NaN\n",
       "std     2.553639e+07                           NaN          NaN\n",
       "min     1.585950e+06                           NaN          NaN\n",
       "25%     1.112311e+09                           NaN          NaN\n",
       "50%     1.112347e+09                           NaN          NaN\n",
       "75%     1.112360e+09                           NaN          NaN\n",
       "max     1.112370e+09                           NaN          NaN"
      ]
     },
     "execution_count": 42,
     "metadata": {},
     "output_type": "execute_result"
    }
   ],
   "source": [
    "vistas.describe(include='all')"
   ]
  },
  {
   "cell_type": "code",
   "execution_count": 43,
   "metadata": {},
   "outputs": [
    {
     "data": {
      "text/plain": [
       "idAviso         0\n",
       "timestamp       0\n",
       "idpostulante    0\n",
       "dtype: int64"
      ]
     },
     "execution_count": 43,
     "metadata": {},
     "output_type": "execute_result"
    }
   ],
   "source": [
    "# check for missing values\n",
    "vistas.isnull().sum()"
   ]
  },
  {
   "cell_type": "code",
   "execution_count": 44,
   "metadata": {},
   "outputs": [],
   "source": [
    "# Count how many ads each postulante saw and then add this variable back to the dataset\n",
    "# Here I changed the 'Group By' call\n",
    "    #avisas_por_postulante = pd.DataFrame(vistas.groupby[''.agg('count'))\n",
    "    #avisas_por_postulante['avisas_vistas_por_postulante'] = avisas_por_postulante.values\n",
    "    #avisas_por_postulante['idpostulante'] = avisas_por_postulante.index\n",
    "    #vistas = pd. merge(vistas, avisas_por_postulante[['idpostulante','avisas_vistas_por_postulante']], on='idpostulante',how='inner')\n",
    "    "
   ]
  },
  {
   "cell_type": "code",
   "execution_count": 45,
   "metadata": {},
   "outputs": [],
   "source": [
    "avisos_vistos_por_postulantes = pd.DataFrame(vistas.groupby(['idpostulante', 'idAviso'])['timestamp'].agg('count'))\n",
    "avisos_vistos_por_postulantes.rename(columns={'timestamp':'cantidadVistas'}, inplace=True)"
   ]
  },
  {
   "cell_type": "code",
   "execution_count": 46,
   "metadata": {},
   "outputs": [
    {
     "data": {
      "text/html": [
       "<div>\n",
       "<style>\n",
       "    .dataframe thead tr:only-child th {\n",
       "        text-align: right;\n",
       "    }\n",
       "\n",
       "    .dataframe thead th {\n",
       "        text-align: left;\n",
       "    }\n",
       "\n",
       "    .dataframe tbody tr th {\n",
       "        vertical-align: top;\n",
       "    }\n",
       "</style>\n",
       "<table border=\"1\" class=\"dataframe\">\n",
       "  <thead>\n",
       "    <tr style=\"text-align: right;\">\n",
       "      <th></th>\n",
       "      <th></th>\n",
       "      <th>cantidadVistas</th>\n",
       "    </tr>\n",
       "    <tr>\n",
       "      <th>idpostulante</th>\n",
       "      <th>idAviso</th>\n",
       "      <th></th>\n",
       "    </tr>\n",
       "  </thead>\n",
       "  <tbody>\n",
       "    <tr>\n",
       "      <th rowspan=\"3\" valign=\"top\">0z5VvGv</th>\n",
       "      <th>1111413600</th>\n",
       "      <td>1</td>\n",
       "    </tr>\n",
       "    <tr>\n",
       "      <th>1112368499</th>\n",
       "      <td>1</td>\n",
       "    </tr>\n",
       "    <tr>\n",
       "      <th>1112369554</th>\n",
       "      <td>1</td>\n",
       "    </tr>\n",
       "    <tr>\n",
       "      <th>0zB026d</th>\n",
       "      <th>1112358250</th>\n",
       "      <td>6</td>\n",
       "    </tr>\n",
       "    <tr>\n",
       "      <th rowspan=\"18\" valign=\"top\">0zB03O9</th>\n",
       "      <th>1111830203</th>\n",
       "      <td>1</td>\n",
       "    </tr>\n",
       "    <tr>\n",
       "      <th>1112205394</th>\n",
       "      <td>2</td>\n",
       "    </tr>\n",
       "    <tr>\n",
       "      <th>1112234599</th>\n",
       "      <td>2</td>\n",
       "    </tr>\n",
       "    <tr>\n",
       "      <th>1112306281</th>\n",
       "      <td>2</td>\n",
       "    </tr>\n",
       "    <tr>\n",
       "      <th>1112315062</th>\n",
       "      <td>1</td>\n",
       "    </tr>\n",
       "    <tr>\n",
       "      <th>1112316288</th>\n",
       "      <td>8</td>\n",
       "    </tr>\n",
       "    <tr>\n",
       "      <th>1112325383</th>\n",
       "      <td>3</td>\n",
       "    </tr>\n",
       "    <tr>\n",
       "      <th>1112334784</th>\n",
       "      <td>1</td>\n",
       "    </tr>\n",
       "    <tr>\n",
       "      <th>1112334789</th>\n",
       "      <td>2</td>\n",
       "    </tr>\n",
       "    <tr>\n",
       "      <th>1112334791</th>\n",
       "      <td>2</td>\n",
       "    </tr>\n",
       "    <tr>\n",
       "      <th>1112337991</th>\n",
       "      <td>1</td>\n",
       "    </tr>\n",
       "    <tr>\n",
       "      <th>1112340866</th>\n",
       "      <td>2</td>\n",
       "    </tr>\n",
       "    <tr>\n",
       "      <th>1112344907</th>\n",
       "      <td>3</td>\n",
       "    </tr>\n",
       "    <tr>\n",
       "      <th>1112346564</th>\n",
       "      <td>2</td>\n",
       "    </tr>\n",
       "    <tr>\n",
       "      <th>1112356396</th>\n",
       "      <td>1</td>\n",
       "    </tr>\n",
       "    <tr>\n",
       "      <th>1112363488</th>\n",
       "      <td>6</td>\n",
       "    </tr>\n",
       "    <tr>\n",
       "      <th>1112363599</th>\n",
       "      <td>1</td>\n",
       "    </tr>\n",
       "    <tr>\n",
       "      <th>1112363711</th>\n",
       "      <td>5</td>\n",
       "    </tr>\n",
       "    <tr>\n",
       "      <th rowspan=\"7\" valign=\"top\">0zB0YGv</th>\n",
       "      <th>1112314890</th>\n",
       "      <td>1</td>\n",
       "    </tr>\n",
       "    <tr>\n",
       "      <th>1112343194</th>\n",
       "      <td>1</td>\n",
       "    </tr>\n",
       "    <tr>\n",
       "      <th>1112343243</th>\n",
       "      <td>2</td>\n",
       "    </tr>\n",
       "    <tr>\n",
       "      <th>1112344973</th>\n",
       "      <td>7</td>\n",
       "    </tr>\n",
       "    <tr>\n",
       "      <th>1112356396</th>\n",
       "      <td>2</td>\n",
       "    </tr>\n",
       "    <tr>\n",
       "      <th>1112366929</th>\n",
       "      <td>3</td>\n",
       "    </tr>\n",
       "    <tr>\n",
       "      <th>1112369306</th>\n",
       "      <td>2</td>\n",
       "    </tr>\n",
       "    <tr>\n",
       "      <th>0zB0xL1</th>\n",
       "      <th>1112358035</th>\n",
       "      <td>1</td>\n",
       "    </tr>\n",
       "  </tbody>\n",
       "</table>\n",
       "</div>"
      ],
      "text/plain": [
       "                         cantidadVistas\n",
       "idpostulante idAviso                   \n",
       "0z5VvGv      1111413600               1\n",
       "             1112368499               1\n",
       "             1112369554               1\n",
       "0zB026d      1112358250               6\n",
       "0zB03O9      1111830203               1\n",
       "             1112205394               2\n",
       "             1112234599               2\n",
       "             1112306281               2\n",
       "             1112315062               1\n",
       "             1112316288               8\n",
       "             1112325383               3\n",
       "             1112334784               1\n",
       "             1112334789               2\n",
       "             1112334791               2\n",
       "             1112337991               1\n",
       "             1112340866               2\n",
       "             1112344907               3\n",
       "             1112346564               2\n",
       "             1112356396               1\n",
       "             1112363488               6\n",
       "             1112363599               1\n",
       "             1112363711               5\n",
       "0zB0YGv      1112314890               1\n",
       "             1112343194               1\n",
       "             1112343243               2\n",
       "             1112344973               7\n",
       "             1112356396               2\n",
       "             1112366929               3\n",
       "             1112369306               2\n",
       "0zB0xL1      1112358035               1"
      ]
     },
     "execution_count": 46,
     "metadata": {},
     "output_type": "execute_result"
    }
   ],
   "source": [
    "avisos_vistos_por_postulantes.head(30)"
   ]
  },
  {
   "cell_type": "code",
   "execution_count": 47,
   "metadata": {},
   "outputs": [],
   "source": [
    "avisos_vistos_por_postulantes=avisos_vistos_por_postulantes.reset_index()"
   ]
  },
  {
   "cell_type": "code",
   "execution_count": 48,
   "metadata": {},
   "outputs": [
    {
     "data": {
      "text/html": [
       "<div>\n",
       "<style>\n",
       "    .dataframe thead tr:only-child th {\n",
       "        text-align: right;\n",
       "    }\n",
       "\n",
       "    .dataframe thead th {\n",
       "        text-align: left;\n",
       "    }\n",
       "\n",
       "    .dataframe tbody tr th {\n",
       "        vertical-align: top;\n",
       "    }\n",
       "</style>\n",
       "<table border=\"1\" class=\"dataframe\">\n",
       "  <thead>\n",
       "    <tr style=\"text-align: right;\">\n",
       "      <th></th>\n",
       "      <th>idpostulante</th>\n",
       "      <th>idAviso</th>\n",
       "      <th>cantidadVistas</th>\n",
       "    </tr>\n",
       "  </thead>\n",
       "  <tbody>\n",
       "    <tr>\n",
       "      <th>0</th>\n",
       "      <td>0z5VvGv</td>\n",
       "      <td>1111413600</td>\n",
       "      <td>1</td>\n",
       "    </tr>\n",
       "    <tr>\n",
       "      <th>1</th>\n",
       "      <td>0z5VvGv</td>\n",
       "      <td>1112368499</td>\n",
       "      <td>1</td>\n",
       "    </tr>\n",
       "    <tr>\n",
       "      <th>2</th>\n",
       "      <td>0z5VvGv</td>\n",
       "      <td>1112369554</td>\n",
       "      <td>1</td>\n",
       "    </tr>\n",
       "    <tr>\n",
       "      <th>3</th>\n",
       "      <td>0zB026d</td>\n",
       "      <td>1112358250</td>\n",
       "      <td>6</td>\n",
       "    </tr>\n",
       "    <tr>\n",
       "      <th>4</th>\n",
       "      <td>0zB03O9</td>\n",
       "      <td>1111830203</td>\n",
       "      <td>1</td>\n",
       "    </tr>\n",
       "    <tr>\n",
       "      <th>5</th>\n",
       "      <td>0zB03O9</td>\n",
       "      <td>1112205394</td>\n",
       "      <td>2</td>\n",
       "    </tr>\n",
       "    <tr>\n",
       "      <th>6</th>\n",
       "      <td>0zB03O9</td>\n",
       "      <td>1112234599</td>\n",
       "      <td>2</td>\n",
       "    </tr>\n",
       "    <tr>\n",
       "      <th>7</th>\n",
       "      <td>0zB03O9</td>\n",
       "      <td>1112306281</td>\n",
       "      <td>2</td>\n",
       "    </tr>\n",
       "    <tr>\n",
       "      <th>8</th>\n",
       "      <td>0zB03O9</td>\n",
       "      <td>1112315062</td>\n",
       "      <td>1</td>\n",
       "    </tr>\n",
       "    <tr>\n",
       "      <th>9</th>\n",
       "      <td>0zB03O9</td>\n",
       "      <td>1112316288</td>\n",
       "      <td>8</td>\n",
       "    </tr>\n",
       "    <tr>\n",
       "      <th>10</th>\n",
       "      <td>0zB03O9</td>\n",
       "      <td>1112325383</td>\n",
       "      <td>3</td>\n",
       "    </tr>\n",
       "    <tr>\n",
       "      <th>11</th>\n",
       "      <td>0zB03O9</td>\n",
       "      <td>1112334784</td>\n",
       "      <td>1</td>\n",
       "    </tr>\n",
       "    <tr>\n",
       "      <th>12</th>\n",
       "      <td>0zB03O9</td>\n",
       "      <td>1112334789</td>\n",
       "      <td>2</td>\n",
       "    </tr>\n",
       "    <tr>\n",
       "      <th>13</th>\n",
       "      <td>0zB03O9</td>\n",
       "      <td>1112334791</td>\n",
       "      <td>2</td>\n",
       "    </tr>\n",
       "    <tr>\n",
       "      <th>14</th>\n",
       "      <td>0zB03O9</td>\n",
       "      <td>1112337991</td>\n",
       "      <td>1</td>\n",
       "    </tr>\n",
       "  </tbody>\n",
       "</table>\n",
       "</div>"
      ],
      "text/plain": [
       "   idpostulante     idAviso  cantidadVistas\n",
       "0       0z5VvGv  1111413600               1\n",
       "1       0z5VvGv  1112368499               1\n",
       "2       0z5VvGv  1112369554               1\n",
       "3       0zB026d  1112358250               6\n",
       "4       0zB03O9  1111830203               1\n",
       "5       0zB03O9  1112205394               2\n",
       "6       0zB03O9  1112234599               2\n",
       "7       0zB03O9  1112306281               2\n",
       "8       0zB03O9  1112315062               1\n",
       "9       0zB03O9  1112316288               8\n",
       "10      0zB03O9  1112325383               3\n",
       "11      0zB03O9  1112334784               1\n",
       "12      0zB03O9  1112334789               2\n",
       "13      0zB03O9  1112334791               2\n",
       "14      0zB03O9  1112337991               1"
      ]
     },
     "execution_count": 48,
     "metadata": {},
     "output_type": "execute_result"
    }
   ],
   "source": [
    "avisos_vistos_por_postulantes.head(15)"
   ]
  },
  {
   "cell_type": "code",
   "execution_count": 49,
   "metadata": {},
   "outputs": [],
   "source": [
    "vistas_con_cantidad = pd.merge(vistas, avisos_vistos_por_postulantes, on = ['idpostulante','idAviso'], how = 'inner')"
   ]
  },
  {
   "cell_type": "code",
   "execution_count": 50,
   "metadata": {},
   "outputs": [
    {
     "data": {
      "text/html": [
       "<div>\n",
       "<style>\n",
       "    .dataframe thead tr:only-child th {\n",
       "        text-align: right;\n",
       "    }\n",
       "\n",
       "    .dataframe thead th {\n",
       "        text-align: left;\n",
       "    }\n",
       "\n",
       "    .dataframe tbody tr th {\n",
       "        vertical-align: top;\n",
       "    }\n",
       "</style>\n",
       "<table border=\"1\" class=\"dataframe\">\n",
       "  <thead>\n",
       "    <tr style=\"text-align: right;\">\n",
       "      <th></th>\n",
       "      <th>idAviso</th>\n",
       "      <th>timestamp</th>\n",
       "      <th>idpostulante</th>\n",
       "      <th>cantidadVistas</th>\n",
       "    </tr>\n",
       "  </thead>\n",
       "  <tbody>\n",
       "    <tr>\n",
       "      <th>0</th>\n",
       "      <td>1111780242</td>\n",
       "      <td>2018-02-23T13:38:13.187-0500</td>\n",
       "      <td>YjVJQ6Z</td>\n",
       "      <td>1</td>\n",
       "    </tr>\n",
       "    <tr>\n",
       "      <th>1</th>\n",
       "      <td>1112263876</td>\n",
       "      <td>2018-02-23T13:38:14.296-0500</td>\n",
       "      <td>BmVpYoR</td>\n",
       "      <td>1</td>\n",
       "    </tr>\n",
       "    <tr>\n",
       "      <th>2</th>\n",
       "      <td>1112327963</td>\n",
       "      <td>2018-02-23T13:38:14.329-0500</td>\n",
       "      <td>wVkBzZd</td>\n",
       "      <td>1</td>\n",
       "    </tr>\n",
       "    <tr>\n",
       "      <th>3</th>\n",
       "      <td>1112318643</td>\n",
       "      <td>2018-02-23T13:38:17.921-0500</td>\n",
       "      <td>OqmP9pv</td>\n",
       "      <td>1</td>\n",
       "    </tr>\n",
       "    <tr>\n",
       "      <th>4</th>\n",
       "      <td>1111903673</td>\n",
       "      <td>2018-02-23T13:38:18.973-0500</td>\n",
       "      <td>DrpbXDP</td>\n",
       "      <td>1</td>\n",
       "    </tr>\n",
       "  </tbody>\n",
       "</table>\n",
       "</div>"
      ],
      "text/plain": [
       "      idAviso                     timestamp idpostulante  cantidadVistas\n",
       "0  1111780242  2018-02-23T13:38:13.187-0500      YjVJQ6Z               1\n",
       "1  1112263876  2018-02-23T13:38:14.296-0500      BmVpYoR               1\n",
       "2  1112327963  2018-02-23T13:38:14.329-0500      wVkBzZd               1\n",
       "3  1112318643  2018-02-23T13:38:17.921-0500      OqmP9pv               1\n",
       "4  1111903673  2018-02-23T13:38:18.973-0500      DrpbXDP               1"
      ]
     },
     "execution_count": 50,
     "metadata": {},
     "output_type": "execute_result"
    }
   ],
   "source": [
    "vistas_con_cantidad.head()"
   ]
  },
  {
   "cell_type": "code",
   "execution_count": 51,
   "metadata": {},
   "outputs": [],
   "source": [
    "# Transform date object to date time\n",
    "vistas['timestamp_month'] = pd.to_datetime(vistas['timestamp'], errors = 'coerce', format=\"%Y/%m/%d\").dt.month\n",
    "vistas['timestamp_day'] = pd.to_datetime(vistas['timestamp'], errors = 'coerce', format=\"%Y/%m/%d\").dt.day\n",
    "vistas['timestamp_hour'] = pd.to_datetime(vistas['timestamp'], errors = 'coerce', format=\"%Y/%m/%d\").dt.hour"
   ]
  },
  {
   "cell_type": "code",
   "execution_count": 52,
   "metadata": {},
   "outputs": [],
   "source": [
    "vistas['timestamp_date'] = vistas['timestamp'].str.slice(start=0, stop=10, step=None)\n",
    "vistas['timestamp_date'] = pd.to_datetime(vistas['timestamp_date'], errors = 'coerce', format=\"%Y/%m/%d\", exact=True)"
   ]
  },
  {
   "cell_type": "code",
   "execution_count": 53,
   "metadata": {},
   "outputs": [
    {
     "data": {
      "text/plain": [
       "2018-02-26    240783\n",
       "2018-02-27    230947\n",
       "2018-02-28    226826\n",
       "2018-02-25    105245\n",
       "2018-02-24     90349\n",
       "2018-02-23     67747\n",
       "Name: timestamp_date, dtype: int64"
      ]
     },
     "execution_count": 53,
     "metadata": {},
     "output_type": "execute_result"
    }
   ],
   "source": [
    "vistas['timestamp_date'].value_counts()"
   ]
  },
  {
   "cell_type": "code",
   "execution_count": 54,
   "metadata": {},
   "outputs": [
    {
     "data": {
      "text/plain": [
       "Text(0,0.5,'Count')"
      ]
     },
     "execution_count": 54,
     "metadata": {},
     "output_type": "execute_result"
    },
    {
     "data": {
      "image/png": "[encoded data removed]",
      "text/plain": [
       "<matplotlib.figure.Figure at 0x1dea74f1320>"
      ]
     },
     "metadata": {},
     "output_type": "display_data"
    }
   ],
   "source": [
    "g = vistas['timestamp_date'].value_counts().sort_index().plot()\n",
    "g.set_title(\"Distribucion de vistas por dia\", fontsize=18)\n",
    "g.set_ylabel(\"Count\", fontsize=18)"
   ]
  },
  {
   "cell_type": "code",
   "execution_count": 55,
   "metadata": {},
   "outputs": [
    {
     "data": {
      "text/plain": [
       "Text(0,0.5,'Count')"
      ]
     },
     "execution_count": 55,
     "metadata": {},
     "output_type": "execute_result"
    },
    {
     "data": {
      "image/png": "[encoded data removed]",
      "text/plain": [
       "<matplotlib.figure.Figure at 0x1dea8547128>"
      ]
     },
     "metadata": {},
     "output_type": "display_data"
    }
   ],
   "source": [
    "g =vistas['timestamp_hour'].value_counts().sort_index().plot()\n",
    "g.set_title(\"Distribucion de vistas por hora\", fontsize=18)\n",
    "g.set_ylabel(\"Count\", fontsize=18)"
   ]
  },
  {
   "cell_type": "code",
   "execution_count": 56,
   "metadata": {},
   "outputs": [
    {
     "data": {
      "text/html": [
       "<div>\n",
       "<style>\n",
       "    .dataframe thead tr:only-child th {\n",
       "        text-align: right;\n",
       "    }\n",
       "\n",
       "    .dataframe thead th {\n",
       "        text-align: left;\n",
       "    }\n",
       "\n",
       "    .dataframe tbody tr th {\n",
       "        vertical-align: top;\n",
       "    }\n",
       "</style>\n",
       "<table border=\"1\" class=\"dataframe\">\n",
       "  <thead>\n",
       "    <tr style=\"text-align: right;\">\n",
       "      <th></th>\n",
       "      <th>idAviso</th>\n",
       "      <th>timestamp</th>\n",
       "      <th>idpostulante</th>\n",
       "      <th>timestamp_month</th>\n",
       "      <th>timestamp_day</th>\n",
       "      <th>timestamp_hour</th>\n",
       "      <th>timestamp_date</th>\n",
       "    </tr>\n",
       "  </thead>\n",
       "  <tbody>\n",
       "    <tr>\n",
       "      <th>0</th>\n",
       "      <td>1111780242</td>\n",
       "      <td>2018-02-23T13:38:13.187-0500</td>\n",
       "      <td>YjVJQ6Z</td>\n",
       "      <td>2</td>\n",
       "      <td>23</td>\n",
       "      <td>18</td>\n",
       "      <td>2018-02-23</td>\n",
       "    </tr>\n",
       "    <tr>\n",
       "      <th>1</th>\n",
       "      <td>1112263876</td>\n",
       "      <td>2018-02-23T13:38:14.296-0500</td>\n",
       "      <td>BmVpYoR</td>\n",
       "      <td>2</td>\n",
       "      <td>23</td>\n",
       "      <td>18</td>\n",
       "      <td>2018-02-23</td>\n",
       "    </tr>\n",
       "    <tr>\n",
       "      <th>2</th>\n",
       "      <td>1112327963</td>\n",
       "      <td>2018-02-23T13:38:14.329-0500</td>\n",
       "      <td>wVkBzZd</td>\n",
       "      <td>2</td>\n",
       "      <td>23</td>\n",
       "      <td>18</td>\n",
       "      <td>2018-02-23</td>\n",
       "    </tr>\n",
       "    <tr>\n",
       "      <th>3</th>\n",
       "      <td>1112318643</td>\n",
       "      <td>2018-02-23T13:38:17.921-0500</td>\n",
       "      <td>OqmP9pv</td>\n",
       "      <td>2</td>\n",
       "      <td>23</td>\n",
       "      <td>18</td>\n",
       "      <td>2018-02-23</td>\n",
       "    </tr>\n",
       "    <tr>\n",
       "      <th>4</th>\n",
       "      <td>1111903673</td>\n",
       "      <td>2018-02-23T13:38:18.973-0500</td>\n",
       "      <td>DrpbXDP</td>\n",
       "      <td>2</td>\n",
       "      <td>23</td>\n",
       "      <td>18</td>\n",
       "      <td>2018-02-23</td>\n",
       "    </tr>\n",
       "  </tbody>\n",
       "</table>\n",
       "</div>"
      ],
      "text/plain": [
       "      idAviso                     timestamp idpostulante  timestamp_month  \\\n",
       "0  1111780242  2018-02-23T13:38:13.187-0500      YjVJQ6Z                2   \n",
       "1  1112263876  2018-02-23T13:38:14.296-0500      BmVpYoR                2   \n",
       "2  1112327963  2018-02-23T13:38:14.329-0500      wVkBzZd                2   \n",
       "3  1112318643  2018-02-23T13:38:17.921-0500      OqmP9pv                2   \n",
       "4  1111903673  2018-02-23T13:38:18.973-0500      DrpbXDP                2   \n",
       "\n",
       "   timestamp_day  timestamp_hour timestamp_date  \n",
       "0             23              18     2018-02-23  \n",
       "1             23              18     2018-02-23  \n",
       "2             23              18     2018-02-23  \n",
       "3             23              18     2018-02-23  \n",
       "4             23              18     2018-02-23  "
      ]
     },
     "execution_count": 56,
     "metadata": {},
     "output_type": "execute_result"
    }
   ],
   "source": [
    "vistas.head()"
   ]
  },
  {
   "cell_type": "code",
   "execution_count": 57,
   "metadata": {},
   "outputs": [
    {
     "data": {
      "text/html": [
       "<div>\n",
       "<style>\n",
       "    .dataframe thead tr:only-child th {\n",
       "        text-align: right;\n",
       "    }\n",
       "\n",
       "    .dataframe thead th {\n",
       "        text-align: left;\n",
       "    }\n",
       "\n",
       "    .dataframe tbody tr th {\n",
       "        vertical-align: top;\n",
       "    }\n",
       "</style>\n",
       "<table border=\"1\" class=\"dataframe\">\n",
       "  <thead>\n",
       "    <tr style=\"text-align: right;\">\n",
       "      <th></th>\n",
       "      <th>idpostulante</th>\n",
       "      <th>nombre</th>\n",
       "      <th>estado</th>\n",
       "      <th>in_educacion</th>\n",
       "      <th>sexo</th>\n",
       "      <th>age</th>\n",
       "      <th>in_genero</th>\n",
       "    </tr>\n",
       "  </thead>\n",
       "  <tbody>\n",
       "    <tr>\n",
       "      <th>0</th>\n",
       "      <td>zvxzrWm</td>\n",
       "      <td>Universitario</td>\n",
       "      <td>Graduado</td>\n",
       "      <td>1.0</td>\n",
       "      <td>MASC</td>\n",
       "      <td>37.0</td>\n",
       "      <td>1</td>\n",
       "    </tr>\n",
       "    <tr>\n",
       "      <th>1</th>\n",
       "      <td>zvxzmED</td>\n",
       "      <td>Secundario</td>\n",
       "      <td>Graduado</td>\n",
       "      <td>1.0</td>\n",
       "      <td>FEM</td>\n",
       "      <td>19.0</td>\n",
       "      <td>1</td>\n",
       "    </tr>\n",
       "    <tr>\n",
       "      <th>2</th>\n",
       "      <td>zvxzjoK</td>\n",
       "      <td>Terciario/Técnico</td>\n",
       "      <td>En Curso</td>\n",
       "      <td>1.0</td>\n",
       "      <td>FEM</td>\n",
       "      <td>20.0</td>\n",
       "      <td>1</td>\n",
       "    </tr>\n",
       "    <tr>\n",
       "      <th>3</th>\n",
       "      <td>zvxzeBK</td>\n",
       "      <td>Terciario/Técnico</td>\n",
       "      <td>Graduado</td>\n",
       "      <td>1.0</td>\n",
       "      <td>MASC</td>\n",
       "      <td>25.0</td>\n",
       "      <td>1</td>\n",
       "    </tr>\n",
       "    <tr>\n",
       "      <th>4</th>\n",
       "      <td>zvxzVr8</td>\n",
       "      <td>Secundario</td>\n",
       "      <td>Graduado</td>\n",
       "      <td>1.0</td>\n",
       "      <td>MASC</td>\n",
       "      <td>28.0</td>\n",
       "      <td>1</td>\n",
       "    </tr>\n",
       "  </tbody>\n",
       "</table>\n",
       "</div>"
      ],
      "text/plain": [
       "  idpostulante             nombre    estado  in_educacion  sexo   age  \\\n",
       "0      zvxzrWm      Universitario  Graduado           1.0  MASC  37.0   \n",
       "1      zvxzmED         Secundario  Graduado           1.0   FEM  19.0   \n",
       "2      zvxzjoK  Terciario/Técnico  En Curso           1.0   FEM  20.0   \n",
       "3      zvxzeBK  Terciario/Técnico  Graduado           1.0  MASC  25.0   \n",
       "4      zvxzVr8         Secundario  Graduado           1.0  MASC  28.0   \n",
       "\n",
       "   in_genero  \n",
       "0          1  \n",
       "1          1  \n",
       "2          1  \n",
       "3          1  \n",
       "4          1  "
      ]
     },
     "execution_count": 57,
     "metadata": {},
     "output_type": "execute_result"
    }
   ],
   "source": [
    "edu_age.head()"
   ]
  },
  {
   "cell_type": "code",
   "execution_count": 58,
   "metadata": {},
   "outputs": [],
   "source": [
    "#vistas['in_vistas'] =1"
   ]
  },
  {
   "cell_type": "code",
   "execution_count": 59,
   "metadata": {},
   "outputs": [],
   "source": [
    "#vistas_edu_age = pd.merge(vistas[['idAviso','idpostulante','avisas_vistas_por_postulante', 'vistas_de_aviso',\n",
    "#'timestamp_date','timestamp_hour','timestamp_day','in_vistas']],\n",
    "#                          edu_age ,on = 'idpostulante', how='outer')"
   ]
  },
  {
   "cell_type": "code",
   "execution_count": 60,
   "metadata": {},
   "outputs": [],
   "source": [
    "# Crosstab to check postulantes that are in one dataset but not in the other\n",
    "#vistas_edu_age['in_educacion'].fillna(0,inplace=True)\n",
    "#vistas_edu_age['in_vistas'].fillna(0,inplace=True)\n",
    "#vistas_edu_age['in_genero'].fillna(0,inplace=True)\n",
    "#print(pd.crosstab(vistas_edu_age['in_educacion'] , vistas_edu_age['in_vistas']))\n",
    "#print(pd.crosstab(vistas_edu_age['in_genero'] , vistas_edu_age['in_vistas']))"
   ]
  },
  {
   "cell_type": "markdown",
   "metadata": {},
   "source": [
    "# Postulaciones"
   ]
  },
  {
   "cell_type": "code",
   "execution_count": 61,
   "metadata": {},
   "outputs": [],
   "source": [
    "postulaciones = pd.read_csv('Data/datos_navent_fiuba/fiuba_4_postulaciones.csv')"
   ]
  },
  {
   "cell_type": "code",
   "execution_count": 62,
   "metadata": {},
   "outputs": [
    {
     "data": {
      "text/plain": [
       "(3401623, 3)"
      ]
     },
     "execution_count": 62,
     "metadata": {},
     "output_type": "execute_result"
    }
   ],
   "source": [
    "postulaciones.shape"
   ]
  },
  {
   "cell_type": "code",
   "execution_count": 63,
   "metadata": {},
   "outputs": [
    {
     "data": {
      "text/html": [
       "<div>\n",
       "<style>\n",
       "    .dataframe thead tr:only-child th {\n",
       "        text-align: right;\n",
       "    }\n",
       "\n",
       "    .dataframe thead th {\n",
       "        text-align: left;\n",
       "    }\n",
       "\n",
       "    .dataframe tbody tr th {\n",
       "        vertical-align: top;\n",
       "    }\n",
       "</style>\n",
       "<table border=\"1\" class=\"dataframe\">\n",
       "  <thead>\n",
       "    <tr style=\"text-align: right;\">\n",
       "      <th></th>\n",
       "      <th>idaviso</th>\n",
       "      <th>idpostulante</th>\n",
       "      <th>fechapostulacion</th>\n",
       "    </tr>\n",
       "  </thead>\n",
       "  <tbody>\n",
       "    <tr>\n",
       "      <th>count</th>\n",
       "      <td>3.401623e+06</td>\n",
       "      <td>3401623</td>\n",
       "      <td>3401623</td>\n",
       "    </tr>\n",
       "    <tr>\n",
       "      <th>unique</th>\n",
       "      <td>NaN</td>\n",
       "      <td>200888</td>\n",
       "      <td>1940105</td>\n",
       "    </tr>\n",
       "    <tr>\n",
       "      <th>top</th>\n",
       "      <td>NaN</td>\n",
       "      <td>axmjOE</td>\n",
       "      <td>2018-01-17 07:03:36</td>\n",
       "    </tr>\n",
       "    <tr>\n",
       "      <th>freq</th>\n",
       "      <td>NaN</td>\n",
       "      <td>3166</td>\n",
       "      <td>25</td>\n",
       "    </tr>\n",
       "    <tr>\n",
       "      <th>mean</th>\n",
       "      <td>1.111432e+09</td>\n",
       "      <td>NaN</td>\n",
       "      <td>NaN</td>\n",
       "    </tr>\n",
       "    <tr>\n",
       "      <th>std</th>\n",
       "      <td>2.195180e+07</td>\n",
       "      <td>NaN</td>\n",
       "      <td>NaN</td>\n",
       "    </tr>\n",
       "    <tr>\n",
       "      <th>min</th>\n",
       "      <td>8.725750e+06</td>\n",
       "      <td>NaN</td>\n",
       "      <td>NaN</td>\n",
       "    </tr>\n",
       "    <tr>\n",
       "      <th>25%</th>\n",
       "      <td>1.112261e+09</td>\n",
       "      <td>NaN</td>\n",
       "      <td>NaN</td>\n",
       "    </tr>\n",
       "    <tr>\n",
       "      <th>50%</th>\n",
       "      <td>1.112293e+09</td>\n",
       "      <td>NaN</td>\n",
       "      <td>NaN</td>\n",
       "    </tr>\n",
       "    <tr>\n",
       "      <th>75%</th>\n",
       "      <td>1.112327e+09</td>\n",
       "      <td>NaN</td>\n",
       "      <td>NaN</td>\n",
       "    </tr>\n",
       "    <tr>\n",
       "      <th>max</th>\n",
       "      <td>1.112370e+09</td>\n",
       "      <td>NaN</td>\n",
       "      <td>NaN</td>\n",
       "    </tr>\n",
       "  </tbody>\n",
       "</table>\n",
       "</div>"
      ],
      "text/plain": [
       "             idaviso idpostulante     fechapostulacion\n",
       "count   3.401623e+06      3401623              3401623\n",
       "unique           NaN       200888              1940105\n",
       "top              NaN       axmjOE  2018-01-17 07:03:36\n",
       "freq             NaN         3166                   25\n",
       "mean    1.111432e+09          NaN                  NaN\n",
       "std     2.195180e+07          NaN                  NaN\n",
       "min     8.725750e+06          NaN                  NaN\n",
       "25%     1.112261e+09          NaN                  NaN\n",
       "50%     1.112293e+09          NaN                  NaN\n",
       "75%     1.112327e+09          NaN                  NaN\n",
       "max     1.112370e+09          NaN                  NaN"
      ]
     },
     "execution_count": 63,
     "metadata": {},
     "output_type": "execute_result"
    }
   ],
   "source": [
    "postulaciones.describe(include='all')"
   ]
  },
  {
   "cell_type": "code",
   "execution_count": 64,
   "metadata": {},
   "outputs": [
    {
     "data": {
      "text/html": [
       "<div>\n",
       "<style>\n",
       "    .dataframe thead tr:only-child th {\n",
       "        text-align: right;\n",
       "    }\n",
       "\n",
       "    .dataframe thead th {\n",
       "        text-align: left;\n",
       "    }\n",
       "\n",
       "    .dataframe tbody tr th {\n",
       "        vertical-align: top;\n",
       "    }\n",
       "</style>\n",
       "<table border=\"1\" class=\"dataframe\">\n",
       "  <thead>\n",
       "    <tr style=\"text-align: right;\">\n",
       "      <th></th>\n",
       "      <th>idAviso</th>\n",
       "      <th>idpostulante</th>\n",
       "      <th>fechapostulacion</th>\n",
       "    </tr>\n",
       "  </thead>\n",
       "  <tbody>\n",
       "    <tr>\n",
       "      <th>0</th>\n",
       "      <td>1112257047</td>\n",
       "      <td>NM5M</td>\n",
       "      <td>2018-01-15 16:22:34</td>\n",
       "    </tr>\n",
       "    <tr>\n",
       "      <th>1</th>\n",
       "      <td>1111920714</td>\n",
       "      <td>NM5M</td>\n",
       "      <td>2018-02-06 09:04:50</td>\n",
       "    </tr>\n",
       "    <tr>\n",
       "      <th>2</th>\n",
       "      <td>1112346945</td>\n",
       "      <td>NM5M</td>\n",
       "      <td>2018-02-22 09:04:47</td>\n",
       "    </tr>\n",
       "    <tr>\n",
       "      <th>3</th>\n",
       "      <td>1112345547</td>\n",
       "      <td>NM5M</td>\n",
       "      <td>2018-02-22 09:04:59</td>\n",
       "    </tr>\n",
       "    <tr>\n",
       "      <th>4</th>\n",
       "      <td>1112237522</td>\n",
       "      <td>5awk</td>\n",
       "      <td>2018-01-25 18:55:03</td>\n",
       "    </tr>\n",
       "  </tbody>\n",
       "</table>\n",
       "</div>"
      ],
      "text/plain": [
       "      idAviso idpostulante     fechapostulacion\n",
       "0  1112257047         NM5M  2018-01-15 16:22:34\n",
       "1  1111920714         NM5M  2018-02-06 09:04:50\n",
       "2  1112346945         NM5M  2018-02-22 09:04:47\n",
       "3  1112345547         NM5M  2018-02-22 09:04:59\n",
       "4  1112237522         5awk  2018-01-25 18:55:03"
      ]
     },
     "execution_count": 64,
     "metadata": {},
     "output_type": "execute_result"
    }
   ],
   "source": [
    "postulaciones.rename(columns={\"idaviso\": \"idAviso\"},inplace=True)\n",
    "postulaciones.head()"
   ]
  },
  {
   "cell_type": "code",
   "execution_count": 65,
   "metadata": {},
   "outputs": [
    {
     "data": {
      "text/plain": [
       "idAviso             0\n",
       "idpostulante        0\n",
       "fechapostulacion    0\n",
       "dtype: int64"
      ]
     },
     "execution_count": 65,
     "metadata": {},
     "output_type": "execute_result"
    }
   ],
   "source": [
    "# check for missing values\n",
    "postulaciones.isnull().sum()"
   ]
  },
  {
   "cell_type": "code",
   "execution_count": 66,
   "metadata": {},
   "outputs": [
    {
     "data": {
      "text/plain": [
       "idAviso              int64\n",
       "idpostulante        object\n",
       "fechapostulacion    object\n",
       "dtype: object"
      ]
     },
     "execution_count": 66,
     "metadata": {},
     "output_type": "execute_result"
    }
   ],
   "source": [
    "postulaciones.dtypes"
   ]
  },
  {
   "cell_type": "code",
   "execution_count": 67,
   "metadata": {},
   "outputs": [],
   "source": [
    "postulaciones['fechapostulacion_date'] = postulaciones['fechapostulacion'].str.slice(start=0, stop=10, step=None)\n",
    "postulaciones['fechapostulacion_date'] = pd.to_datetime(postulaciones['fechapostulacion_date'], errors = 'coerce', format=\"%Y/%m/%d\", exact=True)"
   ]
  },
  {
   "cell_type": "code",
   "execution_count": 68,
   "metadata": {},
   "outputs": [
    {
     "data": {
      "text/plain": [
       "count                 3401623\n",
       "unique                     45\n",
       "top       2018-02-19 00:00:00\n",
       "freq                   137104\n",
       "first     2018-01-15 00:00:00\n",
       "last      2018-02-28 00:00:00\n",
       "Name: fechapostulacion_date, dtype: object"
      ]
     },
     "execution_count": 68,
     "metadata": {},
     "output_type": "execute_result"
    }
   ],
   "source": [
    "postulaciones['fechapostulacion_date'].describe()"
   ]
  },
  {
   "cell_type": "code",
   "execution_count": 69,
   "metadata": {},
   "outputs": [
    {
     "data": {
      "text/plain": [
       "Text(0,0.5,'Count')"
      ]
     },
     "execution_count": 69,
     "metadata": {},
     "output_type": "execute_result"
    },
    {
     "data": {
      "image/png": "[encoded data removed]",
      "text/plain": [
       "<matplotlib.figure.Figure at 0x1debb68fba8>"
      ]
     },
     "metadata": {},
     "output_type": "display_data"
    }
   ],
   "source": [
    "g =postulaciones['fechapostulacion_date'].value_counts().sort_index().plot()\n",
    "g.set_title(\"Distribucion de postulaciones por fecha\", fontsize=18)\n",
    "g.set_ylabel(\"Count\", fontsize=18)"
   ]
  },
  {
   "cell_type": "code",
   "execution_count": 70,
   "metadata": {},
   "outputs": [
    {
     "data": {
      "text/plain": [
       "Text(0,0.5,'Count')"
      ]
     },
     "execution_count": 70,
     "metadata": {},
     "output_type": "execute_result"
    },
    {
     "data": {
      "image/png": "[encoded data removed]",
      "text/plain": [
       "<matplotlib.figure.Figure at 0x1deaa713be0>"
      ]
     },
     "metadata": {},
     "output_type": "display_data"
    }
   ],
   "source": [
    "postulaciones['fechapostulacion_hour'] = pd.to_datetime(postulaciones['fechapostulacion'], errors = 'coerce', format=\"%Y/%m/%d\").dt.hour\n",
    "g =postulaciones['fechapostulacion_hour'].value_counts().sort_index().plot()\n",
    "g.set_title(\"Distribucion de postulaciones por hora\", fontsize=18)\n",
    "g.set_ylabel(\"Count\", fontsize=18)"
   ]
  },
  {
   "cell_type": "code",
   "execution_count": 71,
   "metadata": {},
   "outputs": [],
   "source": [
    "# Count number of postulants for each ad\n",
    "#postulaciones_por_aviso = pd.DataFrame(postulaciones.groupby('idAviso')['idpostulante'].agg('count'))\n",
    "#postulaciones_por_aviso['postulantes_por_aviso'] = postulaciones_por_aviso.values\n",
    "#postulaciones_por_aviso['idAviso'] = postulaciones_por_aviso.index\n",
    "#postulaciones = pd.merge(postulaciones, postulaciones_por_aviso[['idAviso','postulantes_por_aviso']],\n",
    "#                         on='idAviso',how='inner')\n",
    "#len(postulaciones)"
   ]
  },
  {
   "cell_type": "code",
   "execution_count": 72,
   "metadata": {},
   "outputs": [
    {
     "data": {
      "text/html": [
       "<div>\n",
       "<style>\n",
       "    .dataframe thead tr:only-child th {\n",
       "        text-align: right;\n",
       "    }\n",
       "\n",
       "    .dataframe thead th {\n",
       "        text-align: left;\n",
       "    }\n",
       "\n",
       "    .dataframe tbody tr th {\n",
       "        vertical-align: top;\n",
       "    }\n",
       "</style>\n",
       "<table border=\"1\" class=\"dataframe\">\n",
       "  <thead>\n",
       "    <tr style=\"text-align: right;\">\n",
       "      <th></th>\n",
       "      <th>idAviso</th>\n",
       "      <th>idpostulante</th>\n",
       "      <th>fechapostulacion</th>\n",
       "      <th>fechapostulacion_date</th>\n",
       "      <th>fechapostulacion_hour</th>\n",
       "    </tr>\n",
       "  </thead>\n",
       "  <tbody>\n",
       "    <tr>\n",
       "      <th>0</th>\n",
       "      <td>1112257047</td>\n",
       "      <td>NM5M</td>\n",
       "      <td>2018-01-15 16:22:34</td>\n",
       "      <td>2018-01-15</td>\n",
       "      <td>16</td>\n",
       "    </tr>\n",
       "    <tr>\n",
       "      <th>1</th>\n",
       "      <td>1111920714</td>\n",
       "      <td>NM5M</td>\n",
       "      <td>2018-02-06 09:04:50</td>\n",
       "      <td>2018-02-06</td>\n",
       "      <td>9</td>\n",
       "    </tr>\n",
       "    <tr>\n",
       "      <th>2</th>\n",
       "      <td>1112346945</td>\n",
       "      <td>NM5M</td>\n",
       "      <td>2018-02-22 09:04:47</td>\n",
       "      <td>2018-02-22</td>\n",
       "      <td>9</td>\n",
       "    </tr>\n",
       "    <tr>\n",
       "      <th>3</th>\n",
       "      <td>1112345547</td>\n",
       "      <td>NM5M</td>\n",
       "      <td>2018-02-22 09:04:59</td>\n",
       "      <td>2018-02-22</td>\n",
       "      <td>9</td>\n",
       "    </tr>\n",
       "    <tr>\n",
       "      <th>4</th>\n",
       "      <td>1112237522</td>\n",
       "      <td>5awk</td>\n",
       "      <td>2018-01-25 18:55:03</td>\n",
       "      <td>2018-01-25</td>\n",
       "      <td>18</td>\n",
       "    </tr>\n",
       "  </tbody>\n",
       "</table>\n",
       "</div>"
      ],
      "text/plain": [
       "      idAviso idpostulante     fechapostulacion fechapostulacion_date  \\\n",
       "0  1112257047         NM5M  2018-01-15 16:22:34            2018-01-15   \n",
       "1  1111920714         NM5M  2018-02-06 09:04:50            2018-02-06   \n",
       "2  1112346945         NM5M  2018-02-22 09:04:47            2018-02-22   \n",
       "3  1112345547         NM5M  2018-02-22 09:04:59            2018-02-22   \n",
       "4  1112237522         5awk  2018-01-25 18:55:03            2018-01-25   \n",
       "\n",
       "   fechapostulacion_hour  \n",
       "0                     16  \n",
       "1                      9  \n",
       "2                      9  \n",
       "3                      9  \n",
       "4                     18  "
      ]
     },
     "execution_count": 72,
     "metadata": {},
     "output_type": "execute_result"
    }
   ],
   "source": [
    "postulaciones.head()"
   ]
  },
  {
   "cell_type": "code",
   "execution_count": 73,
   "metadata": {},
   "outputs": [
    {
     "data": {
      "text/html": [
       "<div>\n",
       "<style>\n",
       "    .dataframe thead tr:only-child th {\n",
       "        text-align: right;\n",
       "    }\n",
       "\n",
       "    .dataframe thead th {\n",
       "        text-align: left;\n",
       "    }\n",
       "\n",
       "    .dataframe tbody tr th {\n",
       "        vertical-align: top;\n",
       "    }\n",
       "</style>\n",
       "<table border=\"1\" class=\"dataframe\">\n",
       "  <thead>\n",
       "    <tr style=\"text-align: right;\">\n",
       "      <th></th>\n",
       "      <th>idAviso</th>\n",
       "      <th>cantidadPostulantes</th>\n",
       "    </tr>\n",
       "  </thead>\n",
       "  <tbody>\n",
       "    <tr>\n",
       "      <th>0</th>\n",
       "      <td>8725750</td>\n",
       "      <td>117</td>\n",
       "    </tr>\n",
       "    <tr>\n",
       "      <th>1</th>\n",
       "      <td>11740890</td>\n",
       "      <td>7</td>\n",
       "    </tr>\n",
       "    <tr>\n",
       "      <th>2</th>\n",
       "      <td>12543760</td>\n",
       "      <td>986</td>\n",
       "    </tr>\n",
       "    <tr>\n",
       "      <th>3</th>\n",
       "      <td>12812680</td>\n",
       "      <td>115</td>\n",
       "    </tr>\n",
       "    <tr>\n",
       "      <th>4</th>\n",
       "      <td>1000132160</td>\n",
       "      <td>11</td>\n",
       "    </tr>\n",
       "  </tbody>\n",
       "</table>\n",
       "</div>"
      ],
      "text/plain": [
       "      idAviso  cantidadPostulantes\n",
       "0     8725750                  117\n",
       "1    11740890                    7\n",
       "2    12543760                  986\n",
       "3    12812680                  115\n",
       "4  1000132160                   11"
      ]
     },
     "execution_count": 73,
     "metadata": {},
     "output_type": "execute_result"
    }
   ],
   "source": [
    "#Calculo la cantidad de postulantes distintos para cada aviso\n",
    "postulantes_por_aviso = pd.DataFrame(postulaciones.groupby('idAviso')['idpostulante'].agg('nunique'))\n",
    "postulantes_por_aviso.rename(columns={'idpostulante':'cantidadPostulantes'}, inplace=True)\n",
    "postulantes_por_aviso = postulantes_por_aviso.reset_index()\n",
    "postulantes_por_aviso.head()"
   ]
  },
  {
   "cell_type": "code",
   "execution_count": 74,
   "metadata": {},
   "outputs": [
    {
     "data": {
      "text/plain": [
       "count    12692.000000\n",
       "mean       267.984715\n",
       "std        542.213766\n",
       "min          1.000000\n",
       "25%         33.000000\n",
       "50%        100.000000\n",
       "75%        269.250000\n",
       "max       9932.000000\n",
       "Name: cantidadPostulantes, dtype: float64"
      ]
     },
     "execution_count": 74,
     "metadata": {},
     "output_type": "execute_result"
    }
   ],
   "source": [
    "postulantes_por_aviso['cantidadPostulantes'].describe()"
   ]
  },
  {
   "cell_type": "code",
   "execution_count": 75,
   "metadata": {},
   "outputs": [
    {
     "data": {
      "text/html": [
       "<div>\n",
       "<style>\n",
       "    .dataframe thead tr:only-child th {\n",
       "        text-align: right;\n",
       "    }\n",
       "\n",
       "    .dataframe thead th {\n",
       "        text-align: left;\n",
       "    }\n",
       "\n",
       "    .dataframe tbody tr th {\n",
       "        vertical-align: top;\n",
       "    }\n",
       "</style>\n",
       "<table border=\"1\" class=\"dataframe\">\n",
       "  <thead>\n",
       "    <tr style=\"text-align: right;\">\n",
       "      <th></th>\n",
       "      <th>idpostulante</th>\n",
       "      <th>cantidadPostulaciones</th>\n",
       "    </tr>\n",
       "  </thead>\n",
       "  <tbody>\n",
       "    <tr>\n",
       "      <th>0</th>\n",
       "      <td>0z5VvGv</td>\n",
       "      <td>34</td>\n",
       "    </tr>\n",
       "    <tr>\n",
       "      <th>1</th>\n",
       "      <td>0zB026d</td>\n",
       "      <td>3</td>\n",
       "    </tr>\n",
       "    <tr>\n",
       "      <th>2</th>\n",
       "      <td>0zB03O9</td>\n",
       "      <td>17</td>\n",
       "    </tr>\n",
       "    <tr>\n",
       "      <th>3</th>\n",
       "      <td>0zB08lq</td>\n",
       "      <td>1</td>\n",
       "    </tr>\n",
       "    <tr>\n",
       "      <th>4</th>\n",
       "      <td>0zB0NWY</td>\n",
       "      <td>1</td>\n",
       "    </tr>\n",
       "  </tbody>\n",
       "</table>\n",
       "</div>"
      ],
      "text/plain": [
       "  idpostulante  cantidadPostulaciones\n",
       "0      0z5VvGv                     34\n",
       "1      0zB026d                      3\n",
       "2      0zB03O9                     17\n",
       "3      0zB08lq                      1\n",
       "4      0zB0NWY                      1"
      ]
     },
     "execution_count": 75,
     "metadata": {},
     "output_type": "execute_result"
    }
   ],
   "source": [
    "#Calculo la cantidad de postulaciones a distintos avisos por cada postulante\n",
    "postulaciones_por_postulante = pd.DataFrame(postulaciones.groupby('idpostulante')['idAviso'].agg('nunique'))\n",
    "postulaciones_por_postulante.rename(columns={'idAviso':'cantidadPostulaciones'}, inplace=True)\n",
    "postulaciones_por_postulante = postulaciones_por_postulante.reset_index()\n",
    "postulaciones_por_postulante.head()"
   ]
  },
  {
   "cell_type": "code",
   "execution_count": 76,
   "metadata": {},
   "outputs": [
    {
     "data": {
      "text/plain": [
       "count    200888.000000\n",
       "mean         16.931136\n",
       "std          31.266369\n",
       "min           1.000000\n",
       "25%           3.000000\n",
       "50%           8.000000\n",
       "75%          19.000000\n",
       "max        3166.000000\n",
       "Name: cantidadPostulaciones, dtype: float64"
      ]
     },
     "execution_count": 76,
     "metadata": {},
     "output_type": "execute_result"
    }
   ],
   "source": [
    "postulaciones_por_postulante['cantidadPostulaciones'].describe()"
   ]
  },
  {
   "cell_type": "code",
   "execution_count": 77,
   "metadata": {},
   "outputs": [],
   "source": [
    "# count number of postulaciones por portulante\n",
    "#postulaciones_por_postulante = pd.DataFrame(postulaciones.groupby('idpostulante')['idAviso'].agg('count'))\n",
    "#postulaciones_por_postulante['postulaciones_por_postulante'] = postulaciones_por_postulante.values\n",
    "#postulaciones_por_postulante['idpostulante'] = postulaciones_por_postulante.index\n",
    "#postulaciones = pd.merge(postulaciones, postulaciones_por_postulante[['idpostulante','postulaciones_por_postulante']],\n",
    "#                         on='idpostulante',how='inner')\n",
    "#len(postulaciones)"
   ]
  },
  {
   "cell_type": "code",
   "execution_count": 79,
   "metadata": {},
   "outputs": [],
   "source": [
    "#postulaciones['postulaciones_por_postulante'].describe()"
   ]
  },
  {
   "cell_type": "code",
   "execution_count": 80,
   "metadata": {},
   "outputs": [],
   "source": [
    "#postulaciones['in_postulaciones'] = 1"
   ]
  },
  {
   "cell_type": "code",
   "execution_count": 81,
   "metadata": {},
   "outputs": [],
   "source": [
    "#vistas_edu_age = pd.merge(postulaciones\n",
    "#                          ,'postulaciones_por_postulante', 'postulantes_por_aviso',\n",
    "#'fechapostulacion_date','fechapostulacion_hour','in_postulaciones']],\n",
    "#                          vistas_edu_age ,on = 'idpostulante', how='outer')"
   ]
  },
  {
   "cell_type": "code",
   "execution_count": 82,
   "metadata": {},
   "outputs": [],
   "source": [
    "#vistas_edu_age.head()"
   ]
  },
  {
   "cell_type": "code",
   "execution_count": 83,
   "metadata": {},
   "outputs": [
    {
     "data": {
      "text/html": [
       "<div>\n",
       "<style>\n",
       "    .dataframe thead tr:only-child th {\n",
       "        text-align: right;\n",
       "    }\n",
       "\n",
       "    .dataframe thead th {\n",
       "        text-align: left;\n",
       "    }\n",
       "\n",
       "    .dataframe tbody tr th {\n",
       "        vertical-align: top;\n",
       "    }\n",
       "</style>\n",
       "<table border=\"1\" class=\"dataframe\">\n",
       "  <thead>\n",
       "    <tr style=\"text-align: right;\">\n",
       "      <th></th>\n",
       "      <th>idaviso</th>\n",
       "    </tr>\n",
       "  </thead>\n",
       "  <tbody>\n",
       "    <tr>\n",
       "      <th>0</th>\n",
       "      <td>1112355872</td>\n",
       "    </tr>\n",
       "    <tr>\n",
       "      <th>1</th>\n",
       "      <td>1112335374</td>\n",
       "    </tr>\n",
       "    <tr>\n",
       "      <th>2</th>\n",
       "      <td>1112374842</td>\n",
       "    </tr>\n",
       "    <tr>\n",
       "      <th>3</th>\n",
       "      <td>1111984070</td>\n",
       "    </tr>\n",
       "    <tr>\n",
       "      <th>4</th>\n",
       "      <td>1111822480</td>\n",
       "    </tr>\n",
       "  </tbody>\n",
       "</table>\n",
       "</div>"
      ],
      "text/plain": [
       "      idaviso\n",
       "0  1112355872\n",
       "1  1112335374\n",
       "2  1112374842\n",
       "3  1111984070\n",
       "4  1111822480"
      ]
     },
     "execution_count": 83,
     "metadata": {},
     "output_type": "execute_result"
    }
   ],
   "source": [
    "avisos = pd.read_csv('Data/datos_navent_fiuba/fiuba_5_avisos_online.csv')\n",
    "avisos.head()"
   ]
  },
  {
   "cell_type": "code",
   "execution_count": 84,
   "metadata": {},
   "outputs": [
    {
     "data": {
      "text/plain": [
       "0"
      ]
     },
     "execution_count": 84,
     "metadata": {},
     "output_type": "execute_result"
    }
   ],
   "source": [
    "avisos.duplicated(keep='first').sum()"
   ]
  },
  {
   "cell_type": "code",
   "execution_count": 85,
   "metadata": {},
   "outputs": [
    {
     "data": {
      "text/plain": [
       "(5028, 1)"
      ]
     },
     "execution_count": 85,
     "metadata": {},
     "output_type": "execute_result"
    }
   ],
   "source": [
    "avisos.shape"
   ]
  },
  {
   "cell_type": "code",
   "execution_count": 86,
   "metadata": {},
   "outputs": [],
   "source": [
    "avisos['is_online'] =1"
   ]
  },
  {
   "cell_type": "code",
   "execution_count": 87,
   "metadata": {},
   "outputs": [
    {
     "data": {
      "text/html": [
       "<div>\n",
       "<style>\n",
       "    .dataframe thead tr:only-child th {\n",
       "        text-align: right;\n",
       "    }\n",
       "\n",
       "    .dataframe thead th {\n",
       "        text-align: left;\n",
       "    }\n",
       "\n",
       "    .dataframe tbody tr th {\n",
       "        vertical-align: top;\n",
       "    }\n",
       "</style>\n",
       "<table border=\"1\" class=\"dataframe\">\n",
       "  <thead>\n",
       "    <tr style=\"text-align: right;\">\n",
       "      <th></th>\n",
       "      <th>idaviso</th>\n",
       "      <th>idpais</th>\n",
       "      <th>titulo</th>\n",
       "      <th>descripcion</th>\n",
       "      <th>nombre_zona</th>\n",
       "      <th>ciudad</th>\n",
       "      <th>mapacalle</th>\n",
       "      <th>tipo_de_trabajo</th>\n",
       "      <th>nivel_laboral</th>\n",
       "      <th>nombre_area</th>\n",
       "      <th>denominacion_empresa</th>\n",
       "    </tr>\n",
       "  </thead>\n",
       "  <tbody>\n",
       "    <tr>\n",
       "      <th>0</th>\n",
       "      <td>8725750</td>\n",
       "      <td>1</td>\n",
       "      <td>VENDEDOR/A PROVINCIA DE SANTA FE</td>\n",
       "      <td>&lt;p&gt;&lt;strong&gt;&lt;strong&gt;Empresa:&lt;/strong&gt;&lt;/strong&gt; ...</td>\n",
       "      <td>Gran Buenos Aires</td>\n",
       "      <td>NaN</td>\n",
       "      <td>NaN</td>\n",
       "      <td>Full-time</td>\n",
       "      <td>Senior / Semi-Senior</td>\n",
       "      <td>Comercial</td>\n",
       "      <td>VENTOR</td>\n",
       "    </tr>\n",
       "    <tr>\n",
       "      <th>1</th>\n",
       "      <td>17903700</td>\n",
       "      <td>1</td>\n",
       "      <td>Enfermeras</td>\n",
       "      <td>&lt;p&gt;Solicitamos para importante cadena de farma...</td>\n",
       "      <td>Gran Buenos Aires</td>\n",
       "      <td>NaN</td>\n",
       "      <td>NaN</td>\n",
       "      <td>Full-time</td>\n",
       "      <td>Senior / Semi-Senior</td>\n",
       "      <td>Salud</td>\n",
       "      <td>Farmacias Central Oeste</td>\n",
       "    </tr>\n",
       "    <tr>\n",
       "      <th>2</th>\n",
       "      <td>1000150677</td>\n",
       "      <td>1</td>\n",
       "      <td>Chofer de taxi</td>\n",
       "      <td>&lt;p&gt;TE GUSTA MANEJAR? QUERES GANAR PLATA HACIEN...</td>\n",
       "      <td>Capital Federal</td>\n",
       "      <td>NaN</td>\n",
       "      <td>Empedrado 2336</td>\n",
       "      <td>Full-time</td>\n",
       "      <td>Senior / Semi-Senior</td>\n",
       "      <td>Transporte</td>\n",
       "      <td>FAMITAX SRL</td>\n",
       "    </tr>\n",
       "    <tr>\n",
       "      <th>3</th>\n",
       "      <td>1000610287</td>\n",
       "      <td>1</td>\n",
       "      <td>CHOFER DE CAMIONETA BAHIA BLANCA - PUNTA ALTA</td>\n",
       "      <td>&lt;p&gt;&lt;strong&gt;Somos una empresa multinacional que...</td>\n",
       "      <td>Gran Buenos Aires</td>\n",
       "      <td>NaN</td>\n",
       "      <td>NaN</td>\n",
       "      <td>Full-time</td>\n",
       "      <td>Senior / Semi-Senior</td>\n",
       "      <td>Transporte</td>\n",
       "      <td>Wurth Argentina S.A</td>\n",
       "    </tr>\n",
       "    <tr>\n",
       "      <th>4</th>\n",
       "      <td>1000872556</td>\n",
       "      <td>1</td>\n",
       "      <td>Operarios de Planta - Rubro Electrodomésticos</td>\n",
       "      <td>&lt;p&gt;&lt;strong&gt;OPERARIOS DE PLANTA&lt;/strong&gt;&lt;/p&gt;&lt;p&gt;...</td>\n",
       "      <td>Gran Buenos Aires</td>\n",
       "      <td>NaN</td>\n",
       "      <td>NaN</td>\n",
       "      <td>Full-time</td>\n",
       "      <td>Senior / Semi-Senior</td>\n",
       "      <td>Producción</td>\n",
       "      <td>ELECTRO OUTLET SRL</td>\n",
       "    </tr>\n",
       "  </tbody>\n",
       "</table>\n",
       "</div>"
      ],
      "text/plain": [
       "      idaviso  idpais                                         titulo  \\\n",
       "0     8725750       1               VENDEDOR/A PROVINCIA DE SANTA FE   \n",
       "1    17903700       1                                     Enfermeras   \n",
       "2  1000150677       1                                 Chofer de taxi   \n",
       "3  1000610287       1  CHOFER DE CAMIONETA BAHIA BLANCA - PUNTA ALTA   \n",
       "4  1000872556       1  Operarios de Planta - Rubro Electrodomésticos   \n",
       "\n",
       "                                         descripcion        nombre_zona  \\\n",
       "0  <p><strong><strong>Empresa:</strong></strong> ...  Gran Buenos Aires   \n",
       "1  <p>Solicitamos para importante cadena de farma...  Gran Buenos Aires   \n",
       "2  <p>TE GUSTA MANEJAR? QUERES GANAR PLATA HACIEN...    Capital Federal   \n",
       "3  <p><strong>Somos una empresa multinacional que...  Gran Buenos Aires   \n",
       "4  <p><strong>OPERARIOS DE PLANTA</strong></p><p>...  Gran Buenos Aires   \n",
       "\n",
       "  ciudad       mapacalle tipo_de_trabajo         nivel_laboral nombre_area  \\\n",
       "0    NaN             NaN       Full-time  Senior / Semi-Senior   Comercial   \n",
       "1    NaN             NaN       Full-time  Senior / Semi-Senior       Salud   \n",
       "2    NaN  Empedrado 2336       Full-time  Senior / Semi-Senior  Transporte   \n",
       "3    NaN             NaN       Full-time  Senior / Semi-Senior  Transporte   \n",
       "4    NaN             NaN       Full-time  Senior / Semi-Senior  Producción   \n",
       "\n",
       "      denominacion_empresa  \n",
       "0                   VENTOR  \n",
       "1  Farmacias Central Oeste  \n",
       "2              FAMITAX SRL  \n",
       "3      Wurth Argentina S.A  \n",
       "4       ELECTRO OUTLET SRL  "
      ]
     },
     "execution_count": 87,
     "metadata": {},
     "output_type": "execute_result"
    }
   ],
   "source": [
    "avisos_detalle = pd.read_csv('Data/datos_navent_fiuba/fiuba_6_avisos_detalle.csv')\n",
    "avisos_detalle.head()"
   ]
  },
  {
   "cell_type": "code",
   "execution_count": 88,
   "metadata": {},
   "outputs": [
    {
     "data": {
      "text/plain": [
       "(13534, 11)"
      ]
     },
     "execution_count": 88,
     "metadata": {},
     "output_type": "execute_result"
    }
   ],
   "source": [
    "avisos_detalle.shape"
   ]
  },
  {
   "cell_type": "code",
   "execution_count": 89,
   "metadata": {},
   "outputs": [
    {
     "data": {
      "text/plain": [
       "Gran Buenos Aires              12654\n",
       "Capital Federal                  876\n",
       "Buenos Aires (fuera de GBA)        2\n",
       "GBA Oeste                          2\n",
       "Name: nombre_zona, dtype: int64"
      ]
     },
     "execution_count": 89,
     "metadata": {},
     "output_type": "execute_result"
    }
   ],
   "source": [
    "avisos_detalle['nombre_zona'].value_counts()"
   ]
  },
  {
   "cell_type": "code",
   "execution_count": 90,
   "metadata": {},
   "outputs": [],
   "source": [
    "avisos_detalle['in_avisos_detalle'] = 1"
   ]
  },
  {
   "cell_type": "code",
   "execution_count": 91,
   "metadata": {},
   "outputs": [],
   "source": [
    "avisos_con_detalles = pd.merge(avisos, avisos_detalle ,on = 'idaviso', how='outer')"
   ]
  },
  {
   "cell_type": "code",
   "execution_count": 92,
   "metadata": {},
   "outputs": [
    {
     "data": {
      "text/html": [
       "<div>\n",
       "<style>\n",
       "    .dataframe thead tr:only-child th {\n",
       "        text-align: right;\n",
       "    }\n",
       "\n",
       "    .dataframe thead th {\n",
       "        text-align: left;\n",
       "    }\n",
       "\n",
       "    .dataframe tbody tr th {\n",
       "        vertical-align: top;\n",
       "    }\n",
       "</style>\n",
       "<table border=\"1\" class=\"dataframe\">\n",
       "  <thead>\n",
       "    <tr style=\"text-align: right;\">\n",
       "      <th></th>\n",
       "      <th>idaviso</th>\n",
       "      <th>is_online</th>\n",
       "      <th>idpais</th>\n",
       "      <th>titulo</th>\n",
       "      <th>descripcion</th>\n",
       "      <th>nombre_zona</th>\n",
       "      <th>ciudad</th>\n",
       "      <th>mapacalle</th>\n",
       "      <th>tipo_de_trabajo</th>\n",
       "      <th>nivel_laboral</th>\n",
       "      <th>nombre_area</th>\n",
       "      <th>denominacion_empresa</th>\n",
       "      <th>in_avisos_detalle</th>\n",
       "    </tr>\n",
       "  </thead>\n",
       "  <tbody>\n",
       "    <tr>\n",
       "      <th>0</th>\n",
       "      <td>1112355872</td>\n",
       "      <td>1.0</td>\n",
       "      <td>1.0</td>\n",
       "      <td>Recepcionista/Asistente Administrativa</td>\n",
       "      <td>&lt;p&gt;&lt;span lang=\"ES\"&gt;RE/MAX Liberty, e&lt;/span&gt;mpr...</td>\n",
       "      <td>Gran Buenos Aires</td>\n",
       "      <td>NaN</td>\n",
       "      <td>NaN</td>\n",
       "      <td>Full-time</td>\n",
       "      <td>Senior / Semi-Senior</td>\n",
       "      <td>Recepcionista</td>\n",
       "      <td>Remax</td>\n",
       "      <td>1.0</td>\n",
       "    </tr>\n",
       "    <tr>\n",
       "      <th>1</th>\n",
       "      <td>1112335374</td>\n",
       "      <td>1.0</td>\n",
       "      <td>1.0</td>\n",
       "      <td>Chofer /Operario de deposito con C.N.R.T. (EXC...</td>\n",
       "      <td>&lt;p&gt;&lt;strong&gt;Empresa importadora de insumos de i...</td>\n",
       "      <td>Gran Buenos Aires</td>\n",
       "      <td>NaN</td>\n",
       "      <td>NaN</td>\n",
       "      <td>Full-time</td>\n",
       "      <td>Senior / Semi-Senior</td>\n",
       "      <td>Producción</td>\n",
       "      <td>G&amp;G Argentina S.A.</td>\n",
       "      <td>1.0</td>\n",
       "    </tr>\n",
       "    <tr>\n",
       "      <th>2</th>\n",
       "      <td>1112374842</td>\n",
       "      <td>1.0</td>\n",
       "      <td>1.0</td>\n",
       "      <td>Ejecutivos de Ventas.</td>\n",
       "      <td>&lt;p&gt;&lt;strong&gt;&lt;span lang=\"ES\"&gt;G&amp;amp;G ARGENTINA&lt;/...</td>\n",
       "      <td>Gran Buenos Aires</td>\n",
       "      <td>NaN</td>\n",
       "      <td>NaN</td>\n",
       "      <td>Full-time</td>\n",
       "      <td>Senior / Semi-Senior</td>\n",
       "      <td>Comercial</td>\n",
       "      <td>G&amp;G Argentina S.A.</td>\n",
       "      <td>1.0</td>\n",
       "    </tr>\n",
       "    <tr>\n",
       "      <th>3</th>\n",
       "      <td>1111984070</td>\n",
       "      <td>1.0</td>\n",
       "      <td>1.0</td>\n",
       "      <td>Analista de Marketing</td>\n",
       "      <td>&lt;p&gt;Sony es una de las compañías líderes en la ...</td>\n",
       "      <td>Gran Buenos Aires</td>\n",
       "      <td>NaN</td>\n",
       "      <td>NaN</td>\n",
       "      <td>Full-time</td>\n",
       "      <td>Senior / Semi-Senior</td>\n",
       "      <td>Producto</td>\n",
       "      <td>Sony Argentina S.A.</td>\n",
       "      <td>1.0</td>\n",
       "    </tr>\n",
       "    <tr>\n",
       "      <th>4</th>\n",
       "      <td>1111822480</td>\n",
       "      <td>1.0</td>\n",
       "      <td>1.0</td>\n",
       "      <td>Ejecutivo de Cuentas Tecnología</td>\n",
       "      <td>&lt;p&gt;&lt;em&gt;En EXPERIS  nos caracterizamos por el ...</td>\n",
       "      <td>Gran Buenos Aires</td>\n",
       "      <td>NaN</td>\n",
       "      <td>NaN</td>\n",
       "      <td>Full-time</td>\n",
       "      <td>Senior / Semi-Senior</td>\n",
       "      <td>Comercial</td>\n",
       "      <td>Experis</td>\n",
       "      <td>1.0</td>\n",
       "    </tr>\n",
       "  </tbody>\n",
       "</table>\n",
       "</div>"
      ],
      "text/plain": [
       "      idaviso  is_online  idpais  \\\n",
       "0  1112355872        1.0     1.0   \n",
       "1  1112335374        1.0     1.0   \n",
       "2  1112374842        1.0     1.0   \n",
       "3  1111984070        1.0     1.0   \n",
       "4  1111822480        1.0     1.0   \n",
       "\n",
       "                                              titulo  \\\n",
       "0            Recepcionista/Asistente Administrativa    \n",
       "1  Chofer /Operario de deposito con C.N.R.T. (EXC...   \n",
       "2                            Ejecutivos de Ventas.     \n",
       "3                              Analista de Marketing   \n",
       "4                    Ejecutivo de Cuentas Tecnología   \n",
       "\n",
       "                                         descripcion        nombre_zona  \\\n",
       "0  <p><span lang=\"ES\">RE/MAX Liberty, e</span>mpr...  Gran Buenos Aires   \n",
       "1  <p><strong>Empresa importadora de insumos de i...  Gran Buenos Aires   \n",
       "2  <p><strong><span lang=\"ES\">G&amp;G ARGENTINA</...  Gran Buenos Aires   \n",
       "3  <p>Sony es una de las compañías líderes en la ...  Gran Buenos Aires   \n",
       "4  <p><em>En EXPERIS  nos caracterizamos por el ...  Gran Buenos Aires   \n",
       "\n",
       "  ciudad mapacalle tipo_de_trabajo         nivel_laboral    nombre_area  \\\n",
       "0    NaN       NaN       Full-time  Senior / Semi-Senior  Recepcionista   \n",
       "1    NaN       NaN       Full-time  Senior / Semi-Senior     Producción   \n",
       "2    NaN       NaN       Full-time  Senior / Semi-Senior      Comercial   \n",
       "3    NaN       NaN       Full-time  Senior / Semi-Senior       Producto   \n",
       "4    NaN       NaN       Full-time  Senior / Semi-Senior      Comercial   \n",
       "\n",
       "  denominacion_empresa  in_avisos_detalle  \n",
       "0                Remax                1.0  \n",
       "1   G&G Argentina S.A.                1.0  \n",
       "2   G&G Argentina S.A.                1.0  \n",
       "3  Sony Argentina S.A.                1.0  \n",
       "4              Experis                1.0  "
      ]
     },
     "execution_count": 92,
     "metadata": {},
     "output_type": "execute_result"
    }
   ],
   "source": [
    "avisos_con_detalles.head()"
   ]
  },
  {
   "cell_type": "code",
   "execution_count": 93,
   "metadata": {},
   "outputs": [],
   "source": [
    "avisos_con_detalles['is_online'].fillna(0,inplace=True)\n",
    "avisos_con_detalles['in_avisos_detalle'].fillna(0,inplace=True)"
   ]
  },
  {
   "cell_type": "code",
   "execution_count": 94,
   "metadata": {},
   "outputs": [
    {
     "data": {
      "text/html": [
       "<div>\n",
       "<style>\n",
       "    .dataframe thead tr:only-child th {\n",
       "        text-align: right;\n",
       "    }\n",
       "\n",
       "    .dataframe thead th {\n",
       "        text-align: left;\n",
       "    }\n",
       "\n",
       "    .dataframe tbody tr th {\n",
       "        vertical-align: top;\n",
       "    }\n",
       "</style>\n",
       "<table border=\"1\" class=\"dataframe\">\n",
       "  <thead>\n",
       "    <tr style=\"text-align: right;\">\n",
       "      <th>in_avisos_detalle</th>\n",
       "      <th>0.0</th>\n",
       "      <th>1.0</th>\n",
       "    </tr>\n",
       "    <tr>\n",
       "      <th>is_online</th>\n",
       "      <th></th>\n",
       "      <th></th>\n",
       "    </tr>\n",
       "  </thead>\n",
       "  <tbody>\n",
       "    <tr>\n",
       "      <th>0.0</th>\n",
       "      <td>0</td>\n",
       "      <td>8821</td>\n",
       "    </tr>\n",
       "    <tr>\n",
       "      <th>1.0</th>\n",
       "      <td>315</td>\n",
       "      <td>4713</td>\n",
       "    </tr>\n",
       "  </tbody>\n",
       "</table>\n",
       "</div>"
      ],
      "text/plain": [
       "in_avisos_detalle  0.0   1.0\n",
       "is_online                   \n",
       "0.0                  0  8821\n",
       "1.0                315  4713"
      ]
     },
     "execution_count": 94,
     "metadata": {},
     "output_type": "execute_result"
    }
   ],
   "source": [
    "pd.crosstab(avisos_con_detalles['is_online'],avisos_con_detalles['in_avisos_detalle'] )"
   ]
  },
  {
   "cell_type": "code",
   "execution_count": 95,
   "metadata": {},
   "outputs": [
    {
     "data": {
      "text/plain": [
       "(13849, 13)"
      ]
     },
     "execution_count": 95,
     "metadata": {},
     "output_type": "execute_result"
    }
   ],
   "source": [
    "avisos_con_detalles.shape"
   ]
  },
  {
   "cell_type": "code",
   "execution_count": 96,
   "metadata": {},
   "outputs": [],
   "source": [
    "avisos_con_detalles.rename(columns={\"idaviso\": \"idAviso\"},inplace=True)"
   ]
  },
  {
   "cell_type": "code",
   "execution_count": 97,
   "metadata": {},
   "outputs": [],
   "source": [
    "#avisos_con_detalles = pd.merge(avisos_con_detalles, avisos_detalle ,on = 'idAviso', how='outer')"
   ]
  },
  {
   "cell_type": "markdown",
   "metadata": {},
   "source": [
    "Analisis RAUL"
   ]
  },
  {
   "cell_type": "code",
   "execution_count": 98,
   "metadata": {},
   "outputs": [
    {
     "data": {
      "text/html": [
       "<div>\n",
       "<style>\n",
       "    .dataframe thead tr:only-child th {\n",
       "        text-align: right;\n",
       "    }\n",
       "\n",
       "    .dataframe thead th {\n",
       "        text-align: left;\n",
       "    }\n",
       "\n",
       "    .dataframe tbody tr th {\n",
       "        vertical-align: top;\n",
       "    }\n",
       "</style>\n",
       "<table border=\"1\" class=\"dataframe\">\n",
       "  <thead>\n",
       "    <tr style=\"text-align: right;\">\n",
       "      <th></th>\n",
       "      <th>idAviso</th>\n",
       "      <th>timestamp</th>\n",
       "      <th>idpostulante</th>\n",
       "      <th>timestamp_month</th>\n",
       "      <th>timestamp_day</th>\n",
       "      <th>timestamp_hour</th>\n",
       "      <th>timestamp_date</th>\n",
       "    </tr>\n",
       "  </thead>\n",
       "  <tbody>\n",
       "    <tr>\n",
       "      <th>0</th>\n",
       "      <td>1111780242</td>\n",
       "      <td>2018-02-23T13:38:13.187-0500</td>\n",
       "      <td>YjVJQ6Z</td>\n",
       "      <td>2</td>\n",
       "      <td>23</td>\n",
       "      <td>18</td>\n",
       "      <td>2018-02-23</td>\n",
       "    </tr>\n",
       "    <tr>\n",
       "      <th>1</th>\n",
       "      <td>1112263876</td>\n",
       "      <td>2018-02-23T13:38:14.296-0500</td>\n",
       "      <td>BmVpYoR</td>\n",
       "      <td>2</td>\n",
       "      <td>23</td>\n",
       "      <td>18</td>\n",
       "      <td>2018-02-23</td>\n",
       "    </tr>\n",
       "    <tr>\n",
       "      <th>2</th>\n",
       "      <td>1112327963</td>\n",
       "      <td>2018-02-23T13:38:14.329-0500</td>\n",
       "      <td>wVkBzZd</td>\n",
       "      <td>2</td>\n",
       "      <td>23</td>\n",
       "      <td>18</td>\n",
       "      <td>2018-02-23</td>\n",
       "    </tr>\n",
       "    <tr>\n",
       "      <th>3</th>\n",
       "      <td>1112318643</td>\n",
       "      <td>2018-02-23T13:38:17.921-0500</td>\n",
       "      <td>OqmP9pv</td>\n",
       "      <td>2</td>\n",
       "      <td>23</td>\n",
       "      <td>18</td>\n",
       "      <td>2018-02-23</td>\n",
       "    </tr>\n",
       "    <tr>\n",
       "      <th>4</th>\n",
       "      <td>1111903673</td>\n",
       "      <td>2018-02-23T13:38:18.973-0500</td>\n",
       "      <td>DrpbXDP</td>\n",
       "      <td>2</td>\n",
       "      <td>23</td>\n",
       "      <td>18</td>\n",
       "      <td>2018-02-23</td>\n",
       "    </tr>\n",
       "  </tbody>\n",
       "</table>\n",
       "</div>"
      ],
      "text/plain": [
       "      idAviso                     timestamp idpostulante  timestamp_month  \\\n",
       "0  1111780242  2018-02-23T13:38:13.187-0500      YjVJQ6Z                2   \n",
       "1  1112263876  2018-02-23T13:38:14.296-0500      BmVpYoR                2   \n",
       "2  1112327963  2018-02-23T13:38:14.329-0500      wVkBzZd                2   \n",
       "3  1112318643  2018-02-23T13:38:17.921-0500      OqmP9pv                2   \n",
       "4  1111903673  2018-02-23T13:38:18.973-0500      DrpbXDP                2   \n",
       "\n",
       "   timestamp_day  timestamp_hour timestamp_date  \n",
       "0             23              18     2018-02-23  \n",
       "1             23              18     2018-02-23  \n",
       "2             23              18     2018-02-23  \n",
       "3             23              18     2018-02-23  \n",
       "4             23              18     2018-02-23  "
      ]
     },
     "execution_count": 98,
     "metadata": {},
     "output_type": "execute_result"
    }
   ],
   "source": [
    "vistas.head()"
   ]
  },
  {
   "cell_type": "code",
   "execution_count": 107,
   "metadata": {},
   "outputs": [
    {
     "data": {
      "text/html": [
       "<div>\n",
       "<style>\n",
       "    .dataframe thead tr:only-child th {\n",
       "        text-align: right;\n",
       "    }\n",
       "\n",
       "    .dataframe thead th {\n",
       "        text-align: left;\n",
       "    }\n",
       "\n",
       "    .dataframe tbody tr th {\n",
       "        vertical-align: top;\n",
       "    }\n",
       "</style>\n",
       "<table border=\"1\" class=\"dataframe\">\n",
       "  <thead>\n",
       "    <tr style=\"text-align: right;\">\n",
       "      <th></th>\n",
       "      <th>idAviso</th>\n",
       "      <th>idpostulante</th>\n",
       "      <th>fechapostulacion</th>\n",
       "      <th>fechapostulacion_date</th>\n",
       "      <th>fechapostulacion_hour</th>\n",
       "    </tr>\n",
       "  </thead>\n",
       "  <tbody>\n",
       "    <tr>\n",
       "      <th>1525012</th>\n",
       "      <td>1112204687</td>\n",
       "      <td>LNKLkVk</td>\n",
       "      <td>2018-01-15 00:00:01</td>\n",
       "      <td>2018-01-15</td>\n",
       "      <td>0</td>\n",
       "    </tr>\n",
       "    <tr>\n",
       "      <th>1269880</th>\n",
       "      <td>1112254546</td>\n",
       "      <td>exbr48</td>\n",
       "      <td>2018-01-15 00:00:02</td>\n",
       "      <td>2018-01-15</td>\n",
       "      <td>0</td>\n",
       "    </tr>\n",
       "    <tr>\n",
       "      <th>1842775</th>\n",
       "      <td>1112245687</td>\n",
       "      <td>aoXY6m</td>\n",
       "      <td>2018-01-15 00:00:09</td>\n",
       "      <td>2018-01-15</td>\n",
       "      <td>0</td>\n",
       "    </tr>\n",
       "    <tr>\n",
       "      <th>1525013</th>\n",
       "      <td>1112033906</td>\n",
       "      <td>LNKLkVk</td>\n",
       "      <td>2018-01-15 00:00:10</td>\n",
       "      <td>2018-01-15</td>\n",
       "      <td>0</td>\n",
       "    </tr>\n",
       "    <tr>\n",
       "      <th>3348905</th>\n",
       "      <td>1111960351</td>\n",
       "      <td>pzjmJAb</td>\n",
       "      <td>2018-01-15 00:00:11</td>\n",
       "      <td>2018-01-15</td>\n",
       "      <td>0</td>\n",
       "    </tr>\n",
       "  </tbody>\n",
       "</table>\n",
       "</div>"
      ],
      "text/plain": [
       "            idAviso idpostulante     fechapostulacion fechapostulacion_date  \\\n",
       "1525012  1112204687      LNKLkVk  2018-01-15 00:00:01            2018-01-15   \n",
       "1269880  1112254546       exbr48  2018-01-15 00:00:02            2018-01-15   \n",
       "1842775  1112245687       aoXY6m  2018-01-15 00:00:09            2018-01-15   \n",
       "1525013  1112033906      LNKLkVk  2018-01-15 00:00:10            2018-01-15   \n",
       "3348905  1111960351      pzjmJAb  2018-01-15 00:00:11            2018-01-15   \n",
       "\n",
       "         fechapostulacion_hour  \n",
       "1525012                      0  \n",
       "1269880                      0  \n",
       "1842775                      0  \n",
       "1525013                      0  \n",
       "3348905                      0  "
      ]
     },
     "execution_count": 107,
     "metadata": {},
     "output_type": "execute_result"
    }
   ],
   "source": [
    "postulaciones.head()"
   ]
  },
  {
   "cell_type": "code",
   "execution_count": 108,
   "metadata": {},
   "outputs": [
    {
     "data": {
      "text/plain": [
       "(3401262, 5)"
      ]
     },
     "execution_count": 108,
     "metadata": {},
     "output_type": "execute_result"
    }
   ],
   "source": [
    "postulaciones.shape"
   ]
  },
  {
   "cell_type": "code",
   "execution_count": 110,
   "metadata": {},
   "outputs": [],
   "source": [
    "postulaciones = postulaciones.sort_values('fechapostulacion')"
   ]
  },
  {
   "cell_type": "code",
   "execution_count": 111,
   "metadata": {},
   "outputs": [
    {
     "data": {
      "text/html": [
       "<div>\n",
       "<style>\n",
       "    .dataframe thead tr:only-child th {\n",
       "        text-align: right;\n",
       "    }\n",
       "\n",
       "    .dataframe thead th {\n",
       "        text-align: left;\n",
       "    }\n",
       "\n",
       "    .dataframe tbody tr th {\n",
       "        vertical-align: top;\n",
       "    }\n",
       "</style>\n",
       "<table border=\"1\" class=\"dataframe\">\n",
       "  <thead>\n",
       "    <tr style=\"text-align: right;\">\n",
       "      <th></th>\n",
       "      <th>idAviso</th>\n",
       "      <th>idpostulante</th>\n",
       "      <th>fechapostulacion</th>\n",
       "      <th>fechapostulacion_date</th>\n",
       "      <th>fechapostulacion_hour</th>\n",
       "    </tr>\n",
       "  </thead>\n",
       "  <tbody>\n",
       "    <tr>\n",
       "      <th>1525012</th>\n",
       "      <td>1112204687</td>\n",
       "      <td>LNKLkVk</td>\n",
       "      <td>2018-01-15 00:00:01</td>\n",
       "      <td>2018-01-15</td>\n",
       "      <td>0</td>\n",
       "    </tr>\n",
       "    <tr>\n",
       "      <th>1269880</th>\n",
       "      <td>1112254546</td>\n",
       "      <td>exbr48</td>\n",
       "      <td>2018-01-15 00:00:02</td>\n",
       "      <td>2018-01-15</td>\n",
       "      <td>0</td>\n",
       "    </tr>\n",
       "    <tr>\n",
       "      <th>1842775</th>\n",
       "      <td>1112245687</td>\n",
       "      <td>aoXY6m</td>\n",
       "      <td>2018-01-15 00:00:09</td>\n",
       "      <td>2018-01-15</td>\n",
       "      <td>0</td>\n",
       "    </tr>\n",
       "    <tr>\n",
       "      <th>1525013</th>\n",
       "      <td>1112033906</td>\n",
       "      <td>LNKLkVk</td>\n",
       "      <td>2018-01-15 00:00:10</td>\n",
       "      <td>2018-01-15</td>\n",
       "      <td>0</td>\n",
       "    </tr>\n",
       "    <tr>\n",
       "      <th>3348905</th>\n",
       "      <td>1111960351</td>\n",
       "      <td>pzjmJAb</td>\n",
       "      <td>2018-01-15 00:00:11</td>\n",
       "      <td>2018-01-15</td>\n",
       "      <td>0</td>\n",
       "    </tr>\n",
       "  </tbody>\n",
       "</table>\n",
       "</div>"
      ],
      "text/plain": [
       "            idAviso idpostulante     fechapostulacion fechapostulacion_date  \\\n",
       "1525012  1112204687      LNKLkVk  2018-01-15 00:00:01            2018-01-15   \n",
       "1269880  1112254546       exbr48  2018-01-15 00:00:02            2018-01-15   \n",
       "1842775  1112245687       aoXY6m  2018-01-15 00:00:09            2018-01-15   \n",
       "1525013  1112033906      LNKLkVk  2018-01-15 00:00:10            2018-01-15   \n",
       "3348905  1111960351      pzjmJAb  2018-01-15 00:00:11            2018-01-15   \n",
       "\n",
       "         fechapostulacion_hour  \n",
       "1525012                      0  \n",
       "1269880                      0  \n",
       "1842775                      0  \n",
       "1525013                      0  \n",
       "3348905                      0  "
      ]
     },
     "execution_count": 111,
     "metadata": {},
     "output_type": "execute_result"
    }
   ],
   "source": [
    "postulaciones.head()"
   ]
  },
  {
   "cell_type": "code",
   "execution_count": 116,
   "metadata": {},
   "outputs": [],
   "source": [
    "postulaciones_con_vistas = pd.merge(postulaciones, avisos_vistos_por_postulantes, on = ['idAviso','idpostulante'], how = 'inner')"
   ]
  },
  {
   "cell_type": "code",
   "execution_count": 126,
   "metadata": {},
   "outputs": [
    {
     "data": {
      "text/html": [
       "<div>\n",
       "<style>\n",
       "    .dataframe thead tr:only-child th {\n",
       "        text-align: right;\n",
       "    }\n",
       "\n",
       "    .dataframe thead th {\n",
       "        text-align: left;\n",
       "    }\n",
       "\n",
       "    .dataframe tbody tr th {\n",
       "        vertical-align: top;\n",
       "    }\n",
       "</style>\n",
       "<table border=\"1\" class=\"dataframe\">\n",
       "  <thead>\n",
       "    <tr style=\"text-align: right;\">\n",
       "      <th></th>\n",
       "      <th>idAviso</th>\n",
       "      <th>idpostulante</th>\n",
       "      <th>fechapostulacion</th>\n",
       "      <th>fechapostulacion_date</th>\n",
       "      <th>fechapostulacion_hour</th>\n",
       "      <th>cantidadVistas</th>\n",
       "    </tr>\n",
       "  </thead>\n",
       "  <tbody>\n",
       "    <tr>\n",
       "      <th>0</th>\n",
       "      <td>1112241774</td>\n",
       "      <td>bOA2arb</td>\n",
       "      <td>2018-01-15 00:03:43</td>\n",
       "      <td>2018-01-15</td>\n",
       "      <td>0</td>\n",
       "      <td>2</td>\n",
       "    </tr>\n",
       "    <tr>\n",
       "      <th>1</th>\n",
       "      <td>1112149552</td>\n",
       "      <td>5pBrJX</td>\n",
       "      <td>2018-01-15 00:15:50</td>\n",
       "      <td>2018-01-15</td>\n",
       "      <td>0</td>\n",
       "      <td>2</td>\n",
       "    </tr>\n",
       "    <tr>\n",
       "      <th>2</th>\n",
       "      <td>1112241774</td>\n",
       "      <td>OqjAJvB</td>\n",
       "      <td>2018-01-15 05:25:59</td>\n",
       "      <td>2018-01-15</td>\n",
       "      <td>5</td>\n",
       "      <td>2</td>\n",
       "    </tr>\n",
       "    <tr>\n",
       "      <th>3</th>\n",
       "      <td>1112201752</td>\n",
       "      <td>bOJRxkE</td>\n",
       "      <td>2018-01-15 06:08:47</td>\n",
       "      <td>2018-01-15</td>\n",
       "      <td>6</td>\n",
       "      <td>1</td>\n",
       "    </tr>\n",
       "    <tr>\n",
       "      <th>4</th>\n",
       "      <td>1112259465</td>\n",
       "      <td>qe2PPm9</td>\n",
       "      <td>2018-01-15 06:11:00</td>\n",
       "      <td>2018-01-15</td>\n",
       "      <td>6</td>\n",
       "      <td>1</td>\n",
       "    </tr>\n",
       "  </tbody>\n",
       "</table>\n",
       "</div>"
      ],
      "text/plain": [
       "      idAviso idpostulante     fechapostulacion fechapostulacion_date  \\\n",
       "0  1112241774      bOA2arb  2018-01-15 00:03:43            2018-01-15   \n",
       "1  1112149552       5pBrJX  2018-01-15 00:15:50            2018-01-15   \n",
       "2  1112241774      OqjAJvB  2018-01-15 05:25:59            2018-01-15   \n",
       "3  1112201752      bOJRxkE  2018-01-15 06:08:47            2018-01-15   \n",
       "4  1112259465      qe2PPm9  2018-01-15 06:11:00            2018-01-15   \n",
       "\n",
       "   fechapostulacion_hour  cantidadVistas  \n",
       "0                      0               2  \n",
       "1                      0               2  \n",
       "2                      5               2  \n",
       "3                      6               1  \n",
       "4                      6               1  "
      ]
     },
     "execution_count": 126,
     "metadata": {},
     "output_type": "execute_result"
    }
   ],
   "source": [
    "postulaciones_con_vistas.head()"
   ]
  },
  {
   "cell_type": "code",
   "execution_count": 119,
   "metadata": {},
   "outputs": [
    {
     "data": {
      "text/plain": [
       "1.7560214286898976"
      ]
     },
     "execution_count": 119,
     "metadata": {},
     "output_type": "execute_result"
    }
   ],
   "source": [
    "#¿Cuántas veces visita un aviso un persona antes de postularse?\n",
    "postulaciones_con_vistas['cantidadVistas'].mean()"
   ]
  },
  {
   "cell_type": "code",
   "execution_count": 120,
   "metadata": {},
   "outputs": [
    {
     "data": {
      "text/html": [
       "<div>\n",
       "<style>\n",
       "    .dataframe thead tr:only-child th {\n",
       "        text-align: right;\n",
       "    }\n",
       "\n",
       "    .dataframe thead th {\n",
       "        text-align: left;\n",
       "    }\n",
       "\n",
       "    .dataframe tbody tr th {\n",
       "        vertical-align: top;\n",
       "    }\n",
       "</style>\n",
       "<table border=\"1\" class=\"dataframe\">\n",
       "  <thead>\n",
       "    <tr style=\"text-align: right;\">\n",
       "      <th></th>\n",
       "      <th>idAviso</th>\n",
       "      <th>timestamp</th>\n",
       "      <th>idpostulante</th>\n",
       "      <th>timestamp_month</th>\n",
       "      <th>timestamp_day</th>\n",
       "      <th>timestamp_hour</th>\n",
       "      <th>timestamp_date</th>\n",
       "    </tr>\n",
       "  </thead>\n",
       "  <tbody>\n",
       "    <tr>\n",
       "      <th>0</th>\n",
       "      <td>1111780242</td>\n",
       "      <td>2018-02-23T13:38:13.187-0500</td>\n",
       "      <td>YjVJQ6Z</td>\n",
       "      <td>2</td>\n",
       "      <td>23</td>\n",
       "      <td>18</td>\n",
       "      <td>2018-02-23</td>\n",
       "    </tr>\n",
       "    <tr>\n",
       "      <th>1</th>\n",
       "      <td>1112263876</td>\n",
       "      <td>2018-02-23T13:38:14.296-0500</td>\n",
       "      <td>BmVpYoR</td>\n",
       "      <td>2</td>\n",
       "      <td>23</td>\n",
       "      <td>18</td>\n",
       "      <td>2018-02-23</td>\n",
       "    </tr>\n",
       "    <tr>\n",
       "      <th>2</th>\n",
       "      <td>1112327963</td>\n",
       "      <td>2018-02-23T13:38:14.329-0500</td>\n",
       "      <td>wVkBzZd</td>\n",
       "      <td>2</td>\n",
       "      <td>23</td>\n",
       "      <td>18</td>\n",
       "      <td>2018-02-23</td>\n",
       "    </tr>\n",
       "    <tr>\n",
       "      <th>3</th>\n",
       "      <td>1112318643</td>\n",
       "      <td>2018-02-23T13:38:17.921-0500</td>\n",
       "      <td>OqmP9pv</td>\n",
       "      <td>2</td>\n",
       "      <td>23</td>\n",
       "      <td>18</td>\n",
       "      <td>2018-02-23</td>\n",
       "    </tr>\n",
       "    <tr>\n",
       "      <th>4</th>\n",
       "      <td>1111903673</td>\n",
       "      <td>2018-02-23T13:38:18.973-0500</td>\n",
       "      <td>DrpbXDP</td>\n",
       "      <td>2</td>\n",
       "      <td>23</td>\n",
       "      <td>18</td>\n",
       "      <td>2018-02-23</td>\n",
       "    </tr>\n",
       "  </tbody>\n",
       "</table>\n",
       "</div>"
      ],
      "text/plain": [
       "      idAviso                     timestamp idpostulante  timestamp_month  \\\n",
       "0  1111780242  2018-02-23T13:38:13.187-0500      YjVJQ6Z                2   \n",
       "1  1112263876  2018-02-23T13:38:14.296-0500      BmVpYoR                2   \n",
       "2  1112327963  2018-02-23T13:38:14.329-0500      wVkBzZd                2   \n",
       "3  1112318643  2018-02-23T13:38:17.921-0500      OqmP9pv                2   \n",
       "4  1111903673  2018-02-23T13:38:18.973-0500      DrpbXDP                2   \n",
       "\n",
       "   timestamp_day  timestamp_hour timestamp_date  \n",
       "0             23              18     2018-02-23  \n",
       "1             23              18     2018-02-23  \n",
       "2             23              18     2018-02-23  \n",
       "3             23              18     2018-02-23  \n",
       "4             23              18     2018-02-23  "
      ]
     },
     "execution_count": 120,
     "metadata": {},
     "output_type": "execute_result"
    }
   ],
   "source": [
    "vistas.head()"
   ]
  },
  {
   "cell_type": "code",
   "execution_count": 122,
   "metadata": {},
   "outputs": [
    {
     "data": {
      "text/html": [
       "<div>\n",
       "<style>\n",
       "    .dataframe thead tr:only-child th {\n",
       "        text-align: right;\n",
       "    }\n",
       "\n",
       "    .dataframe thead th {\n",
       "        text-align: left;\n",
       "    }\n",
       "\n",
       "    .dataframe tbody tr th {\n",
       "        vertical-align: top;\n",
       "    }\n",
       "</style>\n",
       "<table border=\"1\" class=\"dataframe\">\n",
       "  <thead>\n",
       "    <tr style=\"text-align: right;\">\n",
       "      <th></th>\n",
       "      <th>idAviso</th>\n",
       "      <th>is_online</th>\n",
       "      <th>idpais</th>\n",
       "      <th>titulo</th>\n",
       "      <th>descripcion</th>\n",
       "      <th>nombre_zona</th>\n",
       "      <th>ciudad</th>\n",
       "      <th>mapacalle</th>\n",
       "      <th>tipo_de_trabajo</th>\n",
       "      <th>nivel_laboral</th>\n",
       "      <th>nombre_area</th>\n",
       "      <th>denominacion_empresa</th>\n",
       "      <th>in_avisos_detalle</th>\n",
       "    </tr>\n",
       "  </thead>\n",
       "  <tbody>\n",
       "    <tr>\n",
       "      <th>0</th>\n",
       "      <td>1112355872</td>\n",
       "      <td>1.0</td>\n",
       "      <td>1.0</td>\n",
       "      <td>Recepcionista/Asistente Administrativa</td>\n",
       "      <td>&lt;p&gt;&lt;span lang=\"ES\"&gt;RE/MAX Liberty, e&lt;/span&gt;mpr...</td>\n",
       "      <td>Gran Buenos Aires</td>\n",
       "      <td>NaN</td>\n",
       "      <td>NaN</td>\n",
       "      <td>Full-time</td>\n",
       "      <td>Senior / Semi-Senior</td>\n",
       "      <td>Recepcionista</td>\n",
       "      <td>Remax</td>\n",
       "      <td>1.0</td>\n",
       "    </tr>\n",
       "    <tr>\n",
       "      <th>1</th>\n",
       "      <td>1112335374</td>\n",
       "      <td>1.0</td>\n",
       "      <td>1.0</td>\n",
       "      <td>Chofer /Operario de deposito con C.N.R.T. (EXC...</td>\n",
       "      <td>&lt;p&gt;&lt;strong&gt;Empresa importadora de insumos de i...</td>\n",
       "      <td>Gran Buenos Aires</td>\n",
       "      <td>NaN</td>\n",
       "      <td>NaN</td>\n",
       "      <td>Full-time</td>\n",
       "      <td>Senior / Semi-Senior</td>\n",
       "      <td>Producción</td>\n",
       "      <td>G&amp;G Argentina S.A.</td>\n",
       "      <td>1.0</td>\n",
       "    </tr>\n",
       "    <tr>\n",
       "      <th>2</th>\n",
       "      <td>1112374842</td>\n",
       "      <td>1.0</td>\n",
       "      <td>1.0</td>\n",
       "      <td>Ejecutivos de Ventas.</td>\n",
       "      <td>&lt;p&gt;&lt;strong&gt;&lt;span lang=\"ES\"&gt;G&amp;amp;G ARGENTINA&lt;/...</td>\n",
       "      <td>Gran Buenos Aires</td>\n",
       "      <td>NaN</td>\n",
       "      <td>NaN</td>\n",
       "      <td>Full-time</td>\n",
       "      <td>Senior / Semi-Senior</td>\n",
       "      <td>Comercial</td>\n",
       "      <td>G&amp;G Argentina S.A.</td>\n",
       "      <td>1.0</td>\n",
       "    </tr>\n",
       "    <tr>\n",
       "      <th>3</th>\n",
       "      <td>1111984070</td>\n",
       "      <td>1.0</td>\n",
       "      <td>1.0</td>\n",
       "      <td>Analista de Marketing</td>\n",
       "      <td>&lt;p&gt;Sony es una de las compañías líderes en la ...</td>\n",
       "      <td>Gran Buenos Aires</td>\n",
       "      <td>NaN</td>\n",
       "      <td>NaN</td>\n",
       "      <td>Full-time</td>\n",
       "      <td>Senior / Semi-Senior</td>\n",
       "      <td>Producto</td>\n",
       "      <td>Sony Argentina S.A.</td>\n",
       "      <td>1.0</td>\n",
       "    </tr>\n",
       "    <tr>\n",
       "      <th>4</th>\n",
       "      <td>1111822480</td>\n",
       "      <td>1.0</td>\n",
       "      <td>1.0</td>\n",
       "      <td>Ejecutivo de Cuentas Tecnología</td>\n",
       "      <td>&lt;p&gt;&lt;em&gt;En EXPERIS  nos caracterizamos por el ...</td>\n",
       "      <td>Gran Buenos Aires</td>\n",
       "      <td>NaN</td>\n",
       "      <td>NaN</td>\n",
       "      <td>Full-time</td>\n",
       "      <td>Senior / Semi-Senior</td>\n",
       "      <td>Comercial</td>\n",
       "      <td>Experis</td>\n",
       "      <td>1.0</td>\n",
       "    </tr>\n",
       "  </tbody>\n",
       "</table>\n",
       "</div>"
      ],
      "text/plain": [
       "      idAviso  is_online  idpais  \\\n",
       "0  1112355872        1.0     1.0   \n",
       "1  1112335374        1.0     1.0   \n",
       "2  1112374842        1.0     1.0   \n",
       "3  1111984070        1.0     1.0   \n",
       "4  1111822480        1.0     1.0   \n",
       "\n",
       "                                              titulo  \\\n",
       "0            Recepcionista/Asistente Administrativa    \n",
       "1  Chofer /Operario de deposito con C.N.R.T. (EXC...   \n",
       "2                            Ejecutivos de Ventas.     \n",
       "3                              Analista de Marketing   \n",
       "4                    Ejecutivo de Cuentas Tecnología   \n",
       "\n",
       "                                         descripcion        nombre_zona  \\\n",
       "0  <p><span lang=\"ES\">RE/MAX Liberty, e</span>mpr...  Gran Buenos Aires   \n",
       "1  <p><strong>Empresa importadora de insumos de i...  Gran Buenos Aires   \n",
       "2  <p><strong><span lang=\"ES\">G&amp;G ARGENTINA</...  Gran Buenos Aires   \n",
       "3  <p>Sony es una de las compañías líderes en la ...  Gran Buenos Aires   \n",
       "4  <p><em>En EXPERIS  nos caracterizamos por el ...  Gran Buenos Aires   \n",
       "\n",
       "  ciudad mapacalle tipo_de_trabajo         nivel_laboral    nombre_area  \\\n",
       "0    NaN       NaN       Full-time  Senior / Semi-Senior  Recepcionista   \n",
       "1    NaN       NaN       Full-time  Senior / Semi-Senior     Producción   \n",
       "2    NaN       NaN       Full-time  Senior / Semi-Senior      Comercial   \n",
       "3    NaN       NaN       Full-time  Senior / Semi-Senior       Producto   \n",
       "4    NaN       NaN       Full-time  Senior / Semi-Senior      Comercial   \n",
       "\n",
       "  denominacion_empresa  in_avisos_detalle  \n",
       "0                Remax                1.0  \n",
       "1   G&G Argentina S.A.                1.0  \n",
       "2   G&G Argentina S.A.                1.0  \n",
       "3  Sony Argentina S.A.                1.0  \n",
       "4              Experis                1.0  "
      ]
     },
     "execution_count": 122,
     "metadata": {},
     "output_type": "execute_result"
    }
   ],
   "source": [
    "avisos_con_detalles.head()"
   ]
  },
  {
   "cell_type": "code",
   "execution_count": 131,
   "metadata": {},
   "outputs": [
    {
     "data": {
      "text/html": [
       "<div>\n",
       "<style>\n",
       "    .dataframe thead tr:only-child th {\n",
       "        text-align: right;\n",
       "    }\n",
       "\n",
       "    .dataframe thead th {\n",
       "        text-align: left;\n",
       "    }\n",
       "\n",
       "    .dataframe tbody tr th {\n",
       "        vertical-align: top;\n",
       "    }\n",
       "</style>\n",
       "<table border=\"1\" class=\"dataframe\">\n",
       "  <thead>\n",
       "    <tr style=\"text-align: right;\">\n",
       "      <th></th>\n",
       "      <th>idpostulante</th>\n",
       "      <th>nombre</th>\n",
       "      <th>estado</th>\n",
       "      <th>nombre_num</th>\n",
       "      <th>estado_num</th>\n",
       "      <th>highest_level</th>\n",
       "      <th>in_educacion</th>\n",
       "    </tr>\n",
       "  </thead>\n",
       "  <tbody>\n",
       "    <tr>\n",
       "      <th>213760</th>\n",
       "      <td>zvxzrWm</td>\n",
       "      <td>Universitario</td>\n",
       "      <td>Graduado</td>\n",
       "      <td>3</td>\n",
       "      <td>2</td>\n",
       "      <td>5</td>\n",
       "      <td>1</td>\n",
       "    </tr>\n",
       "    <tr>\n",
       "      <th>213454</th>\n",
       "      <td>zvxzmED</td>\n",
       "      <td>Secundario</td>\n",
       "      <td>Graduado</td>\n",
       "      <td>1</td>\n",
       "      <td>2</td>\n",
       "      <td>3</td>\n",
       "      <td>1</td>\n",
       "    </tr>\n",
       "    <tr>\n",
       "      <th>211836</th>\n",
       "      <td>zvxzjoK</td>\n",
       "      <td>Terciario/Técnico</td>\n",
       "      <td>En Curso</td>\n",
       "      <td>2</td>\n",
       "      <td>1</td>\n",
       "      <td>3</td>\n",
       "      <td>1</td>\n",
       "    </tr>\n",
       "    <tr>\n",
       "      <th>213652</th>\n",
       "      <td>zvxzeBK</td>\n",
       "      <td>Terciario/Técnico</td>\n",
       "      <td>Graduado</td>\n",
       "      <td>2</td>\n",
       "      <td>2</td>\n",
       "      <td>4</td>\n",
       "      <td>1</td>\n",
       "    </tr>\n",
       "    <tr>\n",
       "      <th>213648</th>\n",
       "      <td>zvxzVr8</td>\n",
       "      <td>Secundario</td>\n",
       "      <td>Graduado</td>\n",
       "      <td>1</td>\n",
       "      <td>2</td>\n",
       "      <td>3</td>\n",
       "      <td>1</td>\n",
       "    </tr>\n",
       "  </tbody>\n",
       "</table>\n",
       "</div>"
      ],
      "text/plain": [
       "       idpostulante             nombre    estado  nombre_num  estado_num  \\\n",
       "213760      zvxzrWm      Universitario  Graduado           3           2   \n",
       "213454      zvxzmED         Secundario  Graduado           1           2   \n",
       "211836      zvxzjoK  Terciario/Técnico  En Curso           2           1   \n",
       "213652      zvxzeBK  Terciario/Técnico  Graduado           2           2   \n",
       "213648      zvxzVr8         Secundario  Graduado           1           2   \n",
       "\n",
       "        highest_level  in_educacion  \n",
       "213760              5             1  \n",
       "213454              3             1  \n",
       "211836              3             1  \n",
       "213652              4             1  \n",
       "213648              3             1  "
      ]
     },
     "execution_count": 131,
     "metadata": {},
     "output_type": "execute_result"
    }
   ],
   "source": [
    "educacion.head()"
   ]
  },
  {
   "cell_type": "code",
   "execution_count": 137,
   "metadata": {},
   "outputs": [],
   "source": [
    "postulaciones_detalladas = pd.merge(postulaciones_con_vistas, avisos_con_detalles, on=['idAviso'])"
   ]
  },
  {
   "cell_type": "code",
   "execution_count": 138,
   "metadata": {},
   "outputs": [
    {
     "data": {
      "text/html": [
       "<div>\n",
       "<style>\n",
       "    .dataframe thead tr:only-child th {\n",
       "        text-align: right;\n",
       "    }\n",
       "\n",
       "    .dataframe thead th {\n",
       "        text-align: left;\n",
       "    }\n",
       "\n",
       "    .dataframe tbody tr th {\n",
       "        vertical-align: top;\n",
       "    }\n",
       "</style>\n",
       "<table border=\"1\" class=\"dataframe\">\n",
       "  <thead>\n",
       "    <tr style=\"text-align: right;\">\n",
       "      <th></th>\n",
       "      <th>idAviso</th>\n",
       "      <th>idpostulante</th>\n",
       "      <th>fechapostulacion</th>\n",
       "      <th>fechapostulacion_date</th>\n",
       "      <th>fechapostulacion_hour</th>\n",
       "      <th>cantidadVistas</th>\n",
       "      <th>is_online</th>\n",
       "      <th>idpais</th>\n",
       "      <th>titulo</th>\n",
       "      <th>descripcion</th>\n",
       "      <th>nombre_zona</th>\n",
       "      <th>ciudad</th>\n",
       "      <th>mapacalle</th>\n",
       "      <th>tipo_de_trabajo</th>\n",
       "      <th>nivel_laboral</th>\n",
       "      <th>nombre_area</th>\n",
       "      <th>denominacion_empresa</th>\n",
       "      <th>in_avisos_detalle</th>\n",
       "    </tr>\n",
       "  </thead>\n",
       "  <tbody>\n",
       "    <tr>\n",
       "      <th>0</th>\n",
       "      <td>1112241774</td>\n",
       "      <td>bOA2arb</td>\n",
       "      <td>2018-01-15 00:03:43</td>\n",
       "      <td>2018-01-15</td>\n",
       "      <td>0</td>\n",
       "      <td>2</td>\n",
       "      <td>1.0</td>\n",
       "      <td>1.0</td>\n",
       "      <td>Cajeros/Repositores Eventuales - GBA Zona Oeste</td>\n",
       "      <td>&lt;p&gt;&lt;span style=\"\"&gt;Importante empresa de retail...</td>\n",
       "      <td>Gran Buenos Aires</td>\n",
       "      <td>NaN</td>\n",
       "      <td>NaN</td>\n",
       "      <td>Full-time</td>\n",
       "      <td>Senior / Semi-Senior</td>\n",
       "      <td>Comercial</td>\n",
       "      <td>Manpower</td>\n",
       "      <td>1.0</td>\n",
       "    </tr>\n",
       "    <tr>\n",
       "      <th>1</th>\n",
       "      <td>1112241774</td>\n",
       "      <td>OqjAJvB</td>\n",
       "      <td>2018-01-15 05:25:59</td>\n",
       "      <td>2018-01-15</td>\n",
       "      <td>5</td>\n",
       "      <td>2</td>\n",
       "      <td>1.0</td>\n",
       "      <td>1.0</td>\n",
       "      <td>Cajeros/Repositores Eventuales - GBA Zona Oeste</td>\n",
       "      <td>&lt;p&gt;&lt;span style=\"\"&gt;Importante empresa de retail...</td>\n",
       "      <td>Gran Buenos Aires</td>\n",
       "      <td>NaN</td>\n",
       "      <td>NaN</td>\n",
       "      <td>Full-time</td>\n",
       "      <td>Senior / Semi-Senior</td>\n",
       "      <td>Comercial</td>\n",
       "      <td>Manpower</td>\n",
       "      <td>1.0</td>\n",
       "    </tr>\n",
       "    <tr>\n",
       "      <th>2</th>\n",
       "      <td>1112241774</td>\n",
       "      <td>8MPXrNO</td>\n",
       "      <td>2018-01-15 09:02:14</td>\n",
       "      <td>2018-01-15</td>\n",
       "      <td>9</td>\n",
       "      <td>1</td>\n",
       "      <td>1.0</td>\n",
       "      <td>1.0</td>\n",
       "      <td>Cajeros/Repositores Eventuales - GBA Zona Oeste</td>\n",
       "      <td>&lt;p&gt;&lt;span style=\"\"&gt;Importante empresa de retail...</td>\n",
       "      <td>Gran Buenos Aires</td>\n",
       "      <td>NaN</td>\n",
       "      <td>NaN</td>\n",
       "      <td>Full-time</td>\n",
       "      <td>Senior / Semi-Senior</td>\n",
       "      <td>Comercial</td>\n",
       "      <td>Manpower</td>\n",
       "      <td>1.0</td>\n",
       "    </tr>\n",
       "    <tr>\n",
       "      <th>3</th>\n",
       "      <td>1112241774</td>\n",
       "      <td>pzM9V6m</td>\n",
       "      <td>2018-01-15 16:18:09</td>\n",
       "      <td>2018-01-15</td>\n",
       "      <td>16</td>\n",
       "      <td>1</td>\n",
       "      <td>1.0</td>\n",
       "      <td>1.0</td>\n",
       "      <td>Cajeros/Repositores Eventuales - GBA Zona Oeste</td>\n",
       "      <td>&lt;p&gt;&lt;span style=\"\"&gt;Importante empresa de retail...</td>\n",
       "      <td>Gran Buenos Aires</td>\n",
       "      <td>NaN</td>\n",
       "      <td>NaN</td>\n",
       "      <td>Full-time</td>\n",
       "      <td>Senior / Semi-Senior</td>\n",
       "      <td>Comercial</td>\n",
       "      <td>Manpower</td>\n",
       "      <td>1.0</td>\n",
       "    </tr>\n",
       "    <tr>\n",
       "      <th>4</th>\n",
       "      <td>1112241774</td>\n",
       "      <td>ez9138</td>\n",
       "      <td>2018-01-16 11:10:18</td>\n",
       "      <td>2018-01-16</td>\n",
       "      <td>11</td>\n",
       "      <td>1</td>\n",
       "      <td>1.0</td>\n",
       "      <td>1.0</td>\n",
       "      <td>Cajeros/Repositores Eventuales - GBA Zona Oeste</td>\n",
       "      <td>&lt;p&gt;&lt;span style=\"\"&gt;Importante empresa de retail...</td>\n",
       "      <td>Gran Buenos Aires</td>\n",
       "      <td>NaN</td>\n",
       "      <td>NaN</td>\n",
       "      <td>Full-time</td>\n",
       "      <td>Senior / Semi-Senior</td>\n",
       "      <td>Comercial</td>\n",
       "      <td>Manpower</td>\n",
       "      <td>1.0</td>\n",
       "    </tr>\n",
       "  </tbody>\n",
       "</table>\n",
       "</div>"
      ],
      "text/plain": [
       "      idAviso idpostulante     fechapostulacion fechapostulacion_date  \\\n",
       "0  1112241774      bOA2arb  2018-01-15 00:03:43            2018-01-15   \n",
       "1  1112241774      OqjAJvB  2018-01-15 05:25:59            2018-01-15   \n",
       "2  1112241774      8MPXrNO  2018-01-15 09:02:14            2018-01-15   \n",
       "3  1112241774      pzM9V6m  2018-01-15 16:18:09            2018-01-15   \n",
       "4  1112241774       ez9138  2018-01-16 11:10:18            2018-01-16   \n",
       "\n",
       "   fechapostulacion_hour  cantidadVistas  is_online  idpais  \\\n",
       "0                      0               2        1.0     1.0   \n",
       "1                      5               2        1.0     1.0   \n",
       "2                      9               1        1.0     1.0   \n",
       "3                     16               1        1.0     1.0   \n",
       "4                     11               1        1.0     1.0   \n",
       "\n",
       "                                            titulo  \\\n",
       "0  Cajeros/Repositores Eventuales - GBA Zona Oeste   \n",
       "1  Cajeros/Repositores Eventuales - GBA Zona Oeste   \n",
       "2  Cajeros/Repositores Eventuales - GBA Zona Oeste   \n",
       "3  Cajeros/Repositores Eventuales - GBA Zona Oeste   \n",
       "4  Cajeros/Repositores Eventuales - GBA Zona Oeste   \n",
       "\n",
       "                                         descripcion        nombre_zona  \\\n",
       "0  <p><span style=\"\">Importante empresa de retail...  Gran Buenos Aires   \n",
       "1  <p><span style=\"\">Importante empresa de retail...  Gran Buenos Aires   \n",
       "2  <p><span style=\"\">Importante empresa de retail...  Gran Buenos Aires   \n",
       "3  <p><span style=\"\">Importante empresa de retail...  Gran Buenos Aires   \n",
       "4  <p><span style=\"\">Importante empresa de retail...  Gran Buenos Aires   \n",
       "\n",
       "  ciudad mapacalle tipo_de_trabajo         nivel_laboral nombre_area  \\\n",
       "0    NaN       NaN       Full-time  Senior / Semi-Senior   Comercial   \n",
       "1    NaN       NaN       Full-time  Senior / Semi-Senior   Comercial   \n",
       "2    NaN       NaN       Full-time  Senior / Semi-Senior   Comercial   \n",
       "3    NaN       NaN       Full-time  Senior / Semi-Senior   Comercial   \n",
       "4    NaN       NaN       Full-time  Senior / Semi-Senior   Comercial   \n",
       "\n",
       "  denominacion_empresa  in_avisos_detalle  \n",
       "0             Manpower                1.0  \n",
       "1             Manpower                1.0  \n",
       "2             Manpower                1.0  \n",
       "3             Manpower                1.0  \n",
       "4             Manpower                1.0  "
      ]
     },
     "execution_count": 138,
     "metadata": {},
     "output_type": "execute_result"
    }
   ],
   "source": [
    "postulaciones_detalladas.head()"
   ]
  },
  {
   "cell_type": "code",
   "execution_count": 155,
   "metadata": {},
   "outputs": [
    {
     "data": {
      "text/html": [
       "<div>\n",
       "<style>\n",
       "    .dataframe thead tr:only-child th {\n",
       "        text-align: right;\n",
       "    }\n",
       "\n",
       "    .dataframe thead th {\n",
       "        text-align: left;\n",
       "    }\n",
       "\n",
       "    .dataframe tbody tr th {\n",
       "        vertical-align: top;\n",
       "    }\n",
       "</style>\n",
       "<table border=\"1\" class=\"dataframe\">\n",
       "  <thead>\n",
       "    <tr style=\"text-align: right;\">\n",
       "      <th></th>\n",
       "      <th>variedadDeAreas</th>\n",
       "    </tr>\n",
       "    <tr>\n",
       "      <th>idpostulante</th>\n",
       "      <th></th>\n",
       "    </tr>\n",
       "  </thead>\n",
       "  <tbody>\n",
       "    <tr>\n",
       "      <th>0zB03O9</th>\n",
       "      <td>5</td>\n",
       "    </tr>\n",
       "    <tr>\n",
       "      <th>0zB0YGv</th>\n",
       "      <td>4</td>\n",
       "    </tr>\n",
       "    <tr>\n",
       "      <th>0zB0xL1</th>\n",
       "      <td>1</td>\n",
       "    </tr>\n",
       "    <tr>\n",
       "      <th>0zB11wr</th>\n",
       "      <td>1</td>\n",
       "    </tr>\n",
       "    <tr>\n",
       "      <th>0zB16Dr</th>\n",
       "      <td>1</td>\n",
       "    </tr>\n",
       "  </tbody>\n",
       "</table>\n",
       "</div>"
      ],
      "text/plain": [
       "              variedadDeAreas\n",
       "idpostulante                 \n",
       "0zB03O9                     5\n",
       "0zB0YGv                     4\n",
       "0zB0xL1                     1\n",
       "0zB11wr                     1\n",
       "0zB16Dr                     1"
      ]
     },
     "execution_count": 155,
     "metadata": {},
     "output_type": "execute_result"
    }
   ],
   "source": [
    "variedad_de_busquedas = pd.DataFrame(postulaciones_detalladas.groupby('idpostulante')['nombre_area'].agg('nunique'))\n",
    "variedad_de_busquedas.rename(columns={'nombre_area':'variedadDeAreas'}, inplace=True)\n",
    "variedad_de_busquedas.head()"
   ]
  },
  {
   "cell_type": "code",
   "execution_count": 156,
   "metadata": {},
   "outputs": [
    {
     "data": {
      "text/plain": [
       "1     34862\n",
       "2     17290\n",
       "3      9438\n",
       "4      5174\n",
       "5      3090\n",
       "6      1926\n",
       "7      1212\n",
       "8       811\n",
       "9       574\n",
       "10      363\n",
       "11      275\n",
       "12      187\n",
       "13      145\n",
       "14      108\n",
       "15       75\n",
       "16       63\n",
       "17       50\n",
       "19       33\n",
       "18       30\n",
       "20       29\n",
       "23       19\n",
       "21       17\n",
       "22       12\n",
       "24       11\n",
       "29        8\n",
       "25        7\n",
       "26        6\n",
       "27        6\n",
       "28        5\n",
       "31        5\n",
       "33        5\n",
       "40        3\n",
       "50        2\n",
       "30        2\n",
       "32        2\n",
       "42        2\n",
       "68        1\n",
       "62        1\n",
       "97        1\n",
       "34        1\n",
       "35        1\n",
       "36        1\n",
       "38        1\n",
       "41        1\n",
       "44        1\n",
       "48        1\n",
       "64        1\n",
       "Name: variedadDeAreas, dtype: int64"
      ]
     },
     "execution_count": 156,
     "metadata": {},
     "output_type": "execute_result"
    }
   ],
   "source": [
    "variedad_de_busquedas['variedadDeAreas'].value_counts()"
   ]
  },
  {
   "cell_type": "code",
   "execution_count": 157,
   "metadata": {},
   "outputs": [
    {
     "data": {
      "text/html": [
       "<div>\n",
       "<style>\n",
       "    .dataframe thead tr:only-child th {\n",
       "        text-align: right;\n",
       "    }\n",
       "\n",
       "    .dataframe thead th {\n",
       "        text-align: left;\n",
       "    }\n",
       "\n",
       "    .dataframe tbody tr th {\n",
       "        vertical-align: top;\n",
       "    }\n",
       "</style>\n",
       "<table border=\"1\" class=\"dataframe\">\n",
       "  <thead>\n",
       "    <tr style=\"text-align: right;\">\n",
       "      <th></th>\n",
       "      <th>idpostulante</th>\n",
       "      <th>variedadDeAreas</th>\n",
       "    </tr>\n",
       "  </thead>\n",
       "  <tbody>\n",
       "    <tr>\n",
       "      <th>0</th>\n",
       "      <td>0zB03O9</td>\n",
       "      <td>5</td>\n",
       "    </tr>\n",
       "    <tr>\n",
       "      <th>1</th>\n",
       "      <td>0zB0YGv</td>\n",
       "      <td>4</td>\n",
       "    </tr>\n",
       "    <tr>\n",
       "      <th>2</th>\n",
       "      <td>0zB0xL1</td>\n",
       "      <td>1</td>\n",
       "    </tr>\n",
       "    <tr>\n",
       "      <th>3</th>\n",
       "      <td>0zB11wr</td>\n",
       "      <td>1</td>\n",
       "    </tr>\n",
       "    <tr>\n",
       "      <th>4</th>\n",
       "      <td>0zB16Dr</td>\n",
       "      <td>1</td>\n",
       "    </tr>\n",
       "  </tbody>\n",
       "</table>\n",
       "</div>"
      ],
      "text/plain": [
       "  idpostulante  variedadDeAreas\n",
       "0      0zB03O9                5\n",
       "1      0zB0YGv                4\n",
       "2      0zB0xL1                1\n",
       "3      0zB11wr                1\n",
       "4      0zB16Dr                1"
      ]
     },
     "execution_count": 157,
     "metadata": {},
     "output_type": "execute_result"
    }
   ],
   "source": [
    "variedad_de_busquedas = variedad_de_busquedas.reset_index()\n",
    "variedad_de_busquedas.head()"
   ]
  },
  {
   "cell_type": "code",
   "execution_count": 158,
   "metadata": {},
   "outputs": [],
   "source": [
    "variedad_de_busquedas = pd.merge(variedad_de_busquedas, educacion, on = 'idpostulante')"
   ]
  },
  {
   "cell_type": "code",
   "execution_count": 159,
   "metadata": {},
   "outputs": [
    {
     "data": {
      "text/html": [
       "<div>\n",
       "<style>\n",
       "    .dataframe thead tr:only-child th {\n",
       "        text-align: right;\n",
       "    }\n",
       "\n",
       "    .dataframe thead th {\n",
       "        text-align: left;\n",
       "    }\n",
       "\n",
       "    .dataframe tbody tr th {\n",
       "        vertical-align: top;\n",
       "    }\n",
       "</style>\n",
       "<table border=\"1\" class=\"dataframe\">\n",
       "  <thead>\n",
       "    <tr style=\"text-align: right;\">\n",
       "      <th></th>\n",
       "      <th>idpostulante</th>\n",
       "      <th>variedadDeAreas</th>\n",
       "      <th>nombre</th>\n",
       "      <th>estado</th>\n",
       "      <th>nombre_num</th>\n",
       "      <th>estado_num</th>\n",
       "      <th>highest_level</th>\n",
       "      <th>in_educacion</th>\n",
       "    </tr>\n",
       "  </thead>\n",
       "  <tbody>\n",
       "    <tr>\n",
       "      <th>0</th>\n",
       "      <td>0zB03O9</td>\n",
       "      <td>5</td>\n",
       "      <td>Terciario/Técnico</td>\n",
       "      <td>En Curso</td>\n",
       "      <td>2</td>\n",
       "      <td>1</td>\n",
       "      <td>3</td>\n",
       "      <td>1</td>\n",
       "    </tr>\n",
       "    <tr>\n",
       "      <th>1</th>\n",
       "      <td>0zB0YGv</td>\n",
       "      <td>4</td>\n",
       "      <td>Universitario</td>\n",
       "      <td>Abandonado</td>\n",
       "      <td>3</td>\n",
       "      <td>0</td>\n",
       "      <td>3</td>\n",
       "      <td>1</td>\n",
       "    </tr>\n",
       "    <tr>\n",
       "      <th>2</th>\n",
       "      <td>0zB0xL1</td>\n",
       "      <td>1</td>\n",
       "      <td>Universitario</td>\n",
       "      <td>En Curso</td>\n",
       "      <td>3</td>\n",
       "      <td>1</td>\n",
       "      <td>4</td>\n",
       "      <td>1</td>\n",
       "    </tr>\n",
       "    <tr>\n",
       "      <th>3</th>\n",
       "      <td>0zB11wr</td>\n",
       "      <td>1</td>\n",
       "      <td>Universitario</td>\n",
       "      <td>Graduado</td>\n",
       "      <td>3</td>\n",
       "      <td>2</td>\n",
       "      <td>5</td>\n",
       "      <td>1</td>\n",
       "    </tr>\n",
       "    <tr>\n",
       "      <th>4</th>\n",
       "      <td>0zB16Dr</td>\n",
       "      <td>1</td>\n",
       "      <td>Universitario</td>\n",
       "      <td>En Curso</td>\n",
       "      <td>3</td>\n",
       "      <td>1</td>\n",
       "      <td>4</td>\n",
       "      <td>1</td>\n",
       "    </tr>\n",
       "  </tbody>\n",
       "</table>\n",
       "</div>"
      ],
      "text/plain": [
       "  idpostulante  variedadDeAreas             nombre      estado  nombre_num  \\\n",
       "0      0zB03O9                5  Terciario/Técnico    En Curso           2   \n",
       "1      0zB0YGv                4      Universitario  Abandonado           3   \n",
       "2      0zB0xL1                1      Universitario    En Curso           3   \n",
       "3      0zB11wr                1      Universitario    Graduado           3   \n",
       "4      0zB16Dr                1      Universitario    En Curso           3   \n",
       "\n",
       "   estado_num  highest_level  in_educacion  \n",
       "0           1              3             1  \n",
       "1           0              3             1  \n",
       "2           1              4             1  \n",
       "3           2              5             1  \n",
       "4           1              4             1  "
      ]
     },
     "execution_count": 159,
     "metadata": {},
     "output_type": "execute_result"
    }
   ],
   "source": [
    "variedad_de_busquedas.head()"
   ]
  },
  {
   "cell_type": "code",
   "execution_count": null,
   "metadata": {},
   "outputs": [],
   "source": [
    "#Ver como graficar la relacion entre variedad de areas y highest_level"
   ]
  },
  {
   "cell_type": "code",
   "execution_count": null,
   "metadata": {},
   "outputs": [],
   "source": []
  },
  {
   "cell_type": "code",
   "execution_count": 48,
   "metadata": {},
   "outputs": [
    {
     "data": {
      "text/html": [
       "<div>\n",
       "<style>\n",
       "    .dataframe thead tr:only-child th {\n",
       "        text-align: right;\n",
       "    }\n",
       "\n",
       "    .dataframe thead th {\n",
       "        text-align: left;\n",
       "    }\n",
       "\n",
       "    .dataframe tbody tr th {\n",
       "        vertical-align: top;\n",
       "    }\n",
       "</style>\n",
       "<table border=\"1\" class=\"dataframe\">\n",
       "  <thead>\n",
       "    <tr style=\"text-align: right;\">\n",
       "      <th></th>\n",
       "      <th>idAviso</th>\n",
       "      <th>timestamp</th>\n",
       "      <th>idpostulante</th>\n",
       "      <th>avisas_vistas_por_postulante</th>\n",
       "    </tr>\n",
       "  </thead>\n",
       "  <tbody>\n",
       "    <tr>\n",
       "      <th>0</th>\n",
       "      <td>1111780242</td>\n",
       "      <td>2018-02-23T13:38:13.187-0500</td>\n",
       "      <td>YjVJQ6Z</td>\n",
       "      <td>4</td>\n",
       "    </tr>\n",
       "    <tr>\n",
       "      <th>1</th>\n",
       "      <td>1112301574</td>\n",
       "      <td>2018-02-27T11:28:37.162-0500</td>\n",
       "      <td>YjVJQ6Z</td>\n",
       "      <td>4</td>\n",
       "    </tr>\n",
       "    <tr>\n",
       "      <th>2</th>\n",
       "      <td>1112319451</td>\n",
       "      <td>2018-02-27T11:26:31.101-0500</td>\n",
       "      <td>YjVJQ6Z</td>\n",
       "      <td>4</td>\n",
       "    </tr>\n",
       "    <tr>\n",
       "      <th>3</th>\n",
       "      <td>1112326950</td>\n",
       "      <td>2018-02-27T11:28:43.417-0500</td>\n",
       "      <td>YjVJQ6Z</td>\n",
       "      <td>4</td>\n",
       "    </tr>\n",
       "    <tr>\n",
       "      <th>4</th>\n",
       "      <td>1112263876</td>\n",
       "      <td>2018-02-23T13:38:14.296-0500</td>\n",
       "      <td>BmVpYoR</td>\n",
       "      <td>16</td>\n",
       "    </tr>\n",
       "  </tbody>\n",
       "</table>\n",
       "</div>"
      ],
      "text/plain": [
       "      idAviso                     timestamp idpostulante  \\\n",
       "0  1111780242  2018-02-23T13:38:13.187-0500      YjVJQ6Z   \n",
       "1  1112301574  2018-02-27T11:28:37.162-0500      YjVJQ6Z   \n",
       "2  1112319451  2018-02-27T11:26:31.101-0500      YjVJQ6Z   \n",
       "3  1112326950  2018-02-27T11:28:43.417-0500      YjVJQ6Z   \n",
       "4  1112263876  2018-02-23T13:38:14.296-0500      BmVpYoR   \n",
       "\n",
       "   avisas_vistas_por_postulante  \n",
       "0                             4  \n",
       "1                             4  \n",
       "2                             4  \n",
       "3                             4  \n",
       "4                            16  "
      ]
     },
     "execution_count": 48,
     "metadata": {},
     "output_type": "execute_result"
    }
   ],
   "source": [
    "vistas.head()"
   ]
  }
 ],
 "metadata": {
  "kernelspec": {
   "display_name": "Python 3",
   "language": "python",
   "name": "python3"
  },
  "language_info": {
   "codemirror_mode": {
    "name": "ipython",
    "version": 3
   },
   "file_extension": ".py",
   "mimetype": "text/x-python",
   "name": "python",
   "nbconvert_exporter": "python",
   "pygments_lexer": "ipython3",
   "version": "3.6.3"
  }
 },
 "nbformat": 4,
 "nbformat_minor": 2
}
