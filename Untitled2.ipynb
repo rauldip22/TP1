{
 "cells": [
  {
   "cell_type": "code",
   "execution_count": 3,
   "metadata": {},
   "outputs": [],
   "source": [
    "import pandas as pd\n",
    "import numpy as np\n",
    "from matplotlib import pyplot as plt"
   ]
  },
  {
   "cell_type": "code",
   "execution_count": 4,
   "metadata": {},
   "outputs": [],
   "source": [
    "path = 'C:\\\\Users\\\\RAUL\\\\Documents\\\\'"
   ]
  },
  {
   "cell_type": "code",
   "execution_count": 5,
   "metadata": {},
   "outputs": [],
   "source": [
    "post_Educ = pd.read_csv(path + 'fiuba_1_postulantes_educacion.csv')\n",
    "post_GyE = pd.read_csv(path + 'fiuba_2_postulantes_genero_y_edad.csv')\n",
    "vistas = pd.read_csv(path + 'fiuba_3_vistas.csv')\n",
    "postulaciones = pd.read_csv(path + 'fiuba_4_postulaciones.csv')\n",
    "avisos = pd.read_csv(path + 'fiuba_5_avisos_online.csv')\n",
    "avisos_Dt = pd.read_csv(path + 'fiuba_6_avisos_detalle.csv')"
   ]
  },
  {
   "cell_type": "code",
   "execution_count": 6,
   "metadata": {},
   "outputs": [],
   "source": [
    "vistas.columns = ['idaviso', 'fechaVista', 'idPostulante']"
   ]
  },
  {
   "cell_type": "code",
   "execution_count": 7,
   "metadata": {},
   "outputs": [],
   "source": [
    "vistas_con_avisos = vistas.merge(avisos_Dt, on='idaviso')"
   ]
  },
  {
   "cell_type": "code",
   "execution_count": 25,
   "metadata": {},
   "outputs": [
    {
     "data": {
      "text/plain": [
       "Ventas                                   128025\n",
       "Administración                           102812\n",
       "Producción                                64485\n",
       "Comercial                                 58885\n",
       "Atención al Cliente                       49203\n",
       "Recepcionista                             48756\n",
       "Call Center                               33344\n",
       "Telemarketing                             25258\n",
       "Tesorería                                 23682\n",
       "Mantenimiento y Limpieza                  23499\n",
       "Contabilidad                              19491\n",
       "Recursos Humanos                          17541\n",
       "Gastronomia                               14710\n",
       "Secretaria                                12816\n",
       "Farmacéutica                              12814\n",
       "Almacén / Depósito / Expedición           12794\n",
       "Camareros                                 12648\n",
       "Legal                                     11023\n",
       "Administración de Personal                10650\n",
       "Logística                                 10193\n",
       "Créditos y Cobranzas                       9946\n",
       "Mantenimiento                              8562\n",
       "Salud                                      8440\n",
       "Otros                                      8387\n",
       "Finanzas                                   7931\n",
       "Compras                                    7920\n",
       "Marketing                                  7751\n",
       "Transporte                                 7105\n",
       "Soporte Técnico                            7038\n",
       "Oficios y Profesiones                      6978\n",
       "                                          ...  \n",
       "Creatividad                                 158\n",
       "Diseño Multimedia                           139\n",
       "Ingeniería en Minas                         138\n",
       "Bioquímica                                  136\n",
       "Emergentología                              136\n",
       "Independientes                              134\n",
       "Ingeniería de Ventas                        121\n",
       "Internet                                    105\n",
       "Ingeniería en Petróleo y Petroquímica       105\n",
       "Investigación y Desarrollo                  104\n",
       "Farmacia hospitalaria                        78\n",
       "Administración de Base de Datos              63\n",
       "Negocios Internacionales                     57\n",
       "Instrumentación                              54\n",
       "Medio Ambiente                               48\n",
       "Idiomas                                      40\n",
       "Comercio Exterior                            37\n",
       "Multimedia                                   30\n",
       "Veterinaria                                  29\n",
       "Diseño 3D                                    27\n",
       "Finanzas Internacionales                     25\n",
       "Data Warehousing                             20\n",
       "Traduccion                                   15\n",
       "Ingeniería Geológica                         14\n",
       "Dirección                                    14\n",
       "Comunicaciones Externas                      10\n",
       "Tecnico de Seguros                            8\n",
       "Exploración Minera y Petroquimica             4\n",
       "Trabajo Social                                2\n",
       "Responsabilidad Social                        1\n",
       "Name: nombre_area, Length: 160, dtype: int64"
      ]
     },
     "execution_count": 25,
     "metadata": {},
     "output_type": "execute_result"
    }
   ],
   "source": [
    "vistas_con_avisos['nombre_area'].value_counts().sort_values(ascending = False)"
   ]
  },
  {
   "cell_type": "code",
   "execution_count": 32,
   "metadata": {},
   "outputs": [],
   "source": [
    "#El area con mas visitas es Ventas"
   ]
  },
  {
   "cell_type": "code",
   "execution_count": 33,
   "metadata": {},
   "outputs": [
    {
     "data": {
      "text/plain": [
       "Ventas                                   1659\n",
       "Comercial                                 983\n",
       "Administración                            901\n",
       "Producción                                821\n",
       "Programación                              576\n",
       "Contabilidad                              416\n",
       "Tecnologia / Sistemas                     388\n",
       "Atención al Cliente                       347\n",
       "Mantenimiento                             324\n",
       "Recursos Humanos                          235\n",
       "Gastronomia                               234\n",
       "Oficios y Profesiones                     209\n",
       "Soporte Técnico                           203\n",
       "Logística                                 200\n",
       "Call Center                               191\n",
       "Almacén / Depósito / Expedición           184\n",
       "Compras                                   170\n",
       "Otros                                     153\n",
       "Marketing                                 153\n",
       "Administración de Personal                152\n",
       "Recepcionista                             151\n",
       "Transporte                                148\n",
       "Mantenimiento y Limpieza                  141\n",
       "Finanzas                                  138\n",
       "Telemarketing                             138\n",
       "Tesorería                                 137\n",
       "Créditos y Cobranzas                      132\n",
       "Salud                                     127\n",
       "Desarrollo de Negocios                    126\n",
       "Medicina                                  119\n",
       "                                         ... \n",
       "Comunicaciones Internas                     3\n",
       "Topografía                                  2\n",
       "Ingeniería Geológica                        2\n",
       "Dirección                                   2\n",
       "Trabajo Social                              2\n",
       "Diseño Multimedia                           2\n",
       "Educación especial                          2\n",
       "Otras áreas técnicas en salud               2\n",
       "Trabajo social                              2\n",
       "Medicina Laboral                            2\n",
       "Responsabilidad Social                      2\n",
       "Data Warehousing                            2\n",
       "Diseño 3D                                   2\n",
       "Farmacia comercial                          2\n",
       "Instrumentación                             2\n",
       "Mercadotecnia Internacional                 2\n",
       "Emergentología                              1\n",
       "Bienestar Estudiantil                       1\n",
       "Arte y Cultura                              1\n",
       "Exploración Minera y Petroquimica           1\n",
       "Farmacia hospitalaria                       1\n",
       "Comunicaciones Externas                     1\n",
       "Instrumentación quirúrgica                  1\n",
       "Idiomas                                     1\n",
       "Quimica                                     1\n",
       "Traduccion                                  1\n",
       "Otras Especialidades médicas                1\n",
       "Ingeniería en Petróleo y Petroquímica       1\n",
       "Telefonista                                 1\n",
       "Urbanismo                                   1\n",
       "Name: nombre_area, Length: 173, dtype: int64"
      ]
     },
     "execution_count": 33,
     "metadata": {},
     "output_type": "execute_result"
    }
   ],
   "source": [
    "(avisos_Dt['nombre_area'].value_counts())"
   ]
  },
  {
   "cell_type": "code",
   "execution_count": 27,
   "metadata": {},
   "outputs": [
    {
     "data": {
      "text/plain": [
       "Telefonista                             707.000000\n",
       "Otras áreas técnicas en salud           452.000000\n",
       "Diseño Web                              334.500000\n",
       "Recepcionista                           322.887417\n",
       "Secretaria                              278.608696\n",
       "Asistente                               276.318182\n",
       "Camareros                               263.500000\n",
       "Promotoras/es                           205.250000\n",
       "Caja                                    199.454545\n",
       "Telemarketing                           183.028986\n",
       "Call Center                             174.575916\n",
       "Tesorería                               172.861314\n",
       "Farmacéutica                            170.853333\n",
       "Community Management                    169.190476\n",
       "Mantenimiento y Limpieza                166.659574\n",
       "Diseño de Interiores / Decoración       161.000000\n",
       "Venta de Seguros                        154.000000\n",
       "Atención al Cliente                     141.795389\n",
       "Asesoría Legal Internacional            141.500000\n",
       "Emergentología                          136.000000\n",
       "Inversiones / Proyectos de Inversión    131.250000\n",
       "Data Entry                              130.230769\n",
       "Comunicacion                            126.434783\n",
       "Cadetería                               120.790698\n",
       "Hotelería                               119.068966\n",
       "Pasantía / Trainee                      115.227273\n",
       "Administración                          114.108768\n",
       "Back Office                             113.666667\n",
       "Consultorías Comercio Exterior          110.314286\n",
       "Ventas Internacionales/Exportación      106.166667\n",
       "                                           ...    \n",
       "Tecnologías de la Información            11.027778\n",
       "Comunicaciones Externas                  10.000000\n",
       "Data Warehousing                         10.000000\n",
       "Medio Ambiente                            9.600000\n",
       "Ingeniería de Ventas                      7.562500\n",
       "Multimedia                                7.500000\n",
       "Dirección                                 7.000000\n",
       "Ingeniería Geológica                      7.000000\n",
       "Comercio Exterior                         5.285714\n",
       "Finanzas Internacionales                  5.000000\n",
       "Veterinaria                               4.833333\n",
       "Programación                              4.217014\n",
       "Exploración Minera y Petroquimica         4.000000\n",
       "Administración de Base de Datos           3.937500\n",
       "Tecnico de Seguros                        2.000000\n",
       "Trabajo Social                            1.000000\n",
       "Responsabilidad Social                    0.500000\n",
       "Arte y Cultura                                 NaN\n",
       "Auditoría Médica                               NaN\n",
       "Bienestar Estudiantil                          NaN\n",
       "Farmacia comercial                             NaN\n",
       "Farmacia industrial                            NaN\n",
       "Instrumentación quirúrgica                     NaN\n",
       "Medicina Laboral                               NaN\n",
       "Mercadotecnia Internacional                    NaN\n",
       "Otras Especialidades médicas                   NaN\n",
       "Quimica                                        NaN\n",
       "Topografía                                     NaN\n",
       "Trabajo social                                 NaN\n",
       "Urbanismo                                      NaN\n",
       "Name: nombre_area, Length: 173, dtype: float64"
      ]
     },
     "execution_count": 27,
     "metadata": {},
     "output_type": "execute_result"
    }
   ],
   "source": [
    "(vistas_con_avisos['nombre_area'].value_counts()/(avisos_Dt['nombre_area'].value_counts())).sort_values(ascending = False)"
   ]
  },
  {
   "cell_type": "code",
   "execution_count": 28,
   "metadata": {},
   "outputs": [],
   "source": [
    "#El area con mas visitas por aviso es Telefonista"
   ]
  },
  {
   "cell_type": "code",
   "execution_count": 35,
   "metadata": {},
   "outputs": [
    {
     "data": {
      "text/plain": [
       "77.16998191681736"
      ]
     },
     "execution_count": 35,
     "metadata": {},
     "output_type": "execute_result"
    }
   ],
   "source": []
  },
  {
   "cell_type": "code",
   "execution_count": null,
   "metadata": {},
   "outputs": [],
   "source": []
  },
  {
   "cell_type": "code",
   "execution_count": null,
   "metadata": {},
   "outputs": [],
   "source": []
  }
 ],
 "metadata": {
  "kernelspec": {
   "display_name": "Python 3",
   "language": "python",
   "name": "python3"
  },
  "language_info": {
   "codemirror_mode": {
    "name": "ipython",
    "version": 3
   },
   "file_extension": ".py",
   "mimetype": "text/x-python",
   "name": "python",
   "nbconvert_exporter": "python",
   "pygments_lexer": "ipython3",
   "version": "3.6.4"
  }
 },
 "nbformat": 4,
 "nbformat_minor": 2
}
